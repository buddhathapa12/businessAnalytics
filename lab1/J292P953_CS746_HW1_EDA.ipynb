{
 "cells": [
  {
   "cell_type": "markdown",
   "id": "b1f0279e-f8af-4079-af42-ac6bad50bfb8",
   "metadata": {},
   "source": [
    "## INSTRUCTIONS - IMPORTANT:\n",
    "\n",
    "Every student is expected to submit their own, original solutions for this assignment. While collaborative discussions among classmates are encouraged for better understanding, it is crucial that the work you submit is your own. Copying or replicating someone else's solutions is a breach of academic integrity and will not be tolerated. The use of **AI tools** is also **prohibited** for this assignment."
   ]
  },
  {
   "cell_type": "markdown",
   "id": "1596d825",
   "metadata": {},
   "source": [
    "The dataset used in this assignment is derived from Inside Airbnb, available [here](http://data.insideairbnb.com/the-netherlands/north-holland/amsterdam/2023-06-05/visualisations/listings.csv). It is licensed under a [Creative Commons Attribution 4.0 International License](https://creativecommons.org/licenses/by/4.0/).\n",
    "\n",
    "**Please note that this dataset has been modified and adapted for the scope of this academic assignment. If you are interested in the original data or further Airbnb datasets, we encourage you to visit Inside Airbnb's website: [insideairbnb.com](http://insideairbnb.com).**\n"
   ]
  },
  {
   "cell_type": "markdown",
   "id": "8b607200-74f5-436a-95e1-b3d9d8f0518f",
   "metadata": {},
   "source": [
    "<h3> This assignment is divided into two main components: </h3>\n",
    "\n",
    "1. **Data Manipulation**: Focused on cleaning and preparing the dataset.\n",
    "2. **Exploratory Data Analysis (EDA)**: Concentrated on analyzing and interpreting the data."
   ]
  },
  {
   "cell_type": "markdown",
   "id": "f2900ce9",
   "metadata": {},
   "source": [
    "# PART-1 (Data Cleaning and Manipulation)\n",
    "\n",
    "We will begin by importing the required modules and reading the data file."
   ]
  },
  {
   "cell_type": "code",
   "execution_count": 1,
   "id": "82a7ff87-b67e-4670-83b6-5725b6abea96",
   "metadata": {
    "tags": []
   },
   "outputs": [],
   "source": [
    "import numpy as np\n",
    "from sklearn.datasets import load_iris\n",
    "from sklearn import preprocessing\n",
    "import pandas as pd\n",
    "import seaborn as sns\n",
    "from scipy import stats\n",
    "import matplotlib.pyplot as plt\n",
    "%matplotlib inline"
   ]
  },
  {
   "cell_type": "code",
   "execution_count": 2,
   "id": "3e33b6df-3ad0-418e-8088-958ddd75adb3",
   "metadata": {
    "tags": []
   },
   "outputs": [],
   "source": [
    "df = pd.read_csv(\"airbnb_final.csv\")"
   ]
  },
  {
   "cell_type": "code",
   "execution_count": 3,
   "id": "ab68d38f-2401-44b3-b8a8-fefb50045393",
   "metadata": {
    "tags": []
   },
   "outputs": [
    {
     "data": {
      "text/html": [
       "<div>\n",
       "<style scoped>\n",
       "    .dataframe tbody tr th:only-of-type {\n",
       "        vertical-align: middle;\n",
       "    }\n",
       "\n",
       "    .dataframe tbody tr th {\n",
       "        vertical-align: top;\n",
       "    }\n",
       "\n",
       "    .dataframe thead th {\n",
       "        text-align: right;\n",
       "    }\n",
       "</style>\n",
       "<table border=\"1\" class=\"dataframe\">\n",
       "  <thead>\n",
       "    <tr style=\"text-align: right;\">\n",
       "      <th></th>\n",
       "      <th>host_id</th>\n",
       "      <th>neighbourhood</th>\n",
       "      <th>latitude</th>\n",
       "      <th>longitude</th>\n",
       "      <th>room_type</th>\n",
       "      <th>price in $</th>\n",
       "      <th>minimum_nights</th>\n",
       "      <th>availability_365</th>\n",
       "      <th>Apartment_type</th>\n",
       "      <th>City</th>\n",
       "      <th>Rating</th>\n",
       "      <th>No_of_bed_rooms</th>\n",
       "      <th>No_of_beds</th>\n",
       "      <th>No_of_bathrooms</th>\n",
       "      <th>Bathroom_type</th>\n",
       "    </tr>\n",
       "  </thead>\n",
       "  <tbody>\n",
       "    <tr>\n",
       "      <th>0</th>\n",
       "      <td>3159.0</td>\n",
       "      <td>Oostelijk Havengebied - Indische Buurt</td>\n",
       "      <td>52.36435</td>\n",
       "      <td>4.94358</td>\n",
       "      <td>Private room</td>\n",
       "      <td>69.0</td>\n",
       "      <td>3.0</td>\n",
       "      <td>7.0</td>\n",
       "      <td>Condo</td>\n",
       "      <td>Amsterdam</td>\n",
       "      <td>4.89</td>\n",
       "      <td>1.0</td>\n",
       "      <td>1.0</td>\n",
       "      <td>1.5</td>\n",
       "      <td>shared</td>\n",
       "    </tr>\n",
       "    <tr>\n",
       "      <th>1</th>\n",
       "      <td>59484.0</td>\n",
       "      <td>Centrum-Oost</td>\n",
       "      <td>52.36407</td>\n",
       "      <td>4.89393</td>\n",
       "      <td>Private room</td>\n",
       "      <td>106.0</td>\n",
       "      <td>1.0</td>\n",
       "      <td>0.0</td>\n",
       "      <td>Townhouse</td>\n",
       "      <td>Amsterdam</td>\n",
       "      <td>4.44</td>\n",
       "      <td>1.0</td>\n",
       "      <td>1.0</td>\n",
       "      <td>NaN</td>\n",
       "      <td>private</td>\n",
       "    </tr>\n",
       "    <tr>\n",
       "      <th>2</th>\n",
       "      <td>1100324.0</td>\n",
       "      <td>De Pijp - Rivierenbuurt</td>\n",
       "      <td>52.35150</td>\n",
       "      <td>4.89656</td>\n",
       "      <td>Entire home/apt</td>\n",
       "      <td>270.0</td>\n",
       "      <td>4.0</td>\n",
       "      <td>2.0</td>\n",
       "      <td>Rental unit</td>\n",
       "      <td>Amsterdam</td>\n",
       "      <td>4.86</td>\n",
       "      <td>3.0</td>\n",
       "      <td>3.0</td>\n",
       "      <td>1.5</td>\n",
       "      <td>private</td>\n",
       "    </tr>\n",
       "    <tr>\n",
       "      <th>3</th>\n",
       "      <td>748161.0</td>\n",
       "      <td>Oud-Oost</td>\n",
       "      <td>52.36420</td>\n",
       "      <td>4.92829</td>\n",
       "      <td>Entire home/apt</td>\n",
       "      <td>200.0</td>\n",
       "      <td>3.0</td>\n",
       "      <td>0.0</td>\n",
       "      <td>Rental unit</td>\n",
       "      <td>Amsterdam</td>\n",
       "      <td>4.76</td>\n",
       "      <td>1.0</td>\n",
       "      <td>1.0</td>\n",
       "      <td>1.5</td>\n",
       "      <td>private</td>\n",
       "    </tr>\n",
       "    <tr>\n",
       "      <th>4</th>\n",
       "      <td>97647.0</td>\n",
       "      <td>Centrum-West</td>\n",
       "      <td>52.38761</td>\n",
       "      <td>4.89188</td>\n",
       "      <td>Private room</td>\n",
       "      <td>137.0</td>\n",
       "      <td>3.0</td>\n",
       "      <td>0.0</td>\n",
       "      <td>Houseboat</td>\n",
       "      <td>Amsterdam</td>\n",
       "      <td>4.94</td>\n",
       "      <td>1.0</td>\n",
       "      <td>1.0</td>\n",
       "      <td>1.5</td>\n",
       "      <td>private</td>\n",
       "    </tr>\n",
       "  </tbody>\n",
       "</table>\n",
       "</div>"
      ],
      "text/plain": [
       "     host_id                           neighbourhood  latitude  longitude  \\\n",
       "0     3159.0  Oostelijk Havengebied - Indische Buurt  52.36435    4.94358   \n",
       "1    59484.0                            Centrum-Oost  52.36407    4.89393   \n",
       "2  1100324.0                 De Pijp - Rivierenbuurt  52.35150    4.89656   \n",
       "3   748161.0                                Oud-Oost  52.36420    4.92829   \n",
       "4    97647.0                            Centrum-West  52.38761    4.89188   \n",
       "\n",
       "         room_type  price in $  minimum_nights  availability_365  \\\n",
       "0     Private room        69.0             3.0               7.0   \n",
       "1     Private room       106.0             1.0               0.0   \n",
       "2  Entire home/apt       270.0             4.0               2.0   \n",
       "3  Entire home/apt       200.0             3.0               0.0   \n",
       "4     Private room       137.0             3.0               0.0   \n",
       "\n",
       "  Apartment_type       City  Rating  No_of_bed_rooms  No_of_beds  \\\n",
       "0          Condo  Amsterdam    4.89              1.0         1.0   \n",
       "1      Townhouse  Amsterdam    4.44              1.0         1.0   \n",
       "2    Rental unit  Amsterdam    4.86              3.0         3.0   \n",
       "3    Rental unit  Amsterdam    4.76              1.0         1.0   \n",
       "4      Houseboat  Amsterdam    4.94              1.0         1.0   \n",
       "\n",
       "   No_of_bathrooms Bathroom_type  \n",
       "0              1.5        shared  \n",
       "1              NaN       private  \n",
       "2              1.5       private  \n",
       "3              1.5       private  \n",
       "4              1.5       private  "
      ]
     },
     "execution_count": 3,
     "metadata": {},
     "output_type": "execute_result"
    }
   ],
   "source": [
    "df.head()"
   ]
  },
  {
   "cell_type": "markdown",
   "id": "c065dce8",
   "metadata": {},
   "source": [
    "### 1.1. **What is the shape of the dataset?**"
   ]
  },
  {
   "cell_type": "code",
   "execution_count": 4,
   "id": "24dcb753-4172-43d8-b484-081f9ebbbaa2",
   "metadata": {
    "tags": []
   },
   "outputs": [
    {
     "data": {
      "text/plain": [
       "(7608, 15)"
      ]
     },
     "execution_count": 4,
     "metadata": {},
     "output_type": "execute_result"
    }
   ],
   "source": [
    "#Code goes here\n",
    "df.shape"
   ]
  },
  {
   "cell_type": "markdown",
   "id": "53955378",
   "metadata": {},
   "source": [
    "### 1.2 **Identify the data types of each column. Are there any columns that need type conversion?**"
   ]
  },
  {
   "cell_type": "code",
   "execution_count": 5,
   "id": "26c488ac-4992-4e8f-b3bb-e31ce5373c20",
   "metadata": {
    "tags": []
   },
   "outputs": [
    {
     "data": {
      "text/plain": [
       "host_id             float64\n",
       "neighbourhood        object\n",
       "latitude            float64\n",
       "longitude           float64\n",
       "room_type            object\n",
       "price in $          float64\n",
       "minimum_nights      float64\n",
       "availability_365    float64\n",
       "Apartment_type       object\n",
       "City                 object\n",
       "Rating              float64\n",
       "No_of_bed_rooms     float64\n",
       "No_of_beds          float64\n",
       "No_of_bathrooms     float64\n",
       "Bathroom_type        object\n",
       "dtype: object"
      ]
     },
     "execution_count": 5,
     "metadata": {},
     "output_type": "execute_result"
    }
   ],
   "source": [
    "# 1.2.1 Code to identify data types goes here.\n",
    "df.dtypes"
   ]
  },
  {
   "cell_type": "markdown",
   "id": "9021b0c5",
   "metadata": {},
   "source": [
    "List the columns that need their type changed.\n",
    "1. host_id needs to be changed to object or integer\n",
    "2. minimum_nights to be changed to integer\n",
    "3. availability_365 to be changed to integer\n",
    "4. No_of_bed_rooms to be changed to integer\n",
    "5. No_of_beds to be changed to integer"
   ]
  },
  {
   "cell_type": "code",
   "execution_count": 9,
   "id": "5fd686a9-b4f8-49af-8b1c-0423374cdbbc",
   "metadata": {
    "tags": []
   },
   "outputs": [
    {
     "data": {
      "text/plain": [
       "host_id               Int64\n",
       "neighbourhood        object\n",
       "latitude            float64\n",
       "longitude           float64\n",
       "room_type            object\n",
       "price in $          float64\n",
       "minimum_nights      float64\n",
       "availability_365    float64\n",
       "Apartment_type       object\n",
       "City                 object\n",
       "Rating              float64\n",
       "No_of_bed_rooms     float64\n",
       "No_of_beds          float64\n",
       "No_of_bathrooms     float64\n",
       "Bathroom_type        object\n",
       "dtype: object"
      ]
     },
     "execution_count": 9,
     "metadata": {},
     "output_type": "execute_result"
    }
   ],
   "source": [
    "# 1.2.3 change the host_id column to an integer \n",
    "df['host_id'] = df['host_id'].astype('Int64')# NAN values can be handled by Int64\n",
    "df.dtypes\n"
   ]
  },
  {
   "cell_type": "markdown",
   "id": "7684276b",
   "metadata": {},
   "source": [
    "### 1.3. **Are there any duplicate rows in the dataset? If yes, how would you handle them?**"
   ]
  },
  {
   "cell_type": "code",
   "execution_count": 11,
   "id": "c1988573-15f6-47b3-acf9-2e57ac5decaf",
   "metadata": {
    "tags": []
   },
   "outputs": [
    {
     "data": {
      "text/plain": [
       "0"
      ]
     },
     "execution_count": 11,
     "metadata": {},
     "output_type": "execute_result"
    }
   ],
   "source": [
    "# 1.3.1 check for duplicate values\n",
    "dups = df.duplicated(subset=['host_id','neighbourhood','latitude', 'longitude', 'room_type', 'price in $', 'availability_365', 'Apartment_type', 'City', 'Rating', 'No_of_bed_rooms', 'No_of_beds', 'No_of_bathrooms', 'Bathroom_type'])\n",
    "num_duplicates = dups.sum()\n",
    "num_duplicates"
   ]
  },
  {
   "cell_type": "raw",
   "id": "f345e347",
   "metadata": {},
   "source": [
    "1.3.2 How would you handle duplicate rows?\n",
    "There are many duplicate values in any column but there are no duplicate rows.\n",
    "If there are any duplicate rows, I would apply the following logic to remove them.\n",
    "no_dups = df.drop_duplicates()\n",
    "no_dups"
   ]
  },
  {
   "cell_type": "markdown",
   "id": "82b7d3f0",
   "metadata": {},
   "source": [
    "### 1.4. **Check for missing values, How would you handle the missing values in the dataset?**"
   ]
  },
  {
   "cell_type": "code",
   "execution_count": 12,
   "id": "40a3d1d9-1d7d-48ed-a30f-70875176eed1",
   "metadata": {
    "tags": []
   },
   "outputs": [
    {
     "data": {
      "text/plain": [
       "host_id                6\n",
       "neighbourhood          0\n",
       "latitude               4\n",
       "longitude              6\n",
       "room_type              0\n",
       "price in $            10\n",
       "minimum_nights         9\n",
       "availability_365       1\n",
       "Apartment_type         1\n",
       "City                   1\n",
       "Rating              1578\n",
       "No_of_bed_rooms      284\n",
       "No_of_beds            17\n",
       "No_of_bathrooms      804\n",
       "Bathroom_type          1\n",
       "dtype: int64"
      ]
     },
     "execution_count": 12,
     "metadata": {},
     "output_type": "execute_result"
    }
   ],
   "source": [
    "# 1.4.1 check for missing values\n",
    "miss_vals = df.isnull().sum()\n",
    "miss_vals\n"
   ]
  },
  {
   "cell_type": "code",
   "execution_count": null,
   "id": "151dd565",
   "metadata": {},
   "outputs": [],
   "source": []
  },
  {
   "cell_type": "raw",
   "id": "b5e13ce7",
   "metadata": {},
   "source": [
    "1.4.2 List some ways you might handle columns with missing values.\n",
    "1. Eliminate the rows having the missing values.\n",
    "2. Replace the null values with mean, median or mode of that particular column."
   ]
  },
  {
   "cell_type": "code",
   "execution_count": 16,
   "id": "1daaf9d4-38d3-4876-b32c-41729b16c03b",
   "metadata": {
    "tags": []
   },
   "outputs": [
    {
     "name": "stderr",
     "output_type": "stream",
     "text": [
      "/tmp/ipykernel_56833/3231781390.py:3: FutureWarning: A value is trying to be set on a copy of a DataFrame or Series through chained assignment using an inplace method.\n",
      "The behavior will change in pandas 3.0. This inplace method will never work because the intermediate object on which we are setting values always behaves as a copy.\n",
      "\n",
      "For example, when doing 'df[col].method(value, inplace=True)', try using 'df.method({col: value}, inplace=True)' or df[col] = df[col].method(value) instead, to perform the operation inplace on the original object.\n",
      "\n",
      "\n",
      "  df['price in $'].fillna(MeanPrice, inplace=True)\n"
     ]
    }
   ],
   "source": [
    "# 1.4.3 Populate missing values in the 'price in $' column with the mean.\n",
    "MeanPrice = df['price in $'].mean()\n",
    "df['price in $'].fillna(MeanPrice, inplace=True)"
   ]
  },
  {
   "cell_type": "code",
   "execution_count": 17,
   "id": "be21ec60-ba4e-4404-816d-de71c4b9ddd8",
   "metadata": {
    "tags": []
   },
   "outputs": [
    {
     "data": {
      "text/plain": [
       "0"
      ]
     },
     "execution_count": 17,
     "metadata": {},
     "output_type": "execute_result"
    }
   ],
   "source": [
    "# 1.4.4 Verify that there are no more missing values in the 'price in $' column\n",
    "Price_as_Null = df['price in $'].isnull().sum()\n",
    "Price_as_Null"
   ]
  },
  {
   "cell_type": "code",
   "execution_count": 18,
   "id": "f1eca599",
   "metadata": {},
   "outputs": [],
   "source": [
    "# 1.4.5 Populate all missing values in the City column with \"Amsterdam\"\n",
    "df['City'].fillna('Amsterdam', inplace=True)"
   ]
  },
  {
   "cell_type": "code",
   "execution_count": 19,
   "id": "f31b257c",
   "metadata": {},
   "outputs": [
    {
     "data": {
      "text/plain": [
       "0"
      ]
     },
     "execution_count": 19,
     "metadata": {},
     "output_type": "execute_result"
    }
   ],
   "source": [
    "# 1.4.6 Verify that there are no more missing values in the 'City' column\n",
    "missing_city_values = df['City'].isnull().sum()\n",
    "missing_city_values"
   ]
  },
  {
   "cell_type": "code",
   "execution_count": 20,
   "id": "ab8e99e2-77ae-49b3-aa38-e0730af0fae5",
   "metadata": {
    "tags": []
   },
   "outputs": [],
   "source": [
    "# 1.4.7 Drop all remaining rows with missing data. Store the result in a new dataframe called df2.\n",
    "df2 = df.dropna()"
   ]
  },
  {
   "cell_type": "code",
   "execution_count": 21,
   "id": "07326fa3-872b-43d5-9e07-d9b291ab4446",
   "metadata": {
    "tags": []
   },
   "outputs": [
    {
     "data": {
      "text/html": [
       "<div>\n",
       "<style scoped>\n",
       "    .dataframe tbody tr th:only-of-type {\n",
       "        vertical-align: middle;\n",
       "    }\n",
       "\n",
       "    .dataframe tbody tr th {\n",
       "        vertical-align: top;\n",
       "    }\n",
       "\n",
       "    .dataframe thead th {\n",
       "        text-align: right;\n",
       "    }\n",
       "</style>\n",
       "<table border=\"1\" class=\"dataframe\">\n",
       "  <thead>\n",
       "    <tr style=\"text-align: right;\">\n",
       "      <th></th>\n",
       "      <th>host_id</th>\n",
       "      <th>neighbourhood</th>\n",
       "      <th>latitude</th>\n",
       "      <th>longitude</th>\n",
       "      <th>room_type</th>\n",
       "      <th>price in $</th>\n",
       "      <th>minimum_nights</th>\n",
       "      <th>availability_365</th>\n",
       "      <th>Apartment_type</th>\n",
       "      <th>City</th>\n",
       "      <th>Rating</th>\n",
       "      <th>No_of_bed_rooms</th>\n",
       "      <th>No_of_beds</th>\n",
       "      <th>No_of_bathrooms</th>\n",
       "      <th>Bathroom_type</th>\n",
       "    </tr>\n",
       "  </thead>\n",
       "  <tbody>\n",
       "    <tr>\n",
       "      <th>0</th>\n",
       "      <td>3159</td>\n",
       "      <td>Oostelijk Havengebied - Indische Buurt</td>\n",
       "      <td>52.36435</td>\n",
       "      <td>4.94358</td>\n",
       "      <td>Private room</td>\n",
       "      <td>69.0</td>\n",
       "      <td>3.0</td>\n",
       "      <td>7.0</td>\n",
       "      <td>Condo</td>\n",
       "      <td>Amsterdam</td>\n",
       "      <td>4.89</td>\n",
       "      <td>1.0</td>\n",
       "      <td>1.0</td>\n",
       "      <td>1.5</td>\n",
       "      <td>shared</td>\n",
       "    </tr>\n",
       "    <tr>\n",
       "      <th>2</th>\n",
       "      <td>1100324</td>\n",
       "      <td>De Pijp - Rivierenbuurt</td>\n",
       "      <td>52.35150</td>\n",
       "      <td>4.89656</td>\n",
       "      <td>Entire home/apt</td>\n",
       "      <td>270.0</td>\n",
       "      <td>4.0</td>\n",
       "      <td>2.0</td>\n",
       "      <td>Rental unit</td>\n",
       "      <td>Amsterdam</td>\n",
       "      <td>4.86</td>\n",
       "      <td>3.0</td>\n",
       "      <td>3.0</td>\n",
       "      <td>1.5</td>\n",
       "      <td>private</td>\n",
       "    </tr>\n",
       "    <tr>\n",
       "      <th>3</th>\n",
       "      <td>748161</td>\n",
       "      <td>Oud-Oost</td>\n",
       "      <td>52.36420</td>\n",
       "      <td>4.92829</td>\n",
       "      <td>Entire home/apt</td>\n",
       "      <td>200.0</td>\n",
       "      <td>3.0</td>\n",
       "      <td>0.0</td>\n",
       "      <td>Rental unit</td>\n",
       "      <td>Amsterdam</td>\n",
       "      <td>4.76</td>\n",
       "      <td>1.0</td>\n",
       "      <td>1.0</td>\n",
       "      <td>1.5</td>\n",
       "      <td>private</td>\n",
       "    </tr>\n",
       "    <tr>\n",
       "      <th>4</th>\n",
       "      <td>97647</td>\n",
       "      <td>Centrum-West</td>\n",
       "      <td>52.38761</td>\n",
       "      <td>4.89188</td>\n",
       "      <td>Private room</td>\n",
       "      <td>137.0</td>\n",
       "      <td>3.0</td>\n",
       "      <td>0.0</td>\n",
       "      <td>Houseboat</td>\n",
       "      <td>Amsterdam</td>\n",
       "      <td>4.94</td>\n",
       "      <td>1.0</td>\n",
       "      <td>1.0</td>\n",
       "      <td>1.5</td>\n",
       "      <td>private</td>\n",
       "    </tr>\n",
       "    <tr>\n",
       "      <th>5</th>\n",
       "      <td>776296</td>\n",
       "      <td>De Baarsjes - Oud-West</td>\n",
       "      <td>52.36270</td>\n",
       "      <td>4.85693</td>\n",
       "      <td>Entire home/apt</td>\n",
       "      <td>170.0</td>\n",
       "      <td>3.0</td>\n",
       "      <td>157.0</td>\n",
       "      <td>Rental unit</td>\n",
       "      <td>Amsterdam</td>\n",
       "      <td>4.77</td>\n",
       "      <td>1.0</td>\n",
       "      <td>1.0</td>\n",
       "      <td>1.0</td>\n",
       "      <td>private</td>\n",
       "    </tr>\n",
       "  </tbody>\n",
       "</table>\n",
       "</div>"
      ],
      "text/plain": [
       "   host_id                           neighbourhood  latitude  longitude  \\\n",
       "0     3159  Oostelijk Havengebied - Indische Buurt  52.36435    4.94358   \n",
       "2  1100324                 De Pijp - Rivierenbuurt  52.35150    4.89656   \n",
       "3   748161                                Oud-Oost  52.36420    4.92829   \n",
       "4    97647                            Centrum-West  52.38761    4.89188   \n",
       "5   776296                  De Baarsjes - Oud-West  52.36270    4.85693   \n",
       "\n",
       "         room_type  price in $  minimum_nights  availability_365  \\\n",
       "0     Private room        69.0             3.0               7.0   \n",
       "2  Entire home/apt       270.0             4.0               2.0   \n",
       "3  Entire home/apt       200.0             3.0               0.0   \n",
       "4     Private room       137.0             3.0               0.0   \n",
       "5  Entire home/apt       170.0             3.0             157.0   \n",
       "\n",
       "  Apartment_type       City  Rating  No_of_bed_rooms  No_of_beds  \\\n",
       "0          Condo  Amsterdam    4.89              1.0         1.0   \n",
       "2    Rental unit  Amsterdam    4.86              3.0         3.0   \n",
       "3    Rental unit  Amsterdam    4.76              1.0         1.0   \n",
       "4      Houseboat  Amsterdam    4.94              1.0         1.0   \n",
       "5    Rental unit  Amsterdam    4.77              1.0         1.0   \n",
       "\n",
       "   No_of_bathrooms Bathroom_type  \n",
       "0              1.5        shared  \n",
       "2              1.5       private  \n",
       "3              1.5       private  \n",
       "4              1.5       private  \n",
       "5              1.0       private  "
      ]
     },
     "execution_count": 21,
     "metadata": {},
     "output_type": "execute_result"
    }
   ],
   "source": [
    "df2.head()"
   ]
  },
  {
   "cell_type": "markdown",
   "id": "58d55fe0",
   "metadata": {
    "tags": []
   },
   "source": [
    "### 1.5. Compare the shapes of the original (df) and new (df2) dataframes, and verify there are no missing values in df2."
   ]
  },
  {
   "cell_type": "code",
   "execution_count": 22,
   "id": "b6479b85-b098-417a-ab7a-86e49b323b57",
   "metadata": {
    "tags": []
   },
   "outputs": [
    {
     "name": "stdout",
     "output_type": "stream",
     "text": [
      "shape of old dataframe is (7608, 15)\n",
      "shape of new dataframe is (5104, 15)\n"
     ]
    }
   ],
   "source": [
    "# 1.5.1 code to show shapes of old and new dataframes\n",
    "print(f\"shape of old dataframe is {df.shape}\")\n",
    "print(f\"shape of new dataframe is {df2.shape}\")"
   ]
  },
  {
   "cell_type": "code",
   "execution_count": 23,
   "id": "9af2c0f5-a3b1-46b0-a132-f97b9d4651fb",
   "metadata": {
    "tags": []
   },
   "outputs": [
    {
     "data": {
      "text/plain": [
       "host_id             0\n",
       "neighbourhood       0\n",
       "latitude            0\n",
       "longitude           0\n",
       "room_type           0\n",
       "price in $          0\n",
       "minimum_nights      0\n",
       "availability_365    0\n",
       "Apartment_type      0\n",
       "City                0\n",
       "Rating              0\n",
       "No_of_bed_rooms     0\n",
       "No_of_beds          0\n",
       "No_of_bathrooms     0\n",
       "Bathroom_type       0\n",
       "dtype: int64"
      ]
     },
     "execution_count": 23,
     "metadata": {},
     "output_type": "execute_result"
    }
   ],
   "source": [
    "# 1.5.2 Code to verify no missing values\n",
    "miss_vals_df2 = df2.isnull().sum()\n",
    "miss_vals_df2"
   ]
  },
  {
   "cell_type": "markdown",
   "id": "ce912f4d",
   "metadata": {},
   "source": [
    "### 1.6. **Drop the 'latitude' and 'longitude' columns. How does it affect the shape of the dataset?**"
   ]
  },
  {
   "cell_type": "markdown",
   "id": "a0cb971d",
   "metadata": {},
   "source": [
    "Note: from here forward, work with the df2 DataFrame."
   ]
  },
  {
   "cell_type": "code",
   "execution_count": 24,
   "id": "91c69265-3568-4a97-9e90-15677c70b23e",
   "metadata": {
    "tags": []
   },
   "outputs": [
    {
     "name": "stderr",
     "output_type": "stream",
     "text": [
      "/tmp/ipykernel_56833/1747255987.py:2: SettingWithCopyWarning: \n",
      "A value is trying to be set on a copy of a slice from a DataFrame\n",
      "\n",
      "See the caveats in the documentation: https://pandas.pydata.org/pandas-docs/stable/user_guide/indexing.html#returning-a-view-versus-a-copy\n",
      "  df2.drop(['latitude', 'longitude'], axis=1, inplace=True)\n"
     ]
    },
    {
     "data": {
      "text/html": [
       "<div>\n",
       "<style scoped>\n",
       "    .dataframe tbody tr th:only-of-type {\n",
       "        vertical-align: middle;\n",
       "    }\n",
       "\n",
       "    .dataframe tbody tr th {\n",
       "        vertical-align: top;\n",
       "    }\n",
       "\n",
       "    .dataframe thead th {\n",
       "        text-align: right;\n",
       "    }\n",
       "</style>\n",
       "<table border=\"1\" class=\"dataframe\">\n",
       "  <thead>\n",
       "    <tr style=\"text-align: right;\">\n",
       "      <th></th>\n",
       "      <th>host_id</th>\n",
       "      <th>neighbourhood</th>\n",
       "      <th>room_type</th>\n",
       "      <th>price in $</th>\n",
       "      <th>minimum_nights</th>\n",
       "      <th>availability_365</th>\n",
       "      <th>Apartment_type</th>\n",
       "      <th>City</th>\n",
       "      <th>Rating</th>\n",
       "      <th>No_of_bed_rooms</th>\n",
       "      <th>No_of_beds</th>\n",
       "      <th>No_of_bathrooms</th>\n",
       "      <th>Bathroom_type</th>\n",
       "    </tr>\n",
       "  </thead>\n",
       "  <tbody>\n",
       "    <tr>\n",
       "      <th>0</th>\n",
       "      <td>3159</td>\n",
       "      <td>Oostelijk Havengebied - Indische Buurt</td>\n",
       "      <td>Private room</td>\n",
       "      <td>69.0</td>\n",
       "      <td>3.0</td>\n",
       "      <td>7.0</td>\n",
       "      <td>Condo</td>\n",
       "      <td>Amsterdam</td>\n",
       "      <td>4.89</td>\n",
       "      <td>1.0</td>\n",
       "      <td>1.0</td>\n",
       "      <td>1.5</td>\n",
       "      <td>shared</td>\n",
       "    </tr>\n",
       "    <tr>\n",
       "      <th>2</th>\n",
       "      <td>1100324</td>\n",
       "      <td>De Pijp - Rivierenbuurt</td>\n",
       "      <td>Entire home/apt</td>\n",
       "      <td>270.0</td>\n",
       "      <td>4.0</td>\n",
       "      <td>2.0</td>\n",
       "      <td>Rental unit</td>\n",
       "      <td>Amsterdam</td>\n",
       "      <td>4.86</td>\n",
       "      <td>3.0</td>\n",
       "      <td>3.0</td>\n",
       "      <td>1.5</td>\n",
       "      <td>private</td>\n",
       "    </tr>\n",
       "    <tr>\n",
       "      <th>3</th>\n",
       "      <td>748161</td>\n",
       "      <td>Oud-Oost</td>\n",
       "      <td>Entire home/apt</td>\n",
       "      <td>200.0</td>\n",
       "      <td>3.0</td>\n",
       "      <td>0.0</td>\n",
       "      <td>Rental unit</td>\n",
       "      <td>Amsterdam</td>\n",
       "      <td>4.76</td>\n",
       "      <td>1.0</td>\n",
       "      <td>1.0</td>\n",
       "      <td>1.5</td>\n",
       "      <td>private</td>\n",
       "    </tr>\n",
       "    <tr>\n",
       "      <th>4</th>\n",
       "      <td>97647</td>\n",
       "      <td>Centrum-West</td>\n",
       "      <td>Private room</td>\n",
       "      <td>137.0</td>\n",
       "      <td>3.0</td>\n",
       "      <td>0.0</td>\n",
       "      <td>Houseboat</td>\n",
       "      <td>Amsterdam</td>\n",
       "      <td>4.94</td>\n",
       "      <td>1.0</td>\n",
       "      <td>1.0</td>\n",
       "      <td>1.5</td>\n",
       "      <td>private</td>\n",
       "    </tr>\n",
       "    <tr>\n",
       "      <th>5</th>\n",
       "      <td>776296</td>\n",
       "      <td>De Baarsjes - Oud-West</td>\n",
       "      <td>Entire home/apt</td>\n",
       "      <td>170.0</td>\n",
       "      <td>3.0</td>\n",
       "      <td>157.0</td>\n",
       "      <td>Rental unit</td>\n",
       "      <td>Amsterdam</td>\n",
       "      <td>4.77</td>\n",
       "      <td>1.0</td>\n",
       "      <td>1.0</td>\n",
       "      <td>1.0</td>\n",
       "      <td>private</td>\n",
       "    </tr>\n",
       "    <tr>\n",
       "      <th>...</th>\n",
       "      <td>...</td>\n",
       "      <td>...</td>\n",
       "      <td>...</td>\n",
       "      <td>...</td>\n",
       "      <td>...</td>\n",
       "      <td>...</td>\n",
       "      <td>...</td>\n",
       "      <td>...</td>\n",
       "      <td>...</td>\n",
       "      <td>...</td>\n",
       "      <td>...</td>\n",
       "      <td>...</td>\n",
       "      <td>...</td>\n",
       "    </tr>\n",
       "    <tr>\n",
       "      <th>7364</th>\n",
       "      <td>311321908</td>\n",
       "      <td>Centrum-West</td>\n",
       "      <td>Private room</td>\n",
       "      <td>406.0</td>\n",
       "      <td>1.0</td>\n",
       "      <td>286.0</td>\n",
       "      <td>Hotel</td>\n",
       "      <td>Amsterdam</td>\n",
       "      <td>4.71</td>\n",
       "      <td>1.0</td>\n",
       "      <td>1.0</td>\n",
       "      <td>1.0</td>\n",
       "      <td>private</td>\n",
       "    </tr>\n",
       "    <tr>\n",
       "      <th>7365</th>\n",
       "      <td>311321908</td>\n",
       "      <td>Centrum-West</td>\n",
       "      <td>Private room</td>\n",
       "      <td>339.0</td>\n",
       "      <td>1.0</td>\n",
       "      <td>235.0</td>\n",
       "      <td>Hotel</td>\n",
       "      <td>Amsterdam</td>\n",
       "      <td>3.67</td>\n",
       "      <td>1.0</td>\n",
       "      <td>1.0</td>\n",
       "      <td>1.0</td>\n",
       "      <td>private</td>\n",
       "    </tr>\n",
       "    <tr>\n",
       "      <th>7416</th>\n",
       "      <td>511848149</td>\n",
       "      <td>De Aker - Nieuw Sloten</td>\n",
       "      <td>Private room</td>\n",
       "      <td>99.0</td>\n",
       "      <td>1.0</td>\n",
       "      <td>95.0</td>\n",
       "      <td>Home</td>\n",
       "      <td>Amsterdam</td>\n",
       "      <td>4.86</td>\n",
       "      <td>1.0</td>\n",
       "      <td>1.0</td>\n",
       "      <td>1.0</td>\n",
       "      <td>private</td>\n",
       "    </tr>\n",
       "    <tr>\n",
       "      <th>7425</th>\n",
       "      <td>108331970</td>\n",
       "      <td>Watergraafsmeer</td>\n",
       "      <td>Private room</td>\n",
       "      <td>106.0</td>\n",
       "      <td>1.0</td>\n",
       "      <td>19.0</td>\n",
       "      <td>casa particular</td>\n",
       "      <td>Amsterdam</td>\n",
       "      <td>5.00</td>\n",
       "      <td>1.0</td>\n",
       "      <td>1.0</td>\n",
       "      <td>1.5</td>\n",
       "      <td>shared</td>\n",
       "    </tr>\n",
       "    <tr>\n",
       "      <th>7478</th>\n",
       "      <td>49402797</td>\n",
       "      <td>Westerpark</td>\n",
       "      <td>Entire home/apt</td>\n",
       "      <td>316.0</td>\n",
       "      <td>4.0</td>\n",
       "      <td>12.0</td>\n",
       "      <td>Condo</td>\n",
       "      <td>Amsterdam</td>\n",
       "      <td>5.00</td>\n",
       "      <td>2.0</td>\n",
       "      <td>2.0</td>\n",
       "      <td>1.0</td>\n",
       "      <td>private</td>\n",
       "    </tr>\n",
       "  </tbody>\n",
       "</table>\n",
       "<p>5104 rows × 13 columns</p>\n",
       "</div>"
      ],
      "text/plain": [
       "        host_id                           neighbourhood        room_type  \\\n",
       "0          3159  Oostelijk Havengebied - Indische Buurt     Private room   \n",
       "2       1100324                 De Pijp - Rivierenbuurt  Entire home/apt   \n",
       "3        748161                                Oud-Oost  Entire home/apt   \n",
       "4         97647                            Centrum-West     Private room   \n",
       "5        776296                  De Baarsjes - Oud-West  Entire home/apt   \n",
       "...         ...                                     ...              ...   \n",
       "7364  311321908                            Centrum-West     Private room   \n",
       "7365  311321908                            Centrum-West     Private room   \n",
       "7416  511848149                  De Aker - Nieuw Sloten     Private room   \n",
       "7425  108331970                         Watergraafsmeer     Private room   \n",
       "7478   49402797                              Westerpark  Entire home/apt   \n",
       "\n",
       "      price in $  minimum_nights  availability_365   Apartment_type  \\\n",
       "0           69.0             3.0               7.0            Condo   \n",
       "2          270.0             4.0               2.0      Rental unit   \n",
       "3          200.0             3.0               0.0      Rental unit   \n",
       "4          137.0             3.0               0.0        Houseboat   \n",
       "5          170.0             3.0             157.0      Rental unit   \n",
       "...          ...             ...               ...              ...   \n",
       "7364       406.0             1.0             286.0            Hotel   \n",
       "7365       339.0             1.0             235.0            Hotel   \n",
       "7416        99.0             1.0              95.0             Home   \n",
       "7425       106.0             1.0              19.0  casa particular   \n",
       "7478       316.0             4.0              12.0            Condo   \n",
       "\n",
       "           City  Rating  No_of_bed_rooms  No_of_beds  No_of_bathrooms  \\\n",
       "0     Amsterdam    4.89              1.0         1.0              1.5   \n",
       "2     Amsterdam    4.86              3.0         3.0              1.5   \n",
       "3     Amsterdam    4.76              1.0         1.0              1.5   \n",
       "4     Amsterdam    4.94              1.0         1.0              1.5   \n",
       "5     Amsterdam    4.77              1.0         1.0              1.0   \n",
       "...         ...     ...              ...         ...              ...   \n",
       "7364  Amsterdam    4.71              1.0         1.0              1.0   \n",
       "7365  Amsterdam    3.67              1.0         1.0              1.0   \n",
       "7416  Amsterdam    4.86              1.0         1.0              1.0   \n",
       "7425  Amsterdam    5.00              1.0         1.0              1.5   \n",
       "7478  Amsterdam    5.00              2.0         2.0              1.0   \n",
       "\n",
       "     Bathroom_type  \n",
       "0           shared  \n",
       "2          private  \n",
       "3          private  \n",
       "4          private  \n",
       "5          private  \n",
       "...            ...  \n",
       "7364       private  \n",
       "7365       private  \n",
       "7416       private  \n",
       "7425        shared  \n",
       "7478       private  \n",
       "\n",
       "[5104 rows x 13 columns]"
      ]
     },
     "execution_count": 24,
     "metadata": {},
     "output_type": "execute_result"
    }
   ],
   "source": [
    "# 1.6.1 Code goes here\n",
    "df2.drop(['latitude', 'longitude'], axis=1, inplace=True)\n",
    "df2"
   ]
  },
  {
   "cell_type": "code",
   "execution_count": 25,
   "id": "09ea894c",
   "metadata": {},
   "outputs": [
    {
     "data": {
      "text/plain": [
       "(5104, 13)"
      ]
     },
     "execution_count": 25,
     "metadata": {},
     "output_type": "execute_result"
    }
   ],
   "source": [
    "# 1.6.2 Show new shape\n",
    "df2.shape"
   ]
  },
  {
   "cell_type": "markdown",
   "id": "f4b2b687",
   "metadata": {},
   "source": [
    "### 1.7. **List the  unique values in Apartment_type and Bathroom_type**"
   ]
  },
  {
   "cell_type": "code",
   "execution_count": 62,
   "id": "af8da01e-d2c6-4b25-a047-4610f6e32fcf",
   "metadata": {
    "tags": []
   },
   "outputs": [
    {
     "data": {
      "text/plain": [
       "array(['Condo', 'Townhouse', 'Rental unit', 'Houseboat', 'Guest suite',\n",
       "       'Boutique hotel', 'Home', 'Loft', 'Bed and breakfast', 'Boat',\n",
       "       'Guesthouse', nan, 'Farm stay', 'Place to stay', 'Chalet', 'Villa',\n",
       "       'Tiny home', 'Bungalow', 'casa particular', 'Serviced apartment',\n",
       "       'Barn', 'Hotel', 'Cabin', 'Aparthotel', 'Cottage', 'Nature lodge',\n",
       "       'Earthen home', 'Vacation home', 'Tower', 'Hostel', 'Cave',\n",
       "       'Camper/RV', 'Yurt', 'Tent'], dtype=object)"
      ]
     },
     "execution_count": 62,
     "metadata": {},
     "output_type": "execute_result"
    }
   ],
   "source": [
    "# 1.7.1 Find and list the unique apartment tpyes.\n",
    "unique_AptTypes = df['Apartment_type'].unique()\n",
    "unique_AptTypes"
   ]
  },
  {
   "cell_type": "code",
   "execution_count": 26,
   "id": "1372613e-f794-4aee-a2da-9dad0b79396d",
   "metadata": {
    "tags": []
   },
   "outputs": [
    {
     "data": {
      "text/plain": [
       "array(['shared', 'private', nan], dtype=object)"
      ]
     },
     "execution_count": 26,
     "metadata": {},
     "output_type": "execute_result"
    }
   ],
   "source": [
    "# 1.7.2 Find and list the unique bathroom types.\n",
    "unique_BRoomTypes = df['Bathroom_type'].unique()\n",
    "unique_BRoomTypes"
   ]
  },
  {
   "cell_type": "markdown",
   "id": "40d69a7d",
   "metadata": {},
   "source": [
    "### 1.8. **Replace the bathroom types (shared and private) with integers (0 and 1).**"
   ]
  },
  {
   "cell_type": "code",
   "execution_count": 27,
   "id": "1a99c43d-8dc7-4186-accf-cd2c3fa62e0f",
   "metadata": {
    "tags": []
   },
   "outputs": [
    {
     "name": "stderr",
     "output_type": "stream",
     "text": [
      "/tmp/ipykernel_56833/2899559207.py:2: FutureWarning: Downcasting behavior in `replace` is deprecated and will be removed in a future version. To retain the old behavior, explicitly call `result.infer_objects(copy=False)`. To opt-in to the future behavior, set `pd.set_option('future.no_silent_downcasting', True)`\n",
      "  df2['Bathroom_type'] = df2['Bathroom_type'].replace({'shared': 0, 'private': 1})\n",
      "/tmp/ipykernel_56833/2899559207.py:2: SettingWithCopyWarning: \n",
      "A value is trying to be set on a copy of a slice from a DataFrame.\n",
      "Try using .loc[row_indexer,col_indexer] = value instead\n",
      "\n",
      "See the caveats in the documentation: https://pandas.pydata.org/pandas-docs/stable/user_guide/indexing.html#returning-a-view-versus-a-copy\n",
      "  df2['Bathroom_type'] = df2['Bathroom_type'].replace({'shared': 0, 'private': 1})\n"
     ]
    }
   ],
   "source": [
    "# 1.8.1 Replace the strings with integers\n",
    "df2['Bathroom_type'] = df2['Bathroom_type'].replace({'shared': 0, 'private': 1})\n"
   ]
  },
  {
   "cell_type": "code",
   "execution_count": 28,
   "id": "64d6f42b-190e-4c81-82a9-2334322a1a8d",
   "metadata": {
    "scrolled": true,
    "tags": []
   },
   "outputs": [
    {
     "data": {
      "text/html": [
       "<div>\n",
       "<style scoped>\n",
       "    .dataframe tbody tr th:only-of-type {\n",
       "        vertical-align: middle;\n",
       "    }\n",
       "\n",
       "    .dataframe tbody tr th {\n",
       "        vertical-align: top;\n",
       "    }\n",
       "\n",
       "    .dataframe thead th {\n",
       "        text-align: right;\n",
       "    }\n",
       "</style>\n",
       "<table border=\"1\" class=\"dataframe\">\n",
       "  <thead>\n",
       "    <tr style=\"text-align: right;\">\n",
       "      <th></th>\n",
       "      <th>host_id</th>\n",
       "      <th>neighbourhood</th>\n",
       "      <th>room_type</th>\n",
       "      <th>price in $</th>\n",
       "      <th>minimum_nights</th>\n",
       "      <th>availability_365</th>\n",
       "      <th>Apartment_type</th>\n",
       "      <th>City</th>\n",
       "      <th>Rating</th>\n",
       "      <th>No_of_bed_rooms</th>\n",
       "      <th>No_of_beds</th>\n",
       "      <th>No_of_bathrooms</th>\n",
       "      <th>Bathroom_type</th>\n",
       "    </tr>\n",
       "  </thead>\n",
       "  <tbody>\n",
       "    <tr>\n",
       "      <th>0</th>\n",
       "      <td>3159</td>\n",
       "      <td>Oostelijk Havengebied - Indische Buurt</td>\n",
       "      <td>Private room</td>\n",
       "      <td>69.0</td>\n",
       "      <td>3.0</td>\n",
       "      <td>7.0</td>\n",
       "      <td>Condo</td>\n",
       "      <td>Amsterdam</td>\n",
       "      <td>4.89</td>\n",
       "      <td>1.0</td>\n",
       "      <td>1.0</td>\n",
       "      <td>1.5</td>\n",
       "      <td>0</td>\n",
       "    </tr>\n",
       "    <tr>\n",
       "      <th>2</th>\n",
       "      <td>1100324</td>\n",
       "      <td>De Pijp - Rivierenbuurt</td>\n",
       "      <td>Entire home/apt</td>\n",
       "      <td>270.0</td>\n",
       "      <td>4.0</td>\n",
       "      <td>2.0</td>\n",
       "      <td>Rental unit</td>\n",
       "      <td>Amsterdam</td>\n",
       "      <td>4.86</td>\n",
       "      <td>3.0</td>\n",
       "      <td>3.0</td>\n",
       "      <td>1.5</td>\n",
       "      <td>1</td>\n",
       "    </tr>\n",
       "    <tr>\n",
       "      <th>3</th>\n",
       "      <td>748161</td>\n",
       "      <td>Oud-Oost</td>\n",
       "      <td>Entire home/apt</td>\n",
       "      <td>200.0</td>\n",
       "      <td>3.0</td>\n",
       "      <td>0.0</td>\n",
       "      <td>Rental unit</td>\n",
       "      <td>Amsterdam</td>\n",
       "      <td>4.76</td>\n",
       "      <td>1.0</td>\n",
       "      <td>1.0</td>\n",
       "      <td>1.5</td>\n",
       "      <td>1</td>\n",
       "    </tr>\n",
       "    <tr>\n",
       "      <th>4</th>\n",
       "      <td>97647</td>\n",
       "      <td>Centrum-West</td>\n",
       "      <td>Private room</td>\n",
       "      <td>137.0</td>\n",
       "      <td>3.0</td>\n",
       "      <td>0.0</td>\n",
       "      <td>Houseboat</td>\n",
       "      <td>Amsterdam</td>\n",
       "      <td>4.94</td>\n",
       "      <td>1.0</td>\n",
       "      <td>1.0</td>\n",
       "      <td>1.5</td>\n",
       "      <td>1</td>\n",
       "    </tr>\n",
       "    <tr>\n",
       "      <th>5</th>\n",
       "      <td>776296</td>\n",
       "      <td>De Baarsjes - Oud-West</td>\n",
       "      <td>Entire home/apt</td>\n",
       "      <td>170.0</td>\n",
       "      <td>3.0</td>\n",
       "      <td>157.0</td>\n",
       "      <td>Rental unit</td>\n",
       "      <td>Amsterdam</td>\n",
       "      <td>4.77</td>\n",
       "      <td>1.0</td>\n",
       "      <td>1.0</td>\n",
       "      <td>1.0</td>\n",
       "      <td>1</td>\n",
       "    </tr>\n",
       "    <tr>\n",
       "      <th>...</th>\n",
       "      <td>...</td>\n",
       "      <td>...</td>\n",
       "      <td>...</td>\n",
       "      <td>...</td>\n",
       "      <td>...</td>\n",
       "      <td>...</td>\n",
       "      <td>...</td>\n",
       "      <td>...</td>\n",
       "      <td>...</td>\n",
       "      <td>...</td>\n",
       "      <td>...</td>\n",
       "      <td>...</td>\n",
       "      <td>...</td>\n",
       "    </tr>\n",
       "    <tr>\n",
       "      <th>7364</th>\n",
       "      <td>311321908</td>\n",
       "      <td>Centrum-West</td>\n",
       "      <td>Private room</td>\n",
       "      <td>406.0</td>\n",
       "      <td>1.0</td>\n",
       "      <td>286.0</td>\n",
       "      <td>Hotel</td>\n",
       "      <td>Amsterdam</td>\n",
       "      <td>4.71</td>\n",
       "      <td>1.0</td>\n",
       "      <td>1.0</td>\n",
       "      <td>1.0</td>\n",
       "      <td>1</td>\n",
       "    </tr>\n",
       "    <tr>\n",
       "      <th>7365</th>\n",
       "      <td>311321908</td>\n",
       "      <td>Centrum-West</td>\n",
       "      <td>Private room</td>\n",
       "      <td>339.0</td>\n",
       "      <td>1.0</td>\n",
       "      <td>235.0</td>\n",
       "      <td>Hotel</td>\n",
       "      <td>Amsterdam</td>\n",
       "      <td>3.67</td>\n",
       "      <td>1.0</td>\n",
       "      <td>1.0</td>\n",
       "      <td>1.0</td>\n",
       "      <td>1</td>\n",
       "    </tr>\n",
       "    <tr>\n",
       "      <th>7416</th>\n",
       "      <td>511848149</td>\n",
       "      <td>De Aker - Nieuw Sloten</td>\n",
       "      <td>Private room</td>\n",
       "      <td>99.0</td>\n",
       "      <td>1.0</td>\n",
       "      <td>95.0</td>\n",
       "      <td>Home</td>\n",
       "      <td>Amsterdam</td>\n",
       "      <td>4.86</td>\n",
       "      <td>1.0</td>\n",
       "      <td>1.0</td>\n",
       "      <td>1.0</td>\n",
       "      <td>1</td>\n",
       "    </tr>\n",
       "    <tr>\n",
       "      <th>7425</th>\n",
       "      <td>108331970</td>\n",
       "      <td>Watergraafsmeer</td>\n",
       "      <td>Private room</td>\n",
       "      <td>106.0</td>\n",
       "      <td>1.0</td>\n",
       "      <td>19.0</td>\n",
       "      <td>casa particular</td>\n",
       "      <td>Amsterdam</td>\n",
       "      <td>5.00</td>\n",
       "      <td>1.0</td>\n",
       "      <td>1.0</td>\n",
       "      <td>1.5</td>\n",
       "      <td>0</td>\n",
       "    </tr>\n",
       "    <tr>\n",
       "      <th>7478</th>\n",
       "      <td>49402797</td>\n",
       "      <td>Westerpark</td>\n",
       "      <td>Entire home/apt</td>\n",
       "      <td>316.0</td>\n",
       "      <td>4.0</td>\n",
       "      <td>12.0</td>\n",
       "      <td>Condo</td>\n",
       "      <td>Amsterdam</td>\n",
       "      <td>5.00</td>\n",
       "      <td>2.0</td>\n",
       "      <td>2.0</td>\n",
       "      <td>1.0</td>\n",
       "      <td>1</td>\n",
       "    </tr>\n",
       "  </tbody>\n",
       "</table>\n",
       "<p>5104 rows × 13 columns</p>\n",
       "</div>"
      ],
      "text/plain": [
       "        host_id                           neighbourhood        room_type  \\\n",
       "0          3159  Oostelijk Havengebied - Indische Buurt     Private room   \n",
       "2       1100324                 De Pijp - Rivierenbuurt  Entire home/apt   \n",
       "3        748161                                Oud-Oost  Entire home/apt   \n",
       "4         97647                            Centrum-West     Private room   \n",
       "5        776296                  De Baarsjes - Oud-West  Entire home/apt   \n",
       "...         ...                                     ...              ...   \n",
       "7364  311321908                            Centrum-West     Private room   \n",
       "7365  311321908                            Centrum-West     Private room   \n",
       "7416  511848149                  De Aker - Nieuw Sloten     Private room   \n",
       "7425  108331970                         Watergraafsmeer     Private room   \n",
       "7478   49402797                              Westerpark  Entire home/apt   \n",
       "\n",
       "      price in $  minimum_nights  availability_365   Apartment_type  \\\n",
       "0           69.0             3.0               7.0            Condo   \n",
       "2          270.0             4.0               2.0      Rental unit   \n",
       "3          200.0             3.0               0.0      Rental unit   \n",
       "4          137.0             3.0               0.0        Houseboat   \n",
       "5          170.0             3.0             157.0      Rental unit   \n",
       "...          ...             ...               ...              ...   \n",
       "7364       406.0             1.0             286.0            Hotel   \n",
       "7365       339.0             1.0             235.0            Hotel   \n",
       "7416        99.0             1.0              95.0             Home   \n",
       "7425       106.0             1.0              19.0  casa particular   \n",
       "7478       316.0             4.0              12.0            Condo   \n",
       "\n",
       "           City  Rating  No_of_bed_rooms  No_of_beds  No_of_bathrooms  \\\n",
       "0     Amsterdam    4.89              1.0         1.0              1.5   \n",
       "2     Amsterdam    4.86              3.0         3.0              1.5   \n",
       "3     Amsterdam    4.76              1.0         1.0              1.5   \n",
       "4     Amsterdam    4.94              1.0         1.0              1.5   \n",
       "5     Amsterdam    4.77              1.0         1.0              1.0   \n",
       "...         ...     ...              ...         ...              ...   \n",
       "7364  Amsterdam    4.71              1.0         1.0              1.0   \n",
       "7365  Amsterdam    3.67              1.0         1.0              1.0   \n",
       "7416  Amsterdam    4.86              1.0         1.0              1.0   \n",
       "7425  Amsterdam    5.00              1.0         1.0              1.5   \n",
       "7478  Amsterdam    5.00              2.0         2.0              1.0   \n",
       "\n",
       "      Bathroom_type  \n",
       "0                 0  \n",
       "2                 1  \n",
       "3                 1  \n",
       "4                 1  \n",
       "5                 1  \n",
       "...             ...  \n",
       "7364              1  \n",
       "7365              1  \n",
       "7416              1  \n",
       "7425              0  \n",
       "7478              1  \n",
       "\n",
       "[5104 rows x 13 columns]"
      ]
     },
     "execution_count": 28,
     "metadata": {},
     "output_type": "execute_result"
    }
   ],
   "source": [
    "# 1.8.2 Verify the changes\n",
    "df2"
   ]
  },
  {
   "cell_type": "markdown",
   "id": "f70eef0d-0c39-4a80-bbb9-801fb35b4538",
   "metadata": {},
   "source": [
    "# Part - 2 (Exploratory Data Analysis)"
   ]
  },
  {
   "cell_type": "markdown",
   "id": "a5711bab",
   "metadata": {},
   "source": [
    "Exploratory Data Analysis refers to the critical process of performing initial investigations on data so as to discover patterns, to spot anomalies,to test hypothesis and to check assumptions with the help of summary statistics and graphical representations. "
   ]
  },
  {
   "cell_type": "markdown",
   "id": "01220f3e",
   "metadata": {},
   "source": [
    "### 2.1. **Describe the data.**"
   ]
  },
  {
   "cell_type": "code",
   "execution_count": 29,
   "id": "7f8d7c7a-4296-4a57-a75d-1e2cfa99fc45",
   "metadata": {
    "tags": []
   },
   "outputs": [
    {
     "data": {
      "text/html": [
       "<div>\n",
       "<style scoped>\n",
       "    .dataframe tbody tr th:only-of-type {\n",
       "        vertical-align: middle;\n",
       "    }\n",
       "\n",
       "    .dataframe tbody tr th {\n",
       "        vertical-align: top;\n",
       "    }\n",
       "\n",
       "    .dataframe thead th {\n",
       "        text-align: right;\n",
       "    }\n",
       "</style>\n",
       "<table border=\"1\" class=\"dataframe\">\n",
       "  <thead>\n",
       "    <tr style=\"text-align: right;\">\n",
       "      <th></th>\n",
       "      <th>host_id</th>\n",
       "      <th>price in $</th>\n",
       "      <th>minimum_nights</th>\n",
       "      <th>availability_365</th>\n",
       "      <th>Rating</th>\n",
       "      <th>No_of_bed_rooms</th>\n",
       "      <th>No_of_beds</th>\n",
       "      <th>No_of_bathrooms</th>\n",
       "      <th>Bathroom_type</th>\n",
       "    </tr>\n",
       "  </thead>\n",
       "  <tbody>\n",
       "    <tr>\n",
       "      <th>count</th>\n",
       "      <td>5104.0</td>\n",
       "      <td>5104.000000</td>\n",
       "      <td>5104.000000</td>\n",
       "      <td>5104.000000</td>\n",
       "      <td>5104.000000</td>\n",
       "      <td>5104.000000</td>\n",
       "      <td>5104.000000</td>\n",
       "      <td>5104.000000</td>\n",
       "      <td>5104.000000</td>\n",
       "    </tr>\n",
       "    <tr>\n",
       "      <th>mean</th>\n",
       "      <td>89643741.908503</td>\n",
       "      <td>250.073029</td>\n",
       "      <td>5.346395</td>\n",
       "      <td>68.918887</td>\n",
       "      <td>4.828893</td>\n",
       "      <td>1.614028</td>\n",
       "      <td>1.614028</td>\n",
       "      <td>1.316712</td>\n",
       "      <td>0.904193</td>\n",
       "    </tr>\n",
       "    <tr>\n",
       "      <th>std</th>\n",
       "      <td>128354101.418836</td>\n",
       "      <td>239.660144</td>\n",
       "      <td>40.143544</td>\n",
       "      <td>100.887118</td>\n",
       "      <td>0.214185</td>\n",
       "      <td>0.890171</td>\n",
       "      <td>0.890171</td>\n",
       "      <td>0.467813</td>\n",
       "      <td>0.294356</td>\n",
       "    </tr>\n",
       "    <tr>\n",
       "      <th>min</th>\n",
       "      <td>3159.0</td>\n",
       "      <td>18.000000</td>\n",
       "      <td>1.000000</td>\n",
       "      <td>0.000000</td>\n",
       "      <td>1.670000</td>\n",
       "      <td>1.000000</td>\n",
       "      <td>1.000000</td>\n",
       "      <td>0.000000</td>\n",
       "      <td>0.000000</td>\n",
       "    </tr>\n",
       "    <tr>\n",
       "      <th>25%</th>\n",
       "      <td>8976035.5</td>\n",
       "      <td>149.000000</td>\n",
       "      <td>2.000000</td>\n",
       "      <td>0.000000</td>\n",
       "      <td>4.750000</td>\n",
       "      <td>1.000000</td>\n",
       "      <td>1.000000</td>\n",
       "      <td>1.000000</td>\n",
       "      <td>1.000000</td>\n",
       "    </tr>\n",
       "    <tr>\n",
       "      <th>50%</th>\n",
       "      <td>29525615.0</td>\n",
       "      <td>205.500000</td>\n",
       "      <td>3.000000</td>\n",
       "      <td>12.000000</td>\n",
       "      <td>4.890000</td>\n",
       "      <td>1.000000</td>\n",
       "      <td>1.000000</td>\n",
       "      <td>1.000000</td>\n",
       "      <td>1.000000</td>\n",
       "    </tr>\n",
       "    <tr>\n",
       "      <th>75%</th>\n",
       "      <td>105461015.0</td>\n",
       "      <td>300.000000</td>\n",
       "      <td>4.000000</td>\n",
       "      <td>114.250000</td>\n",
       "      <td>5.000000</td>\n",
       "      <td>2.000000</td>\n",
       "      <td>2.000000</td>\n",
       "      <td>1.500000</td>\n",
       "      <td>1.000000</td>\n",
       "    </tr>\n",
       "    <tr>\n",
       "      <th>max</th>\n",
       "      <td>512675656.0</td>\n",
       "      <td>10000.000000</td>\n",
       "      <td>1001.000000</td>\n",
       "      <td>365.000000</td>\n",
       "      <td>5.000000</td>\n",
       "      <td>10.000000</td>\n",
       "      <td>10.000000</td>\n",
       "      <td>5.500000</td>\n",
       "      <td>1.000000</td>\n",
       "    </tr>\n",
       "  </tbody>\n",
       "</table>\n",
       "</div>"
      ],
      "text/plain": [
       "                host_id    price in $  minimum_nights  availability_365  \\\n",
       "count            5104.0   5104.000000     5104.000000       5104.000000   \n",
       "mean    89643741.908503    250.073029        5.346395         68.918887   \n",
       "std    128354101.418836    239.660144       40.143544        100.887118   \n",
       "min              3159.0     18.000000        1.000000          0.000000   \n",
       "25%           8976035.5    149.000000        2.000000          0.000000   \n",
       "50%          29525615.0    205.500000        3.000000         12.000000   \n",
       "75%         105461015.0    300.000000        4.000000        114.250000   \n",
       "max         512675656.0  10000.000000     1001.000000        365.000000   \n",
       "\n",
       "            Rating  No_of_bed_rooms   No_of_beds  No_of_bathrooms  \\\n",
       "count  5104.000000      5104.000000  5104.000000      5104.000000   \n",
       "mean      4.828893         1.614028     1.614028         1.316712   \n",
       "std       0.214185         0.890171     0.890171         0.467813   \n",
       "min       1.670000         1.000000     1.000000         0.000000   \n",
       "25%       4.750000         1.000000     1.000000         1.000000   \n",
       "50%       4.890000         1.000000     1.000000         1.000000   \n",
       "75%       5.000000         2.000000     2.000000         1.500000   \n",
       "max       5.000000        10.000000    10.000000         5.500000   \n",
       "\n",
       "       Bathroom_type  \n",
       "count    5104.000000  \n",
       "mean        0.904193  \n",
       "std         0.294356  \n",
       "min         0.000000  \n",
       "25%         1.000000  \n",
       "50%         1.000000  \n",
       "75%         1.000000  \n",
       "max         1.000000  "
      ]
     },
     "execution_count": 29,
     "metadata": {},
     "output_type": "execute_result"
    }
   ],
   "source": [
    "# Describe data here.\n",
    "df2.describe()"
   ]
  },
  {
   "cell_type": "markdown",
   "id": "59440e43",
   "metadata": {},
   "source": [
    "### 2.2. **Identify significant correlations.**"
   ]
  },
  {
   "cell_type": "code",
   "execution_count": 67,
   "id": "ae404370-d29f-461a-8d0b-2da26bc852e1",
   "metadata": {
    "tags": []
   },
   "outputs": [
    {
     "name": "stdout",
     "output_type": "stream",
     "text": [
      "                   host_id  price in $  minimum_nights  availability_365  \\\n",
      "host_id           1.000000    0.042415       -0.009998          0.164926   \n",
      "price in $        0.042415    1.000000       -0.003077          0.171696   \n",
      "minimum_nights   -0.009998   -0.003077        1.000000          0.011573   \n",
      "availability_365  0.164926    0.171696        0.011573          1.000000   \n",
      "Rating           -0.164828    0.045005        0.011770         -0.167133   \n",
      "No_of_bed_rooms  -0.070505    0.293011        0.005875         -0.065232   \n",
      "No_of_beds       -0.070505    0.293011        0.005875         -0.065232   \n",
      "No_of_bathrooms  -0.046543    0.266879       -0.004857         -0.027974   \n",
      "Bathroom_type    -0.066348    0.171677        0.002643         -0.178747   \n",
      "\n",
      "                    Rating  No_of_bed_rooms  No_of_beds  No_of_bathrooms  \\\n",
      "host_id          -0.164828        -0.070505   -0.070505        -0.046543   \n",
      "price in $        0.045005         0.293011    0.293011         0.266879   \n",
      "minimum_nights    0.011770         0.005875    0.005875        -0.004857   \n",
      "availability_365 -0.167133        -0.065232   -0.065232        -0.027974   \n",
      "Rating            1.000000         0.035777    0.035777         0.072665   \n",
      "No_of_bed_rooms   0.035777         1.000000    1.000000         0.475245   \n",
      "No_of_beds        0.035777         1.000000    1.000000         0.475245   \n",
      "No_of_bathrooms   0.072665         0.475245    0.475245         1.000000   \n",
      "Bathroom_type     0.174212         0.188659    0.188659         0.102280   \n",
      "\n",
      "                  Bathroom_type  \n",
      "host_id               -0.066348  \n",
      "price in $             0.171677  \n",
      "minimum_nights         0.002643  \n",
      "availability_365      -0.178747  \n",
      "Rating                 0.174212  \n",
      "No_of_bed_rooms        0.188659  \n",
      "No_of_beds             0.188659  \n",
      "No_of_bathrooms        0.102280  \n",
      "Bathroom_type          1.000000  \n"
     ]
    }
   ],
   "source": [
    "# 2.2.1 Build the correlation matrix\n",
    "num_cols = df2.select_dtypes(include=['number'])\n",
    "corr_matrix = num_cols.corr()\n",
    "print(corr_matrix)"
   ]
  },
  {
   "cell_type": "code",
   "execution_count": 68,
   "id": "bab48646-0771-4fe3-9535-862ec0df9552",
   "metadata": {
    "tags": []
   },
   "outputs": [
    {
     "data": {
      "image/png": "[encoded data removed]",
      "text/plain": [
       "<Figure size 800x600 with 2 Axes>"
      ]
     },
     "metadata": {},
     "output_type": "display_data"
    }
   ],
   "source": [
    "# 2.2.2 Display the correlation matrix as a heatmap\n",
    "plt.figure(figsize=(8, 6))\n",
    "sns.heatmap(corr_matrix, annot=True, cmap='coolwarm', fmt=\".2f\", linewidths=0.5)\n",
    "plt.title(\"Heatmap of Correlation Matrix\")\n",
    "plt.show()"
   ]
  },
  {
   "cell_type": "markdown",
   "id": "7a5d8fa4",
   "metadata": {},
   "source": [
    "### 2.3. **Check if is there any multicollinearity.**"
   ]
  },
  {
   "cell_type": "code",
   "execution_count": 69,
   "id": "02e7a7e3",
   "metadata": {},
   "outputs": [],
   "source": [
    "#Import the statsmodels tools needed to perform VIF.\n",
    "from statsmodels.stats.outliers_influence import variance_inflation_factor\n",
    "import statsmodels.api as sm"
   ]
  },
  {
   "cell_type": "code",
   "execution_count": 70,
   "id": "55e1a55b-cb83-4aa7-88fb-30dccc1cd4a5",
   "metadata": {
    "tags": []
   },
   "outputs": [
    {
     "data": {
      "text/html": [
       "<div>\n",
       "<style scoped>\n",
       "    .dataframe tbody tr th:only-of-type {\n",
       "        vertical-align: middle;\n",
       "    }\n",
       "\n",
       "    .dataframe tbody tr th {\n",
       "        vertical-align: top;\n",
       "    }\n",
       "\n",
       "    .dataframe thead th {\n",
       "        text-align: right;\n",
       "    }\n",
       "</style>\n",
       "<table border=\"1\" class=\"dataframe\">\n",
       "  <thead>\n",
       "    <tr style=\"text-align: right;\">\n",
       "      <th></th>\n",
       "      <th>price in $</th>\n",
       "      <th>minimum_nights</th>\n",
       "      <th>availability_365</th>\n",
       "      <th>Rating</th>\n",
       "      <th>No_of_bed_rooms</th>\n",
       "      <th>No_of_beds</th>\n",
       "      <th>No_of_bathrooms</th>\n",
       "      <th>Bathroom_type</th>\n",
       "    </tr>\n",
       "  </thead>\n",
       "  <tbody>\n",
       "    <tr>\n",
       "      <th>0</th>\n",
       "      <td>69.0</td>\n",
       "      <td>3.0</td>\n",
       "      <td>7.0</td>\n",
       "      <td>4.89</td>\n",
       "      <td>1.0</td>\n",
       "      <td>1.0</td>\n",
       "      <td>1.5</td>\n",
       "      <td>0</td>\n",
       "    </tr>\n",
       "    <tr>\n",
       "      <th>2</th>\n",
       "      <td>270.0</td>\n",
       "      <td>4.0</td>\n",
       "      <td>2.0</td>\n",
       "      <td>4.86</td>\n",
       "      <td>3.0</td>\n",
       "      <td>3.0</td>\n",
       "      <td>1.5</td>\n",
       "      <td>1</td>\n",
       "    </tr>\n",
       "    <tr>\n",
       "      <th>3</th>\n",
       "      <td>200.0</td>\n",
       "      <td>3.0</td>\n",
       "      <td>0.0</td>\n",
       "      <td>4.76</td>\n",
       "      <td>1.0</td>\n",
       "      <td>1.0</td>\n",
       "      <td>1.5</td>\n",
       "      <td>1</td>\n",
       "    </tr>\n",
       "    <tr>\n",
       "      <th>4</th>\n",
       "      <td>137.0</td>\n",
       "      <td>3.0</td>\n",
       "      <td>0.0</td>\n",
       "      <td>4.94</td>\n",
       "      <td>1.0</td>\n",
       "      <td>1.0</td>\n",
       "      <td>1.5</td>\n",
       "      <td>1</td>\n",
       "    </tr>\n",
       "    <tr>\n",
       "      <th>5</th>\n",
       "      <td>170.0</td>\n",
       "      <td>3.0</td>\n",
       "      <td>157.0</td>\n",
       "      <td>4.77</td>\n",
       "      <td>1.0</td>\n",
       "      <td>1.0</td>\n",
       "      <td>1.0</td>\n",
       "      <td>1</td>\n",
       "    </tr>\n",
       "    <tr>\n",
       "      <th>...</th>\n",
       "      <td>...</td>\n",
       "      <td>...</td>\n",
       "      <td>...</td>\n",
       "      <td>...</td>\n",
       "      <td>...</td>\n",
       "      <td>...</td>\n",
       "      <td>...</td>\n",
       "      <td>...</td>\n",
       "    </tr>\n",
       "    <tr>\n",
       "      <th>7364</th>\n",
       "      <td>406.0</td>\n",
       "      <td>1.0</td>\n",
       "      <td>286.0</td>\n",
       "      <td>4.71</td>\n",
       "      <td>1.0</td>\n",
       "      <td>1.0</td>\n",
       "      <td>1.0</td>\n",
       "      <td>1</td>\n",
       "    </tr>\n",
       "    <tr>\n",
       "      <th>7365</th>\n",
       "      <td>339.0</td>\n",
       "      <td>1.0</td>\n",
       "      <td>235.0</td>\n",
       "      <td>3.67</td>\n",
       "      <td>1.0</td>\n",
       "      <td>1.0</td>\n",
       "      <td>1.0</td>\n",
       "      <td>1</td>\n",
       "    </tr>\n",
       "    <tr>\n",
       "      <th>7416</th>\n",
       "      <td>99.0</td>\n",
       "      <td>1.0</td>\n",
       "      <td>95.0</td>\n",
       "      <td>4.86</td>\n",
       "      <td>1.0</td>\n",
       "      <td>1.0</td>\n",
       "      <td>1.0</td>\n",
       "      <td>1</td>\n",
       "    </tr>\n",
       "    <tr>\n",
       "      <th>7425</th>\n",
       "      <td>106.0</td>\n",
       "      <td>1.0</td>\n",
       "      <td>19.0</td>\n",
       "      <td>5.00</td>\n",
       "      <td>1.0</td>\n",
       "      <td>1.0</td>\n",
       "      <td>1.5</td>\n",
       "      <td>0</td>\n",
       "    </tr>\n",
       "    <tr>\n",
       "      <th>7478</th>\n",
       "      <td>316.0</td>\n",
       "      <td>4.0</td>\n",
       "      <td>12.0</td>\n",
       "      <td>5.00</td>\n",
       "      <td>2.0</td>\n",
       "      <td>2.0</td>\n",
       "      <td>1.0</td>\n",
       "      <td>1</td>\n",
       "    </tr>\n",
       "  </tbody>\n",
       "</table>\n",
       "<p>5104 rows × 8 columns</p>\n",
       "</div>"
      ],
      "text/plain": [
       "      price in $  minimum_nights  availability_365  Rating  No_of_bed_rooms  \\\n",
       "0           69.0             3.0               7.0    4.89              1.0   \n",
       "2          270.0             4.0               2.0    4.86              3.0   \n",
       "3          200.0             3.0               0.0    4.76              1.0   \n",
       "4          137.0             3.0               0.0    4.94              1.0   \n",
       "5          170.0             3.0             157.0    4.77              1.0   \n",
       "...          ...             ...               ...     ...              ...   \n",
       "7364       406.0             1.0             286.0    4.71              1.0   \n",
       "7365       339.0             1.0             235.0    3.67              1.0   \n",
       "7416        99.0             1.0              95.0    4.86              1.0   \n",
       "7425       106.0             1.0              19.0    5.00              1.0   \n",
       "7478       316.0             4.0              12.0    5.00              2.0   \n",
       "\n",
       "      No_of_beds  No_of_bathrooms  Bathroom_type  \n",
       "0            1.0              1.5              0  \n",
       "2            3.0              1.5              1  \n",
       "3            1.0              1.5              1  \n",
       "4            1.0              1.5              1  \n",
       "5            1.0              1.0              1  \n",
       "...          ...              ...            ...  \n",
       "7364         1.0              1.0              1  \n",
       "7365         1.0              1.0              1  \n",
       "7416         1.0              1.0              1  \n",
       "7425         1.0              1.5              0  \n",
       "7478         2.0              1.0              1  \n",
       "\n",
       "[5104 rows x 8 columns]"
      ]
     },
     "execution_count": 70,
     "metadata": {},
     "output_type": "execute_result"
    }
   ],
   "source": [
    "# 2.3.1 Select all numerical columns *except* host_id.\n",
    "num_cols_no_host_id = df2.select_dtypes(include=['number']).drop(columns=['host_id'])\n",
    "num_cols_no_host_id"
   ]
  },
  {
   "cell_type": "code",
   "execution_count": 71,
   "id": "d7a0f77d",
   "metadata": {},
   "outputs": [
    {
     "data": {
      "text/plain": [
       "price in $          False\n",
       "minimum_nights      False\n",
       "availability_365    False\n",
       "Rating              False\n",
       "No_of_bed_rooms     False\n",
       "No_of_beds          False\n",
       "No_of_bathrooms     False\n",
       "Bathroom_type       False\n",
       "dtype: bool"
      ]
     },
     "execution_count": 71,
     "metadata": {},
     "output_type": "execute_result"
    }
   ],
   "source": [
    "# 2.3.2 Make sure there are no missing (NaN) values \n",
    "miss_vals = num_cols_no_host_id.isnull().any()\n",
    "miss_vals"
   ]
  },
  {
   "cell_type": "code",
   "execution_count": 72,
   "id": "568b0b76",
   "metadata": {},
   "outputs": [
    {
     "name": "stderr",
     "output_type": "stream",
     "text": [
      "C:\\Users\\phane\\AppData\\Local\\Temp\\ipykernel_5312\\1035894880.py:2: SettingWithCopyWarning: \n",
      "A value is trying to be set on a copy of a slice from a DataFrame.\n",
      "Try using .loc[row_indexer,col_indexer] = value instead\n",
      "\n",
      "See the caveats in the documentation: https://pandas.pydata.org/pandas-docs/stable/user_guide/indexing.html#returning-a-view-versus-a-copy\n",
      "  df2.loc[:, 'constant'] = 1\n"
     ]
    }
   ],
   "source": [
    "# 2.3.3 Add a constant column for the VIF calculation\n",
    "df2.loc[:, 'constant'] = 1"
   ]
  },
  {
   "cell_type": "code",
   "execution_count": 102,
   "id": "c43aa6c5",
   "metadata": {},
   "outputs": [
    {
     "ename": "TypeError",
     "evalue": "'>=' not supported between instances of 'str' and 'float'",
     "output_type": "error",
     "traceback": [
      "\u001b[1;31m---------------------------------------------------------------------------\u001b[0m",
      "\u001b[1;31mTypeError\u001b[0m                                 Traceback (most recent call last)",
      "Cell \u001b[1;32mIn[102], line 5\u001b[0m\n\u001b[0;32m      3\u001b[0m vif \u001b[38;5;241m=\u001b[39m pd\u001b[38;5;241m.\u001b[39mDataFrame()\n\u001b[0;32m      4\u001b[0m vif[\u001b[38;5;124m\"\u001b[39m\u001b[38;5;124mVariable\u001b[39m\u001b[38;5;124m\"\u001b[39m] \u001b[38;5;241m=\u001b[39m df\u001b[38;5;241m.\u001b[39mcolumns\n\u001b[1;32m----> 5\u001b[0m vif[\u001b[38;5;124m\"\u001b[39m\u001b[38;5;124mVIF\u001b[39m\u001b[38;5;124m\"\u001b[39m] \u001b[38;5;241m=\u001b[39m \u001b[43m[\u001b[49m\u001b[43mvariance_inflation_factor\u001b[49m\u001b[43m(\u001b[49m\u001b[43mdf\u001b[49m\u001b[38;5;241;43m.\u001b[39;49m\u001b[43mvalues\u001b[49m\u001b[43m,\u001b[49m\u001b[43m \u001b[49m\u001b[43mi\u001b[49m\u001b[43m)\u001b[49m\u001b[43m \u001b[49m\u001b[38;5;28;43;01mfor\u001b[39;49;00m\u001b[43m \u001b[49m\u001b[43mi\u001b[49m\u001b[43m \u001b[49m\u001b[38;5;129;43;01min\u001b[39;49;00m\u001b[43m \u001b[49m\u001b[38;5;28;43mrange\u001b[39;49m\u001b[43m(\u001b[49m\u001b[43mdf\u001b[49m\u001b[38;5;241;43m.\u001b[39;49m\u001b[43mshape\u001b[49m\u001b[43m[\u001b[49m\u001b[38;5;241;43m1\u001b[39;49m\u001b[43m]\u001b[49m\u001b[43m)\u001b[49m\u001b[43m]\u001b[49m\n\u001b[0;32m      6\u001b[0m \u001b[38;5;28mprint\u001b[39m(\u001b[38;5;124m\"\u001b[39m\u001b[38;5;124mVIF values for each column is\u001b[39m\u001b[38;5;124m\"\u001b[39m)\n\u001b[0;32m      7\u001b[0m \u001b[38;5;28mprint\u001b[39m(vif)\n",
      "Cell \u001b[1;32mIn[102], line 5\u001b[0m, in \u001b[0;36m<listcomp>\u001b[1;34m(.0)\u001b[0m\n\u001b[0;32m      3\u001b[0m vif \u001b[38;5;241m=\u001b[39m pd\u001b[38;5;241m.\u001b[39mDataFrame()\n\u001b[0;32m      4\u001b[0m vif[\u001b[38;5;124m\"\u001b[39m\u001b[38;5;124mVariable\u001b[39m\u001b[38;5;124m\"\u001b[39m] \u001b[38;5;241m=\u001b[39m df\u001b[38;5;241m.\u001b[39mcolumns\n\u001b[1;32m----> 5\u001b[0m vif[\u001b[38;5;124m\"\u001b[39m\u001b[38;5;124mVIF\u001b[39m\u001b[38;5;124m\"\u001b[39m] \u001b[38;5;241m=\u001b[39m [\u001b[43mvariance_inflation_factor\u001b[49m\u001b[43m(\u001b[49m\u001b[43mdf\u001b[49m\u001b[38;5;241;43m.\u001b[39;49m\u001b[43mvalues\u001b[49m\u001b[43m,\u001b[49m\u001b[43m \u001b[49m\u001b[43mi\u001b[49m\u001b[43m)\u001b[49m \u001b[38;5;28;01mfor\u001b[39;00m i \u001b[38;5;129;01min\u001b[39;00m \u001b[38;5;28mrange\u001b[39m(df\u001b[38;5;241m.\u001b[39mshape[\u001b[38;5;241m1\u001b[39m])]\n\u001b[0;32m      6\u001b[0m \u001b[38;5;28mprint\u001b[39m(\u001b[38;5;124m\"\u001b[39m\u001b[38;5;124mVIF values for each column is\u001b[39m\u001b[38;5;124m\"\u001b[39m)\n\u001b[0;32m      7\u001b[0m \u001b[38;5;28mprint\u001b[39m(vif)\n",
      "File \u001b[1;32mc:\\Users\\phane\\AppData\\Local\\Programs\\Python\\Python311\\Lib\\site-packages\\statsmodels\\stats\\outliers_influence.py:197\u001b[0m, in \u001b[0;36mvariance_inflation_factor\u001b[1;34m(exog, exog_idx)\u001b[0m\n\u001b[0;32m    195\u001b[0m mask \u001b[38;5;241m=\u001b[39m np\u001b[38;5;241m.\u001b[39marange(k_vars) \u001b[38;5;241m!=\u001b[39m exog_idx\n\u001b[0;32m    196\u001b[0m x_noti \u001b[38;5;241m=\u001b[39m exog[:, mask]\n\u001b[1;32m--> 197\u001b[0m r_squared_i \u001b[38;5;241m=\u001b[39m \u001b[43mOLS\u001b[49m\u001b[43m(\u001b[49m\u001b[43mx_i\u001b[49m\u001b[43m,\u001b[49m\u001b[43m \u001b[49m\u001b[43mx_noti\u001b[49m\u001b[43m)\u001b[49m\u001b[38;5;241m.\u001b[39mfit()\u001b[38;5;241m.\u001b[39mrsquared\n\u001b[0;32m    198\u001b[0m vif \u001b[38;5;241m=\u001b[39m \u001b[38;5;241m1.\u001b[39m \u001b[38;5;241m/\u001b[39m (\u001b[38;5;241m1.\u001b[39m \u001b[38;5;241m-\u001b[39m r_squared_i)\n\u001b[0;32m    199\u001b[0m \u001b[38;5;28;01mreturn\u001b[39;00m vif\n",
      "File \u001b[1;32mc:\\Users\\phane\\AppData\\Local\\Programs\\Python\\Python311\\Lib\\site-packages\\statsmodels\\regression\\linear_model.py:923\u001b[0m, in \u001b[0;36mOLS.__init__\u001b[1;34m(self, endog, exog, missing, hasconst, **kwargs)\u001b[0m\n\u001b[0;32m    920\u001b[0m     msg \u001b[38;5;241m=\u001b[39m (\u001b[38;5;124m\"\u001b[39m\u001b[38;5;124mWeights are not supported in OLS and will be ignored\u001b[39m\u001b[38;5;124m\"\u001b[39m\n\u001b[0;32m    921\u001b[0m            \u001b[38;5;124m\"\u001b[39m\u001b[38;5;124mAn exception will be raised in the next version.\u001b[39m\u001b[38;5;124m\"\u001b[39m)\n\u001b[0;32m    922\u001b[0m     warnings\u001b[38;5;241m.\u001b[39mwarn(msg, ValueWarning)\n\u001b[1;32m--> 923\u001b[0m \u001b[38;5;28;43msuper\u001b[39;49m\u001b[43m(\u001b[49m\u001b[43mOLS\u001b[49m\u001b[43m,\u001b[49m\u001b[43m \u001b[49m\u001b[38;5;28;43mself\u001b[39;49m\u001b[43m)\u001b[49m\u001b[38;5;241;43m.\u001b[39;49m\u001b[38;5;21;43m__init__\u001b[39;49m\u001b[43m(\u001b[49m\u001b[43mendog\u001b[49m\u001b[43m,\u001b[49m\u001b[43m \u001b[49m\u001b[43mexog\u001b[49m\u001b[43m,\u001b[49m\u001b[43m \u001b[49m\u001b[43mmissing\u001b[49m\u001b[38;5;241;43m=\u001b[39;49m\u001b[43mmissing\u001b[49m\u001b[43m,\u001b[49m\n\u001b[0;32m    924\u001b[0m \u001b[43m                          \u001b[49m\u001b[43mhasconst\u001b[49m\u001b[38;5;241;43m=\u001b[39;49m\u001b[43mhasconst\u001b[49m\u001b[43m,\u001b[49m\u001b[43m \u001b[49m\u001b[38;5;241;43m*\u001b[39;49m\u001b[38;5;241;43m*\u001b[39;49m\u001b[43mkwargs\u001b[49m\u001b[43m)\u001b[49m\n\u001b[0;32m    925\u001b[0m \u001b[38;5;28;01mif\u001b[39;00m \u001b[38;5;124m\"\u001b[39m\u001b[38;5;124mweights\u001b[39m\u001b[38;5;124m\"\u001b[39m \u001b[38;5;129;01min\u001b[39;00m \u001b[38;5;28mself\u001b[39m\u001b[38;5;241m.\u001b[39m_init_keys:\n\u001b[0;32m    926\u001b[0m     \u001b[38;5;28mself\u001b[39m\u001b[38;5;241m.\u001b[39m_init_keys\u001b[38;5;241m.\u001b[39mremove(\u001b[38;5;124m\"\u001b[39m\u001b[38;5;124mweights\u001b[39m\u001b[38;5;124m\"\u001b[39m)\n",
      "File \u001b[1;32mc:\\Users\\phane\\AppData\\Local\\Programs\\Python\\Python311\\Lib\\site-packages\\statsmodels\\regression\\linear_model.py:748\u001b[0m, in \u001b[0;36mWLS.__init__\u001b[1;34m(self, endog, exog, weights, missing, hasconst, **kwargs)\u001b[0m\n\u001b[0;32m    746\u001b[0m \u001b[38;5;28;01melse\u001b[39;00m:\n\u001b[0;32m    747\u001b[0m     weights \u001b[38;5;241m=\u001b[39m weights\u001b[38;5;241m.\u001b[39msqueeze()\n\u001b[1;32m--> 748\u001b[0m \u001b[38;5;28;43msuper\u001b[39;49m\u001b[43m(\u001b[49m\u001b[43mWLS\u001b[49m\u001b[43m,\u001b[49m\u001b[43m \u001b[49m\u001b[38;5;28;43mself\u001b[39;49m\u001b[43m)\u001b[49m\u001b[38;5;241;43m.\u001b[39;49m\u001b[38;5;21;43m__init__\u001b[39;49m\u001b[43m(\u001b[49m\u001b[43mendog\u001b[49m\u001b[43m,\u001b[49m\u001b[43m \u001b[49m\u001b[43mexog\u001b[49m\u001b[43m,\u001b[49m\u001b[43m \u001b[49m\u001b[43mmissing\u001b[49m\u001b[38;5;241;43m=\u001b[39;49m\u001b[43mmissing\u001b[49m\u001b[43m,\u001b[49m\n\u001b[0;32m    749\u001b[0m \u001b[43m                          \u001b[49m\u001b[43mweights\u001b[49m\u001b[38;5;241;43m=\u001b[39;49m\u001b[43mweights\u001b[49m\u001b[43m,\u001b[49m\u001b[43m \u001b[49m\u001b[43mhasconst\u001b[49m\u001b[38;5;241;43m=\u001b[39;49m\u001b[43mhasconst\u001b[49m\u001b[43m,\u001b[49m\u001b[43m \u001b[49m\u001b[38;5;241;43m*\u001b[39;49m\u001b[38;5;241;43m*\u001b[39;49m\u001b[43mkwargs\u001b[49m\u001b[43m)\u001b[49m\n\u001b[0;32m    750\u001b[0m nobs \u001b[38;5;241m=\u001b[39m \u001b[38;5;28mself\u001b[39m\u001b[38;5;241m.\u001b[39mexog\u001b[38;5;241m.\u001b[39mshape[\u001b[38;5;241m0\u001b[39m]\n\u001b[0;32m    751\u001b[0m weights \u001b[38;5;241m=\u001b[39m \u001b[38;5;28mself\u001b[39m\u001b[38;5;241m.\u001b[39mweights\n",
      "File \u001b[1;32mc:\\Users\\phane\\AppData\\Local\\Programs\\Python\\Python311\\Lib\\site-packages\\statsmodels\\regression\\linear_model.py:202\u001b[0m, in \u001b[0;36mRegressionModel.__init__\u001b[1;34m(self, endog, exog, **kwargs)\u001b[0m\n\u001b[0;32m    201\u001b[0m \u001b[38;5;28;01mdef\u001b[39;00m \u001b[38;5;21m__init__\u001b[39m(\u001b[38;5;28mself\u001b[39m, endog, exog, \u001b[38;5;241m*\u001b[39m\u001b[38;5;241m*\u001b[39mkwargs):\n\u001b[1;32m--> 202\u001b[0m     \u001b[38;5;28;43msuper\u001b[39;49m\u001b[43m(\u001b[49m\u001b[43mRegressionModel\u001b[49m\u001b[43m,\u001b[49m\u001b[43m \u001b[49m\u001b[38;5;28;43mself\u001b[39;49m\u001b[43m)\u001b[49m\u001b[38;5;241;43m.\u001b[39;49m\u001b[38;5;21;43m__init__\u001b[39;49m\u001b[43m(\u001b[49m\u001b[43mendog\u001b[49m\u001b[43m,\u001b[49m\u001b[43m \u001b[49m\u001b[43mexog\u001b[49m\u001b[43m,\u001b[49m\u001b[43m \u001b[49m\u001b[38;5;241;43m*\u001b[39;49m\u001b[38;5;241;43m*\u001b[39;49m\u001b[43mkwargs\u001b[49m\u001b[43m)\u001b[49m\n\u001b[0;32m    203\u001b[0m     \u001b[38;5;28mself\u001b[39m\u001b[38;5;241m.\u001b[39mpinv_wexog: Float64Array \u001b[38;5;241m|\u001b[39m \u001b[38;5;28;01mNone\u001b[39;00m \u001b[38;5;241m=\u001b[39m \u001b[38;5;28;01mNone\u001b[39;00m\n\u001b[0;32m    204\u001b[0m     \u001b[38;5;28mself\u001b[39m\u001b[38;5;241m.\u001b[39m_data_attr\u001b[38;5;241m.\u001b[39mextend([\u001b[38;5;124m'\u001b[39m\u001b[38;5;124mpinv_wexog\u001b[39m\u001b[38;5;124m'\u001b[39m, \u001b[38;5;124m'\u001b[39m\u001b[38;5;124mwendog\u001b[39m\u001b[38;5;124m'\u001b[39m, \u001b[38;5;124m'\u001b[39m\u001b[38;5;124mwexog\u001b[39m\u001b[38;5;124m'\u001b[39m, \u001b[38;5;124m'\u001b[39m\u001b[38;5;124mweights\u001b[39m\u001b[38;5;124m'\u001b[39m])\n",
      "File \u001b[1;32mc:\\Users\\phane\\AppData\\Local\\Programs\\Python\\Python311\\Lib\\site-packages\\statsmodels\\base\\model.py:270\u001b[0m, in \u001b[0;36mLikelihoodModel.__init__\u001b[1;34m(self, endog, exog, **kwargs)\u001b[0m\n\u001b[0;32m    269\u001b[0m \u001b[38;5;28;01mdef\u001b[39;00m \u001b[38;5;21m__init__\u001b[39m(\u001b[38;5;28mself\u001b[39m, endog, exog\u001b[38;5;241m=\u001b[39m\u001b[38;5;28;01mNone\u001b[39;00m, \u001b[38;5;241m*\u001b[39m\u001b[38;5;241m*\u001b[39mkwargs):\n\u001b[1;32m--> 270\u001b[0m     \u001b[38;5;28;43msuper\u001b[39;49m\u001b[43m(\u001b[49m\u001b[43m)\u001b[49m\u001b[38;5;241;43m.\u001b[39;49m\u001b[38;5;21;43m__init__\u001b[39;49m\u001b[43m(\u001b[49m\u001b[43mendog\u001b[49m\u001b[43m,\u001b[49m\u001b[43m \u001b[49m\u001b[43mexog\u001b[49m\u001b[43m,\u001b[49m\u001b[43m \u001b[49m\u001b[38;5;241;43m*\u001b[39;49m\u001b[38;5;241;43m*\u001b[39;49m\u001b[43mkwargs\u001b[49m\u001b[43m)\u001b[49m\n\u001b[0;32m    271\u001b[0m     \u001b[38;5;28mself\u001b[39m\u001b[38;5;241m.\u001b[39minitialize()\n",
      "File \u001b[1;32mc:\\Users\\phane\\AppData\\Local\\Programs\\Python\\Python311\\Lib\\site-packages\\statsmodels\\base\\model.py:95\u001b[0m, in \u001b[0;36mModel.__init__\u001b[1;34m(self, endog, exog, **kwargs)\u001b[0m\n\u001b[0;32m     93\u001b[0m missing \u001b[38;5;241m=\u001b[39m kwargs\u001b[38;5;241m.\u001b[39mpop(\u001b[38;5;124m'\u001b[39m\u001b[38;5;124mmissing\u001b[39m\u001b[38;5;124m'\u001b[39m, \u001b[38;5;124m'\u001b[39m\u001b[38;5;124mnone\u001b[39m\u001b[38;5;124m'\u001b[39m)\n\u001b[0;32m     94\u001b[0m hasconst \u001b[38;5;241m=\u001b[39m kwargs\u001b[38;5;241m.\u001b[39mpop(\u001b[38;5;124m'\u001b[39m\u001b[38;5;124mhasconst\u001b[39m\u001b[38;5;124m'\u001b[39m, \u001b[38;5;28;01mNone\u001b[39;00m)\n\u001b[1;32m---> 95\u001b[0m \u001b[38;5;28mself\u001b[39m\u001b[38;5;241m.\u001b[39mdata \u001b[38;5;241m=\u001b[39m \u001b[38;5;28;43mself\u001b[39;49m\u001b[38;5;241;43m.\u001b[39;49m\u001b[43m_handle_data\u001b[49m\u001b[43m(\u001b[49m\u001b[43mendog\u001b[49m\u001b[43m,\u001b[49m\u001b[43m \u001b[49m\u001b[43mexog\u001b[49m\u001b[43m,\u001b[49m\u001b[43m \u001b[49m\u001b[43mmissing\u001b[49m\u001b[43m,\u001b[49m\u001b[43m \u001b[49m\u001b[43mhasconst\u001b[49m\u001b[43m,\u001b[49m\n\u001b[0;32m     96\u001b[0m \u001b[43m                              \u001b[49m\u001b[38;5;241;43m*\u001b[39;49m\u001b[38;5;241;43m*\u001b[39;49m\u001b[43mkwargs\u001b[49m\u001b[43m)\u001b[49m\n\u001b[0;32m     97\u001b[0m \u001b[38;5;28mself\u001b[39m\u001b[38;5;241m.\u001b[39mk_constant \u001b[38;5;241m=\u001b[39m \u001b[38;5;28mself\u001b[39m\u001b[38;5;241m.\u001b[39mdata\u001b[38;5;241m.\u001b[39mk_constant\n\u001b[0;32m     98\u001b[0m \u001b[38;5;28mself\u001b[39m\u001b[38;5;241m.\u001b[39mexog \u001b[38;5;241m=\u001b[39m \u001b[38;5;28mself\u001b[39m\u001b[38;5;241m.\u001b[39mdata\u001b[38;5;241m.\u001b[39mexog\n",
      "File \u001b[1;32mc:\\Users\\phane\\AppData\\Local\\Programs\\Python\\Python311\\Lib\\site-packages\\statsmodels\\base\\model.py:135\u001b[0m, in \u001b[0;36mModel._handle_data\u001b[1;34m(self, endog, exog, missing, hasconst, **kwargs)\u001b[0m\n\u001b[0;32m    134\u001b[0m \u001b[38;5;28;01mdef\u001b[39;00m \u001b[38;5;21m_handle_data\u001b[39m(\u001b[38;5;28mself\u001b[39m, endog, exog, missing, hasconst, \u001b[38;5;241m*\u001b[39m\u001b[38;5;241m*\u001b[39mkwargs):\n\u001b[1;32m--> 135\u001b[0m     data \u001b[38;5;241m=\u001b[39m \u001b[43mhandle_data\u001b[49m\u001b[43m(\u001b[49m\u001b[43mendog\u001b[49m\u001b[43m,\u001b[49m\u001b[43m \u001b[49m\u001b[43mexog\u001b[49m\u001b[43m,\u001b[49m\u001b[43m \u001b[49m\u001b[43mmissing\u001b[49m\u001b[43m,\u001b[49m\u001b[43m \u001b[49m\u001b[43mhasconst\u001b[49m\u001b[43m,\u001b[49m\u001b[43m \u001b[49m\u001b[38;5;241;43m*\u001b[39;49m\u001b[38;5;241;43m*\u001b[39;49m\u001b[43mkwargs\u001b[49m\u001b[43m)\u001b[49m\n\u001b[0;32m    136\u001b[0m     \u001b[38;5;66;03m# kwargs arrays could have changed, easier to just attach here\u001b[39;00m\n\u001b[0;32m    137\u001b[0m     \u001b[38;5;28;01mfor\u001b[39;00m key \u001b[38;5;129;01min\u001b[39;00m kwargs:\n",
      "File \u001b[1;32mc:\\Users\\phane\\AppData\\Local\\Programs\\Python\\Python311\\Lib\\site-packages\\statsmodels\\base\\data.py:675\u001b[0m, in \u001b[0;36mhandle_data\u001b[1;34m(endog, exog, missing, hasconst, **kwargs)\u001b[0m\n\u001b[0;32m    672\u001b[0m     exog \u001b[38;5;241m=\u001b[39m np\u001b[38;5;241m.\u001b[39masarray(exog)\n\u001b[0;32m    674\u001b[0m klass \u001b[38;5;241m=\u001b[39m handle_data_class_factory(endog, exog)\n\u001b[1;32m--> 675\u001b[0m \u001b[38;5;28;01mreturn\u001b[39;00m \u001b[43mklass\u001b[49m\u001b[43m(\u001b[49m\u001b[43mendog\u001b[49m\u001b[43m,\u001b[49m\u001b[43m \u001b[49m\u001b[43mexog\u001b[49m\u001b[38;5;241;43m=\u001b[39;49m\u001b[43mexog\u001b[49m\u001b[43m,\u001b[49m\u001b[43m \u001b[49m\u001b[43mmissing\u001b[49m\u001b[38;5;241;43m=\u001b[39;49m\u001b[43mmissing\u001b[49m\u001b[43m,\u001b[49m\u001b[43m \u001b[49m\u001b[43mhasconst\u001b[49m\u001b[38;5;241;43m=\u001b[39;49m\u001b[43mhasconst\u001b[49m\u001b[43m,\u001b[49m\n\u001b[0;32m    676\u001b[0m \u001b[43m             \u001b[49m\u001b[38;5;241;43m*\u001b[39;49m\u001b[38;5;241;43m*\u001b[39;49m\u001b[43mkwargs\u001b[49m\u001b[43m)\u001b[49m\n",
      "File \u001b[1;32mc:\\Users\\phane\\AppData\\Local\\Programs\\Python\\Python311\\Lib\\site-packages\\statsmodels\\base\\data.py:88\u001b[0m, in \u001b[0;36mModelData.__init__\u001b[1;34m(self, endog, exog, missing, hasconst, **kwargs)\u001b[0m\n\u001b[0;32m     86\u001b[0m \u001b[38;5;28mself\u001b[39m\u001b[38;5;241m.\u001b[39mconst_idx \u001b[38;5;241m=\u001b[39m \u001b[38;5;28;01mNone\u001b[39;00m\n\u001b[0;32m     87\u001b[0m \u001b[38;5;28mself\u001b[39m\u001b[38;5;241m.\u001b[39mk_constant \u001b[38;5;241m=\u001b[39m \u001b[38;5;241m0\u001b[39m\n\u001b[1;32m---> 88\u001b[0m \u001b[38;5;28;43mself\u001b[39;49m\u001b[38;5;241;43m.\u001b[39;49m\u001b[43m_handle_constant\u001b[49m\u001b[43m(\u001b[49m\u001b[43mhasconst\u001b[49m\u001b[43m)\u001b[49m\n\u001b[0;32m     89\u001b[0m \u001b[38;5;28mself\u001b[39m\u001b[38;5;241m.\u001b[39m_check_integrity()\n\u001b[0;32m     90\u001b[0m \u001b[38;5;28mself\u001b[39m\u001b[38;5;241m.\u001b[39m_cache \u001b[38;5;241m=\u001b[39m {}\n",
      "File \u001b[1;32mc:\\Users\\phane\\AppData\\Local\\Programs\\Python\\Python311\\Lib\\site-packages\\statsmodels\\base\\data.py:132\u001b[0m, in \u001b[0;36mModelData._handle_constant\u001b[1;34m(self, hasconst)\u001b[0m\n\u001b[0;32m    129\u001b[0m \u001b[38;5;28;01melse\u001b[39;00m:\n\u001b[0;32m    130\u001b[0m     \u001b[38;5;66;03m# detect where the constant is\u001b[39;00m\n\u001b[0;32m    131\u001b[0m     check_implicit \u001b[38;5;241m=\u001b[39m \u001b[38;5;28;01mFalse\u001b[39;00m\n\u001b[1;32m--> 132\u001b[0m     exog_max \u001b[38;5;241m=\u001b[39m \u001b[43mnp\u001b[49m\u001b[38;5;241;43m.\u001b[39;49m\u001b[43mmax\u001b[49m\u001b[43m(\u001b[49m\u001b[38;5;28;43mself\u001b[39;49m\u001b[38;5;241;43m.\u001b[39;49m\u001b[43mexog\u001b[49m\u001b[43m,\u001b[49m\u001b[43m \u001b[49m\u001b[43maxis\u001b[49m\u001b[38;5;241;43m=\u001b[39;49m\u001b[38;5;241;43m0\u001b[39;49m\u001b[43m)\u001b[49m\n\u001b[0;32m    133\u001b[0m     \u001b[38;5;28;01mif\u001b[39;00m \u001b[38;5;129;01mnot\u001b[39;00m np\u001b[38;5;241m.\u001b[39misfinite(exog_max)\u001b[38;5;241m.\u001b[39mall():\n\u001b[0;32m    134\u001b[0m         \u001b[38;5;28;01mraise\u001b[39;00m MissingDataError(\u001b[38;5;124m'\u001b[39m\u001b[38;5;124mexog contains inf or nans\u001b[39m\u001b[38;5;124m'\u001b[39m)\n",
      "File \u001b[1;32mc:\\Users\\phane\\AppData\\Local\\Programs\\Python\\Python311\\Lib\\site-packages\\numpy\\core\\fromnumeric.py:2810\u001b[0m, in \u001b[0;36mmax\u001b[1;34m(a, axis, out, keepdims, initial, where)\u001b[0m\n\u001b[0;32m   2692\u001b[0m \u001b[38;5;129m@array_function_dispatch\u001b[39m(_max_dispatcher)\n\u001b[0;32m   2693\u001b[0m \u001b[38;5;129m@set_module\u001b[39m(\u001b[38;5;124m'\u001b[39m\u001b[38;5;124mnumpy\u001b[39m\u001b[38;5;124m'\u001b[39m)\n\u001b[0;32m   2694\u001b[0m \u001b[38;5;28;01mdef\u001b[39;00m \u001b[38;5;21mmax\u001b[39m(a, axis\u001b[38;5;241m=\u001b[39m\u001b[38;5;28;01mNone\u001b[39;00m, out\u001b[38;5;241m=\u001b[39m\u001b[38;5;28;01mNone\u001b[39;00m, keepdims\u001b[38;5;241m=\u001b[39mnp\u001b[38;5;241m.\u001b[39m_NoValue, initial\u001b[38;5;241m=\u001b[39mnp\u001b[38;5;241m.\u001b[39m_NoValue,\n\u001b[0;32m   2695\u001b[0m          where\u001b[38;5;241m=\u001b[39mnp\u001b[38;5;241m.\u001b[39m_NoValue):\n\u001b[0;32m   2696\u001b[0m \u001b[38;5;250m    \u001b[39m\u001b[38;5;124;03m\"\"\"\u001b[39;00m\n\u001b[0;32m   2697\u001b[0m \u001b[38;5;124;03m    Return the maximum of an array or maximum along an axis.\u001b[39;00m\n\u001b[0;32m   2698\u001b[0m \n\u001b[1;32m   (...)\u001b[0m\n\u001b[0;32m   2808\u001b[0m \u001b[38;5;124;03m    5\u001b[39;00m\n\u001b[0;32m   2809\u001b[0m \u001b[38;5;124;03m    \"\"\"\u001b[39;00m\n\u001b[1;32m-> 2810\u001b[0m     \u001b[38;5;28;01mreturn\u001b[39;00m \u001b[43m_wrapreduction\u001b[49m\u001b[43m(\u001b[49m\u001b[43ma\u001b[49m\u001b[43m,\u001b[49m\u001b[43m \u001b[49m\u001b[43mnp\u001b[49m\u001b[38;5;241;43m.\u001b[39;49m\u001b[43mmaximum\u001b[49m\u001b[43m,\u001b[49m\u001b[43m \u001b[49m\u001b[38;5;124;43m'\u001b[39;49m\u001b[38;5;124;43mmax\u001b[39;49m\u001b[38;5;124;43m'\u001b[39;49m\u001b[43m,\u001b[49m\u001b[43m \u001b[49m\u001b[43maxis\u001b[49m\u001b[43m,\u001b[49m\u001b[43m \u001b[49m\u001b[38;5;28;43;01mNone\u001b[39;49;00m\u001b[43m,\u001b[49m\u001b[43m \u001b[49m\u001b[43mout\u001b[49m\u001b[43m,\u001b[49m\n\u001b[0;32m   2811\u001b[0m \u001b[43m                          \u001b[49m\u001b[43mkeepdims\u001b[49m\u001b[38;5;241;43m=\u001b[39;49m\u001b[43mkeepdims\u001b[49m\u001b[43m,\u001b[49m\u001b[43m \u001b[49m\u001b[43minitial\u001b[49m\u001b[38;5;241;43m=\u001b[39;49m\u001b[43minitial\u001b[49m\u001b[43m,\u001b[49m\u001b[43m \u001b[49m\u001b[43mwhere\u001b[49m\u001b[38;5;241;43m=\u001b[39;49m\u001b[43mwhere\u001b[49m\u001b[43m)\u001b[49m\n",
      "File \u001b[1;32mc:\\Users\\phane\\AppData\\Local\\Programs\\Python\\Python311\\Lib\\site-packages\\numpy\\core\\fromnumeric.py:88\u001b[0m, in \u001b[0;36m_wrapreduction\u001b[1;34m(obj, ufunc, method, axis, dtype, out, **kwargs)\u001b[0m\n\u001b[0;32m     85\u001b[0m         \u001b[38;5;28;01melse\u001b[39;00m:\n\u001b[0;32m     86\u001b[0m             \u001b[38;5;28;01mreturn\u001b[39;00m reduction(axis\u001b[38;5;241m=\u001b[39maxis, out\u001b[38;5;241m=\u001b[39mout, \u001b[38;5;241m*\u001b[39m\u001b[38;5;241m*\u001b[39mpasskwargs)\n\u001b[1;32m---> 88\u001b[0m \u001b[38;5;28;01mreturn\u001b[39;00m \u001b[43mufunc\u001b[49m\u001b[38;5;241;43m.\u001b[39;49m\u001b[43mreduce\u001b[49m\u001b[43m(\u001b[49m\u001b[43mobj\u001b[49m\u001b[43m,\u001b[49m\u001b[43m \u001b[49m\u001b[43maxis\u001b[49m\u001b[43m,\u001b[49m\u001b[43m \u001b[49m\u001b[43mdtype\u001b[49m\u001b[43m,\u001b[49m\u001b[43m \u001b[49m\u001b[43mout\u001b[49m\u001b[43m,\u001b[49m\u001b[43m \u001b[49m\u001b[38;5;241;43m*\u001b[39;49m\u001b[38;5;241;43m*\u001b[39;49m\u001b[43mpasskwargs\u001b[49m\u001b[43m)\u001b[49m\n",
      "\u001b[1;31mTypeError\u001b[0m: '>=' not supported between instances of 'str' and 'float'"
     ]
    }
   ],
   "source": [
    "# 2.3.4 Calculate the VIF for each of the columns and display the information.(Make E.C.?)\n",
    "\n",
    "vif = pd.DataFrame()\n",
    "vif[\"Variable\"] = df.columns\n",
    "vif[\"VIF\"] = [variance_inflation_factor(df.values, i) for i in range(df.shape[1])]\n",
    "print(\"VIF values for each column is\")\n",
    "print(vif)\n"
   ]
  },
  {
   "cell_type": "markdown",
   "id": "2a3f9455",
   "metadata": {},
   "source": [
    "### 2.4. **Spot outliers in the dataset.**\n",
    "(we will not remove outliers for this homework)."
   ]
  },
  {
   "cell_type": "code",
   "execution_count": 76,
   "id": "f5aab45d-e608-4155-916a-a4ea68affcc4",
   "metadata": {
    "tags": []
   },
   "outputs": [
    {
     "data": {
      "image/png": "[encoded data removed]",
      "text/plain": [
       "<Figure size 600x400 with 1 Axes>"
      ]
     },
     "metadata": {},
     "output_type": "display_data"
    }
   ],
   "source": [
    "# 2.4.1. Show boxplot of price in $ \n",
    "plt.figure(figsize=(6, 4))\n",
    "sns.boxplot(x=df2['price in $'])\n",
    "plt.title(\"Boxplot to determine outliers of Price in $ \")\n",
    "plt.show()"
   ]
  },
  {
   "cell_type": "code",
   "execution_count": 75,
   "id": "72df07aa-dfbd-41a9-95ce-671f66daed27",
   "metadata": {
    "tags": []
   },
   "outputs": [
    {
     "data": {
      "text/plain": [
       "10000.0"
      ]
     },
     "execution_count": 75,
     "metadata": {},
     "output_type": "execute_result"
    }
   ],
   "source": [
    "# 2.4.2 Show the maximum price in $\n",
    "maximum_price = df2['price in $'].max()\n",
    "maximum_price"
   ]
  },
  {
   "cell_type": "code",
   "execution_count": 79,
   "id": "ab4b4c7d-0cc6-4e79-9ea0-f51124e1b509",
   "metadata": {
    "tags": []
   },
   "outputs": [
    {
     "data": {
      "image/png": "[encoded data removed]",
      "text/plain": [
       "<Figure size 600x400 with 1 Axes>"
      ]
     },
     "metadata": {},
     "output_type": "display_data"
    }
   ],
   "source": [
    "# 2.4.3 Show a boxplot for minimum_nights\n",
    "plt.figure(figsize=(6, 4))\n",
    "sns.boxplot(x=df2['minimum_nights'])\n",
    "plt.title(\"Boxplot for minimum_nights\")\n",
    "plt.show()"
   ]
  },
  {
   "cell_type": "code",
   "execution_count": 78,
   "id": "5dd14340-b802-46fd-8098-66e43c345753",
   "metadata": {
    "tags": []
   },
   "outputs": [
    {
     "data": {
      "image/png": "[encoded data removed]",
      "text/plain": [
       "<Figure size 600x400 with 1 Axes>"
      ]
     },
     "metadata": {},
     "output_type": "display_data"
    }
   ],
   "source": [
    "# 2.4.4 Show a boxplot for Rating\n",
    "plt.figure(figsize=(6, 4))\n",
    "sns.boxplot(x=df2['Rating'])\n",
    "plt.title(\"Boxplot for Rating\")\n",
    "plt.show()"
   ]
  },
  {
   "cell_type": "code",
   "execution_count": 81,
   "id": "aaa4e4a7-d9a7-42ab-aa4b-f8d167ce3d85",
   "metadata": {
    "tags": []
   },
   "outputs": [],
   "source": [
    "# 2.4.5 Define a function to drop outliers beyond a specific multiplier of the IQR.\n",
    "def drop_outliers(data_frame, column, iqr_multiplier=1):\n",
    "    q1 = data_frame[column].quantile(0.25)\n",
    "    q3 = data_frame[column].quantile(0.75)\n",
    "    iqr = q3 - q1\n",
    "    lower_bound = q1 - iqr_multiplier * iqr\n",
    "    upper_bound = q3 + iqr_multiplier * iqr\n",
    "    filtered_df2 = data_frame[(data_frame[column] >= lower_bound) & (data_frame[column] <= upper_bound)]\n",
    "\n",
    "    return filtered_df2"
   ]
  },
  {
   "cell_type": "code",
   "execution_count": 82,
   "id": "3707791b-771a-4c4d-b355-3d2778883d7c",
   "metadata": {
    "tags": []
   },
   "outputs": [
    {
     "data": {
      "text/html": [
       "<div>\n",
       "<style scoped>\n",
       "    .dataframe tbody tr th:only-of-type {\n",
       "        vertical-align: middle;\n",
       "    }\n",
       "\n",
       "    .dataframe tbody tr th {\n",
       "        vertical-align: top;\n",
       "    }\n",
       "\n",
       "    .dataframe thead th {\n",
       "        text-align: right;\n",
       "    }\n",
       "</style>\n",
       "<table border=\"1\" class=\"dataframe\">\n",
       "  <thead>\n",
       "    <tr style=\"text-align: right;\">\n",
       "      <th></th>\n",
       "      <th>host_id</th>\n",
       "      <th>neighbourhood</th>\n",
       "      <th>room_type</th>\n",
       "      <th>price in $</th>\n",
       "      <th>minimum_nights</th>\n",
       "      <th>availability_365</th>\n",
       "      <th>Apartment_type</th>\n",
       "      <th>City</th>\n",
       "      <th>Rating</th>\n",
       "      <th>No_of_bed_rooms</th>\n",
       "      <th>No_of_beds</th>\n",
       "      <th>No_of_bathrooms</th>\n",
       "      <th>Bathroom_type</th>\n",
       "      <th>constant</th>\n",
       "    </tr>\n",
       "  </thead>\n",
       "  <tbody>\n",
       "    <tr>\n",
       "      <th>0</th>\n",
       "      <td>&lt;NA&gt;</td>\n",
       "      <td>NaN</td>\n",
       "      <td>NaN</td>\n",
       "      <td>69.0</td>\n",
       "      <td>3.0</td>\n",
       "      <td>NaN</td>\n",
       "      <td>NaN</td>\n",
       "      <td>NaN</td>\n",
       "      <td>4.89</td>\n",
       "      <td>NaN</td>\n",
       "      <td>NaN</td>\n",
       "      <td>NaN</td>\n",
       "      <td>NaN</td>\n",
       "      <td>NaN</td>\n",
       "    </tr>\n",
       "    <tr>\n",
       "      <th>2</th>\n",
       "      <td>&lt;NA&gt;</td>\n",
       "      <td>NaN</td>\n",
       "      <td>NaN</td>\n",
       "      <td>270.0</td>\n",
       "      <td>4.0</td>\n",
       "      <td>NaN</td>\n",
       "      <td>NaN</td>\n",
       "      <td>NaN</td>\n",
       "      <td>4.86</td>\n",
       "      <td>NaN</td>\n",
       "      <td>NaN</td>\n",
       "      <td>NaN</td>\n",
       "      <td>NaN</td>\n",
       "      <td>NaN</td>\n",
       "    </tr>\n",
       "    <tr>\n",
       "      <th>3</th>\n",
       "      <td>&lt;NA&gt;</td>\n",
       "      <td>NaN</td>\n",
       "      <td>NaN</td>\n",
       "      <td>200.0</td>\n",
       "      <td>3.0</td>\n",
       "      <td>NaN</td>\n",
       "      <td>NaN</td>\n",
       "      <td>NaN</td>\n",
       "      <td>4.76</td>\n",
       "      <td>NaN</td>\n",
       "      <td>NaN</td>\n",
       "      <td>NaN</td>\n",
       "      <td>NaN</td>\n",
       "      <td>NaN</td>\n",
       "    </tr>\n",
       "    <tr>\n",
       "      <th>4</th>\n",
       "      <td>&lt;NA&gt;</td>\n",
       "      <td>NaN</td>\n",
       "      <td>NaN</td>\n",
       "      <td>137.0</td>\n",
       "      <td>3.0</td>\n",
       "      <td>NaN</td>\n",
       "      <td>NaN</td>\n",
       "      <td>NaN</td>\n",
       "      <td>4.94</td>\n",
       "      <td>NaN</td>\n",
       "      <td>NaN</td>\n",
       "      <td>NaN</td>\n",
       "      <td>NaN</td>\n",
       "      <td>NaN</td>\n",
       "    </tr>\n",
       "    <tr>\n",
       "      <th>5</th>\n",
       "      <td>&lt;NA&gt;</td>\n",
       "      <td>NaN</td>\n",
       "      <td>NaN</td>\n",
       "      <td>170.0</td>\n",
       "      <td>3.0</td>\n",
       "      <td>NaN</td>\n",
       "      <td>NaN</td>\n",
       "      <td>NaN</td>\n",
       "      <td>4.77</td>\n",
       "      <td>NaN</td>\n",
       "      <td>NaN</td>\n",
       "      <td>NaN</td>\n",
       "      <td>NaN</td>\n",
       "      <td>NaN</td>\n",
       "    </tr>\n",
       "    <tr>\n",
       "      <th>...</th>\n",
       "      <td>...</td>\n",
       "      <td>...</td>\n",
       "      <td>...</td>\n",
       "      <td>...</td>\n",
       "      <td>...</td>\n",
       "      <td>...</td>\n",
       "      <td>...</td>\n",
       "      <td>...</td>\n",
       "      <td>...</td>\n",
       "      <td>...</td>\n",
       "      <td>...</td>\n",
       "      <td>...</td>\n",
       "      <td>...</td>\n",
       "      <td>...</td>\n",
       "    </tr>\n",
       "    <tr>\n",
       "      <th>7364</th>\n",
       "      <td>&lt;NA&gt;</td>\n",
       "      <td>NaN</td>\n",
       "      <td>NaN</td>\n",
       "      <td>406.0</td>\n",
       "      <td>1.0</td>\n",
       "      <td>NaN</td>\n",
       "      <td>NaN</td>\n",
       "      <td>NaN</td>\n",
       "      <td>4.71</td>\n",
       "      <td>NaN</td>\n",
       "      <td>NaN</td>\n",
       "      <td>NaN</td>\n",
       "      <td>NaN</td>\n",
       "      <td>NaN</td>\n",
       "    </tr>\n",
       "    <tr>\n",
       "      <th>7365</th>\n",
       "      <td>&lt;NA&gt;</td>\n",
       "      <td>NaN</td>\n",
       "      <td>NaN</td>\n",
       "      <td>339.0</td>\n",
       "      <td>1.0</td>\n",
       "      <td>NaN</td>\n",
       "      <td>NaN</td>\n",
       "      <td>NaN</td>\n",
       "      <td>NaN</td>\n",
       "      <td>NaN</td>\n",
       "      <td>NaN</td>\n",
       "      <td>NaN</td>\n",
       "      <td>NaN</td>\n",
       "      <td>NaN</td>\n",
       "    </tr>\n",
       "    <tr>\n",
       "      <th>7416</th>\n",
       "      <td>&lt;NA&gt;</td>\n",
       "      <td>NaN</td>\n",
       "      <td>NaN</td>\n",
       "      <td>99.0</td>\n",
       "      <td>1.0</td>\n",
       "      <td>NaN</td>\n",
       "      <td>NaN</td>\n",
       "      <td>NaN</td>\n",
       "      <td>4.86</td>\n",
       "      <td>NaN</td>\n",
       "      <td>NaN</td>\n",
       "      <td>NaN</td>\n",
       "      <td>NaN</td>\n",
       "      <td>NaN</td>\n",
       "    </tr>\n",
       "    <tr>\n",
       "      <th>7425</th>\n",
       "      <td>&lt;NA&gt;</td>\n",
       "      <td>NaN</td>\n",
       "      <td>NaN</td>\n",
       "      <td>106.0</td>\n",
       "      <td>1.0</td>\n",
       "      <td>NaN</td>\n",
       "      <td>NaN</td>\n",
       "      <td>NaN</td>\n",
       "      <td>5.00</td>\n",
       "      <td>NaN</td>\n",
       "      <td>NaN</td>\n",
       "      <td>NaN</td>\n",
       "      <td>NaN</td>\n",
       "      <td>NaN</td>\n",
       "    </tr>\n",
       "    <tr>\n",
       "      <th>7478</th>\n",
       "      <td>&lt;NA&gt;</td>\n",
       "      <td>NaN</td>\n",
       "      <td>NaN</td>\n",
       "      <td>316.0</td>\n",
       "      <td>4.0</td>\n",
       "      <td>NaN</td>\n",
       "      <td>NaN</td>\n",
       "      <td>NaN</td>\n",
       "      <td>5.00</td>\n",
       "      <td>NaN</td>\n",
       "      <td>NaN</td>\n",
       "      <td>NaN</td>\n",
       "      <td>NaN</td>\n",
       "      <td>NaN</td>\n",
       "    </tr>\n",
       "  </tbody>\n",
       "</table>\n",
       "<p>5104 rows × 14 columns</p>\n",
       "</div>"
      ],
      "text/plain": [
       "      host_id neighbourhood room_type  price in $  minimum_nights  \\\n",
       "0        <NA>           NaN       NaN        69.0             3.0   \n",
       "2        <NA>           NaN       NaN       270.0             4.0   \n",
       "3        <NA>           NaN       NaN       200.0             3.0   \n",
       "4        <NA>           NaN       NaN       137.0             3.0   \n",
       "5        <NA>           NaN       NaN       170.0             3.0   \n",
       "...       ...           ...       ...         ...             ...   \n",
       "7364     <NA>           NaN       NaN       406.0             1.0   \n",
       "7365     <NA>           NaN       NaN       339.0             1.0   \n",
       "7416     <NA>           NaN       NaN        99.0             1.0   \n",
       "7425     <NA>           NaN       NaN       106.0             1.0   \n",
       "7478     <NA>           NaN       NaN       316.0             4.0   \n",
       "\n",
       "      availability_365 Apartment_type City  Rating  No_of_bed_rooms  \\\n",
       "0                  NaN            NaN  NaN    4.89              NaN   \n",
       "2                  NaN            NaN  NaN    4.86              NaN   \n",
       "3                  NaN            NaN  NaN    4.76              NaN   \n",
       "4                  NaN            NaN  NaN    4.94              NaN   \n",
       "5                  NaN            NaN  NaN    4.77              NaN   \n",
       "...                ...            ...  ...     ...              ...   \n",
       "7364               NaN            NaN  NaN    4.71              NaN   \n",
       "7365               NaN            NaN  NaN     NaN              NaN   \n",
       "7416               NaN            NaN  NaN    4.86              NaN   \n",
       "7425               NaN            NaN  NaN    5.00              NaN   \n",
       "7478               NaN            NaN  NaN    5.00              NaN   \n",
       "\n",
       "      No_of_beds  No_of_bathrooms  Bathroom_type  constant  \n",
       "0            NaN              NaN            NaN       NaN  \n",
       "2            NaN              NaN            NaN       NaN  \n",
       "3            NaN              NaN            NaN       NaN  \n",
       "4            NaN              NaN            NaN       NaN  \n",
       "5            NaN              NaN            NaN       NaN  \n",
       "...          ...              ...            ...       ...  \n",
       "7364         NaN              NaN            NaN       NaN  \n",
       "7365         NaN              NaN            NaN       NaN  \n",
       "7416         NaN              NaN            NaN       NaN  \n",
       "7425         NaN              NaN            NaN       NaN  \n",
       "7478         NaN              NaN            NaN       NaN  \n",
       "\n",
       "[5104 rows x 14 columns]"
      ]
     },
     "execution_count": 82,
     "metadata": {},
     "output_type": "execute_result"
    }
   ],
   "source": [
    "# 2.4.6 Find outliers for 'price in $', 'minimum_nights', and 'Rating' using the standard multiplier (1.5)\n",
    "refined_df2 = drop_outliers(df2,['Rating', 'minimum_nights','price in $'])\n",
    "refined_df2"
   ]
  },
  {
   "cell_type": "code",
   "execution_count": 83,
   "id": "12eea4f0-c061-434c-b27e-3d7897a89d22",
   "metadata": {
    "tags": []
   },
   "outputs": [
    {
     "name": "stdout",
     "output_type": "stream",
     "text": [
      "        host_id                           neighbourhood        room_type  \\\n",
      "0          3159  Oostelijk Havengebied - Indische Buurt     Private room   \n",
      "2       1100324                 De Pijp - Rivierenbuurt  Entire home/apt   \n",
      "3        748161                                Oud-Oost  Entire home/apt   \n",
      "4         97647                            Centrum-West     Private room   \n",
      "5        776296                  De Baarsjes - Oud-West  Entire home/apt   \n",
      "...         ...                                     ...              ...   \n",
      "7364  311321908                            Centrum-West     Private room   \n",
      "7365  311321908                            Centrum-West     Private room   \n",
      "7416  511848149                  De Aker - Nieuw Sloten     Private room   \n",
      "7425  108331970                         Watergraafsmeer     Private room   \n",
      "7478   49402797                              Westerpark  Entire home/apt   \n",
      "\n",
      "      price in $  minimum_nights  availability_365   Apartment_type  \\\n",
      "0           69.0             3.0               7.0            Condo   \n",
      "2          270.0             4.0               2.0      Rental unit   \n",
      "3          200.0             3.0               0.0      Rental unit   \n",
      "4          137.0             3.0               0.0        Houseboat   \n",
      "5          170.0             3.0             157.0      Rental unit   \n",
      "...          ...             ...               ...              ...   \n",
      "7364       406.0             1.0             286.0            Hotel   \n",
      "7365       339.0             1.0             235.0            Hotel   \n",
      "7416        99.0             1.0              95.0             Home   \n",
      "7425       106.0             1.0              19.0  casa particular   \n",
      "7478       316.0             4.0              12.0            Condo   \n",
      "\n",
      "           City  Rating  No_of_bed_rooms  No_of_beds  No_of_bathrooms  \\\n",
      "0     Amsterdam    4.89              1.0         1.0              1.5   \n",
      "2     Amsterdam    4.86              3.0         3.0              1.5   \n",
      "3     Amsterdam    4.76              1.0         1.0              1.5   \n",
      "4     Amsterdam    4.94              1.0         1.0              1.5   \n",
      "5     Amsterdam    4.77              1.0         1.0              1.0   \n",
      "...         ...     ...              ...         ...              ...   \n",
      "7364  Amsterdam    4.71              1.0         1.0              1.0   \n",
      "7365  Amsterdam    3.67              1.0         1.0              1.0   \n",
      "7416  Amsterdam    4.86              1.0         1.0              1.0   \n",
      "7425  Amsterdam    5.00              1.0         1.0              1.5   \n",
      "7478  Amsterdam    5.00              2.0         2.0              1.0   \n",
      "\n",
      "      Bathroom_type  constant  \n",
      "0                 0         1  \n",
      "2                 1         1  \n",
      "3                 1         1  \n",
      "4                 1         1  \n",
      "5                 1         1  \n",
      "...             ...       ...  \n",
      "7364              1         1  \n",
      "7365              1         1  \n",
      "7416              1         1  \n",
      "7425              0         1  \n",
      "7478              1         1  \n",
      "\n",
      "[5104 rows x 14 columns] {'price in $': 380, 'minimum_nights': 380, 'Rating': 329}\n"
     ]
    }
   ],
   "source": [
    "# 2.4.7 Display the count of outliers in each selected column\n",
    "def counting_iqr_Outliers(data_frame, columns, iqr_multiplier=1):\n",
    "    outlier_counts = {}  \n",
    "    for column in columns:\n",
    "        q1 = data_frame[column].quantile(0.25)\n",
    "        q3 = data_frame[column].quantile(0.75)\n",
    "        iqr = q3 - q1\n",
    "        lower_bound = q1 - iqr_multiplier * iqr\n",
    "        upper_bound = q3 + iqr_multiplier * iqr\n",
    "\n",
    "        # Counting outliers in the current column\n",
    "        outlier_count = len(df2[(data_frame[column] < lower_bound) | (data_frame[column] > upper_bound)])\n",
    "        outlier_counts[column] = outlier_count\n",
    "\n",
    "        # Dropping outliers in the current column\n",
    "        df = df2[(df2[column] >= lower_bound) & (df2[column] <= upper_bound)]\n",
    "\n",
    "    return df2, outlier_counts\n",
    "outliers, outlier_counts = counting_iqr_Outliers(df2, ['price in $', 'minimum_nights', 'Rating'])\n",
    "print(outliers, outlier_counts)"
   ]
  },
  {
   "cell_type": "code",
   "execution_count": 84,
   "id": "8bd6997d-bbb5-4361-a4a2-9f983fe47685",
   "metadata": {
    "tags": []
   },
   "outputs": [
    {
     "name": "stdout",
     "output_type": "stream",
     "text": [
      "        host_id                           neighbourhood        room_type  \\\n",
      "0          3159  Oostelijk Havengebied - Indische Buurt     Private room   \n",
      "2       1100324                 De Pijp - Rivierenbuurt  Entire home/apt   \n",
      "3        748161                                Oud-Oost  Entire home/apt   \n",
      "4         97647                            Centrum-West     Private room   \n",
      "5        776296                  De Baarsjes - Oud-West  Entire home/apt   \n",
      "...         ...                                     ...              ...   \n",
      "7364  311321908                            Centrum-West     Private room   \n",
      "7365  311321908                            Centrum-West     Private room   \n",
      "7416  511848149                  De Aker - Nieuw Sloten     Private room   \n",
      "7425  108331970                         Watergraafsmeer     Private room   \n",
      "7478   49402797                              Westerpark  Entire home/apt   \n",
      "\n",
      "      price in $  minimum_nights  availability_365   Apartment_type  \\\n",
      "0           69.0             3.0               7.0            Condo   \n",
      "2          270.0             4.0               2.0      Rental unit   \n",
      "3          200.0             3.0               0.0      Rental unit   \n",
      "4          137.0             3.0               0.0        Houseboat   \n",
      "5          170.0             3.0             157.0      Rental unit   \n",
      "...          ...             ...               ...              ...   \n",
      "7364       406.0             1.0             286.0            Hotel   \n",
      "7365       339.0             1.0             235.0            Hotel   \n",
      "7416        99.0             1.0              95.0             Home   \n",
      "7425       106.0             1.0              19.0  casa particular   \n",
      "7478       316.0             4.0              12.0            Condo   \n",
      "\n",
      "           City  Rating  No_of_bed_rooms  No_of_beds  No_of_bathrooms  \\\n",
      "0     Amsterdam    4.89              1.0         1.0              1.5   \n",
      "2     Amsterdam    4.86              3.0         3.0              1.5   \n",
      "3     Amsterdam    4.76              1.0         1.0              1.5   \n",
      "4     Amsterdam    4.94              1.0         1.0              1.5   \n",
      "5     Amsterdam    4.77              1.0         1.0              1.0   \n",
      "...         ...     ...              ...         ...              ...   \n",
      "7364  Amsterdam    4.71              1.0         1.0              1.0   \n",
      "7365  Amsterdam    3.67              1.0         1.0              1.0   \n",
      "7416  Amsterdam    4.86              1.0         1.0              1.0   \n",
      "7425  Amsterdam    5.00              1.0         1.0              1.5   \n",
      "7478  Amsterdam    5.00              2.0         2.0              1.0   \n",
      "\n",
      "      Bathroom_type  constant  \n",
      "0                 0         1  \n",
      "2                 1         1  \n",
      "3                 1         1  \n",
      "4                 1         1  \n",
      "5                 1         1  \n",
      "...             ...       ...  \n",
      "7364              1         1  \n",
      "7365              1         1  \n",
      "7416              1         1  \n",
      "7425              0         1  \n",
      "7478              1         1  \n",
      "\n",
      "[5104 rows x 14 columns] {'price in $': 71, 'minimum_nights': 127, 'Rating': 31}\n"
     ]
    }
   ],
   "source": [
    "# 2.4.8 Find outliers for the same column using a multiplier of 3.\n",
    "def counting_iqr_Outliers(data_frame, columns, iqr_multiplier=3):\n",
    "    outlier_counts = {}  \n",
    "    for column in columns:\n",
    "        q1 = data_frame[column].quantile(0.25)\n",
    "        q3 = data_frame[column].quantile(0.75)\n",
    "        iqr = q3 - q1\n",
    "        lower_bound = q1 - iqr_multiplier * iqr\n",
    "        upper_bound = q3 + iqr_multiplier * iqr\n",
    "\n",
    "        # Counting outliers in the current column\n",
    "        outlier_count = len(df2[(data_frame[column] < lower_bound) | (data_frame[column] > upper_bound)])\n",
    "        outlier_counts[column] = outlier_count\n",
    "\n",
    "        # Dropping outliers in the current column\n",
    "        df = df2[(df2[column] >= lower_bound) & (df2[column] <= upper_bound)]\n",
    "\n",
    "    return df2, outlier_counts\n",
    "outliers, outlier_counts = counting_iqr_Outliers(df2, ['price in $', 'minimum_nights', 'Rating'])\n",
    "print(outliers, outlier_counts)"
   ]
  },
  {
   "cell_type": "code",
   "execution_count": 85,
   "id": "f1988f3c",
   "metadata": {},
   "outputs": [
    {
     "data": {
      "text/plain": [
       "(        host_id                           neighbourhood        room_type  \\\n",
       " 0          3159  Oostelijk Havengebied - Indische Buurt     Private room   \n",
       " 2       1100324                 De Pijp - Rivierenbuurt  Entire home/apt   \n",
       " 3        748161                                Oud-Oost  Entire home/apt   \n",
       " 4         97647                            Centrum-West     Private room   \n",
       " 5        776296                  De Baarsjes - Oud-West  Entire home/apt   \n",
       " ...         ...                                     ...              ...   \n",
       " 7364  311321908                            Centrum-West     Private room   \n",
       " 7365  311321908                            Centrum-West     Private room   \n",
       " 7416  511848149                  De Aker - Nieuw Sloten     Private room   \n",
       " 7425  108331970                         Watergraafsmeer     Private room   \n",
       " 7478   49402797                              Westerpark  Entire home/apt   \n",
       " \n",
       "       price in $  minimum_nights  availability_365   Apartment_type  \\\n",
       " 0           69.0             3.0               7.0            Condo   \n",
       " 2          270.0             4.0               2.0      Rental unit   \n",
       " 3          200.0             3.0               0.0      Rental unit   \n",
       " 4          137.0             3.0               0.0        Houseboat   \n",
       " 5          170.0             3.0             157.0      Rental unit   \n",
       " ...          ...             ...               ...              ...   \n",
       " 7364       406.0             1.0             286.0            Hotel   \n",
       " 7365       339.0             1.0             235.0            Hotel   \n",
       " 7416        99.0             1.0              95.0             Home   \n",
       " 7425       106.0             1.0              19.0  casa particular   \n",
       " 7478       316.0             4.0              12.0            Condo   \n",
       " \n",
       "            City  Rating  No_of_bed_rooms  No_of_beds  No_of_bathrooms  \\\n",
       " 0     Amsterdam    4.89              1.0         1.0              1.5   \n",
       " 2     Amsterdam    4.86              3.0         3.0              1.5   \n",
       " 3     Amsterdam    4.76              1.0         1.0              1.5   \n",
       " 4     Amsterdam    4.94              1.0         1.0              1.5   \n",
       " 5     Amsterdam    4.77              1.0         1.0              1.0   \n",
       " ...         ...     ...              ...         ...              ...   \n",
       " 7364  Amsterdam    4.71              1.0         1.0              1.0   \n",
       " 7365  Amsterdam    3.67              1.0         1.0              1.0   \n",
       " 7416  Amsterdam    4.86              1.0         1.0              1.0   \n",
       " 7425  Amsterdam    5.00              1.0         1.0              1.5   \n",
       " 7478  Amsterdam    5.00              2.0         2.0              1.0   \n",
       " \n",
       "       Bathroom_type  constant  \n",
       " 0                 0         1  \n",
       " 2                 1         1  \n",
       " 3                 1         1  \n",
       " 4                 1         1  \n",
       " 5                 1         1  \n",
       " ...             ...       ...  \n",
       " 7364              1         1  \n",
       " 7365              1         1  \n",
       " 7416              1         1  \n",
       " 7425              0         1  \n",
       " 7478              1         1  \n",
       " \n",
       " [5104 rows x 14 columns],\n",
       " {'price in $': 71, 'minimum_nights': 127, 'Rating': 31})"
      ]
     },
     "execution_count": 85,
     "metadata": {},
     "output_type": "execute_result"
    }
   ],
   "source": [
    "# 2.4.9 Display the new count of outliers in each selected column\n",
    "outliers, outlier_counts"
   ]
  },
  {
   "cell_type": "raw",
   "id": "6bb49add",
   "metadata": {},
   "source": [
    "2.4.10 What do you think should be done with the outliers for each of the columns?\n",
    "(You are not required to actually remove them for this Homework).\n",
    "\n",
    "price in $: Identify, transform and segmentation\n",
    "\n",
    "minimum_nights: Identify and group together\n",
    "\n",
    "Rating: Investigate and Bin the values\n"
   ]
  },
  {
   "cell_type": "markdown",
   "id": "a8144c46-0c57-411e-a3c7-d15b4fee4f7a",
   "metadata": {},
   "source": [
    "### 2.5. **Compute the Average Price for Each Type of Listing.**"
   ]
  },
  {
   "cell_type": "code",
   "execution_count": 86,
   "id": "a7cced60-c5ad-4567-99aa-251076ccc1ba",
   "metadata": {
    "tags": []
   },
   "outputs": [
    {
     "name": "stdout",
     "output_type": "stream",
     "text": [
      "room_type\n",
      "Entire home/apt    267.975260\n",
      "Hotel room         195.833333\n",
      "Private room       163.124324\n",
      "Shared room        162.916667\n",
      "Name: price in $, dtype: float64\n"
     ]
    }
   ],
   "source": [
    "# 2.5.1 Group the data by 'room_type' and calculate the average price for each type\n",
    "avg_price_by_type = df2.groupby('room_type')['price in $'].mean()\n",
    "print(avg_price_by_type)"
   ]
  },
  {
   "cell_type": "code",
   "execution_count": 88,
   "id": "03510d93-19f3-48ec-9f1f-d84e0148fb79",
   "metadata": {
    "tags": []
   },
   "outputs": [
    {
     "data": {
      "image/png": "[encoded data removed]",
      "text/plain": [
       "<Figure size 640x480 with 1 Axes>"
      ]
     },
     "metadata": {},
     "output_type": "display_data"
    }
   ],
   "source": [
    "# 2.5.2 Plot and display  the average price for each room type\n",
    "avg_price_by_type.plot(kind='bar', color='blue', edgecolor='black')\n",
    "plt.title('Average Price by Room Type')\n",
    "plt.xlabel('Room Type')\n",
    "plt.ylabel('Average Price ($)')\n",
    "plt.show()"
   ]
  },
  {
   "cell_type": "markdown",
   "id": "27dc4a6d",
   "metadata": {},
   "source": [
    "### 2.6. **How Many Listings Are There for Each Unique 'Apartment Type'?**"
   ]
  },
  {
   "cell_type": "code",
   "execution_count": 90,
   "id": "52a47b7a-0f56-4d02-98a5-82eb5ec643b6",
   "metadata": {
    "tags": []
   },
   "outputs": [
    {
     "data": {
      "text/plain": [
       "Apartment_type\n",
       "Rental unit           2445\n",
       "Condo                 1104\n",
       "Home                   448\n",
       "Townhouse              234\n",
       "Loft                   159\n",
       "Houseboat              154\n",
       "Bed and breakfast      130\n",
       "Boat                   102\n",
       "Serviced apartment      66\n",
       "Guest suite             51\n",
       "Hostel                  42\n",
       "Boutique hotel          40\n",
       "Hotel                   34\n",
       "Guesthouse              17\n",
       "Villa                   14\n",
       "Place to stay           12\n",
       "Vacation home           12\n",
       "casa particular         10\n",
       "Aparthotel               9\n",
       "Tiny home                6\n",
       "Cabin                    4\n",
       "Cottage                  2\n",
       "Chalet                   2\n",
       "Farm stay                1\n",
       "Earthen home             1\n",
       "Nature lodge             1\n",
       "Camper/RV                1\n",
       "Tower                    1\n",
       "Barn                     1\n",
       "Tent                     1\n",
       "Name: count, dtype: int64"
      ]
     },
     "execution_count": 90,
     "metadata": {},
     "output_type": "execute_result"
    }
   ],
   "source": [
    "# 2.6.1 Count the frequency of each unique 'Apartment_type'\n",
    "apt_type_count = df2['Apartment_type'].value_counts()\n",
    "apt_type_count"
   ]
  },
  {
   "cell_type": "code",
   "execution_count": 91,
   "id": "aa3171de-3e64-424b-8e3f-d0d58fee3ebe",
   "metadata": {
    "tags": []
   },
   "outputs": [
    {
     "data": {
      "image/png": "[encoded data removed]",
      "text/plain": [
       "<Figure size 640x480 with 1 Axes>"
      ]
     },
     "metadata": {},
     "output_type": "display_data"
    }
   ],
   "source": [
    "# 2.6.2 Plot the frequency distribution of 'Apartment_type'\n",
    "apt_type_count.plot(kind='bar', color='blue', edgecolor='black')\n",
    "plt.title('Frequency Distribution of Apartment_Type')\n",
    "plt.xlabel('Apartment Type')\n",
    "plt.ylabel('Frequency')\n",
    "plt.show()"
   ]
  },
  {
   "cell_type": "code",
   "execution_count": 92,
   "id": "4b4521c8",
   "metadata": {
    "tags": []
   },
   "outputs": [
    {
     "data": {
      "text/plain": [
       "Apartment_type\n",
       "Rental unit           2445\n",
       "Condo                 1104\n",
       "Home                   448\n",
       "Townhouse              234\n",
       "Loft                   159\n",
       "Houseboat              154\n",
       "Bed and breakfast      130\n",
       "Boat                   102\n",
       "Serviced apartment      66\n",
       "Guest suite             51\n",
       "Name: count, dtype: int64"
      ]
     },
     "execution_count": 92,
     "metadata": {},
     "output_type": "execute_result"
    }
   ],
   "source": [
    "# 2.6.3. Display the top 10 most common apartment types\n",
    "top_10_apt_types = apt_type_count.head(10)\n",
    "top_10_apt_types"
   ]
  },
  {
   "cell_type": "markdown",
   "id": "e5400d3c",
   "metadata": {},
   "source": [
    "### 2.7. **Identify the Top 5 Neighbourhoods with the Highest Average Listing Prices.**"
   ]
  },
  {
   "cell_type": "code",
   "execution_count": 93,
   "id": "0c573356-e266-4550-8cb7-895afacd1efc",
   "metadata": {
    "tags": []
   },
   "outputs": [
    {
     "name": "stdout",
     "output_type": "stream",
     "text": [
      "neighbourhood\n",
      "Centrum-West                332.298308\n",
      "Centrum-Oost                305.447601\n",
      "Zuid                        271.715134\n",
      "De Pijp - Rivierenbuurt     267.334606\n",
      "IJburg - Zeeburgereiland    262.265746\n",
      "Name: price in $, dtype: float64\n"
     ]
    }
   ],
   "source": [
    "# 2.7.1 Find the top 5 most expensive neighbourhoods based on average price\n",
    "avg_price_by_expensive_neighbourhood = df2.groupby('neighbourhood')['price in $'].mean()\n",
    "top_5_exp_neigh = avg_price_by_expensive_neighbourhood.sort_values(ascending=False).head(5)\n",
    "print(top_5_exp_neigh)"
   ]
  },
  {
   "cell_type": "code",
   "execution_count": 94,
   "id": "606edc4e",
   "metadata": {},
   "outputs": [
    {
     "data": {
      "image/png": "[encoded data removed]",
      "text/plain": [
       "<Figure size 640x480 with 1 Axes>"
      ]
     },
     "metadata": {},
     "output_type": "display_data"
    }
   ],
   "source": [
    "# 2.7.2. Plot and display the top 5 most expensive neighbourhoods\n",
    "top_5_exp_neigh.plot(kind='bar', color='blue', edgecolor='black')\n",
    "plt.title('Top 5 most expensive neighbourhoods')\n",
    "plt.xlabel('Neighbourhood')\n",
    "plt.ylabel('Average Price ($)')\n",
    "plt.show()"
   ]
  },
  {
   "cell_type": "markdown",
   "id": "efd9a4d6",
   "metadata": {},
   "source": [
    "### 2.8. **Which 'Apartment Types' Are Most and Least Frequently Available? (5 each)**"
   ]
  },
  {
   "cell_type": "code",
   "execution_count": 96,
   "id": "4416d5d1",
   "metadata": {},
   "outputs": [
    {
     "name": "stdout",
     "output_type": "stream",
     "text": [
      "Apartment_type\n",
      "Rental unit           2445\n",
      "Condo                 1104\n",
      "Home                   448\n",
      "Townhouse              234\n",
      "Loft                   159\n",
      "Houseboat              154\n",
      "Bed and breakfast      130\n",
      "Boat                   102\n",
      "Serviced apartment      66\n",
      "Guest suite             51\n",
      "Hostel                  42\n",
      "Boutique hotel          40\n",
      "Hotel                   34\n",
      "Guesthouse              17\n",
      "Villa                   14\n",
      "Place to stay           12\n",
      "Vacation home           12\n",
      "casa particular         10\n",
      "Aparthotel               9\n",
      "Tiny home                6\n",
      "Cabin                    4\n",
      "Cottage                  2\n",
      "Chalet                   2\n",
      "Farm stay                1\n",
      "Earthen home             1\n",
      "Nature lodge             1\n",
      "Camper/RV                1\n",
      "Tower                    1\n",
      "Barn                     1\n",
      "Tent                     1\n",
      "Name: count, dtype: int64\n",
      "\n",
      "Most Common Apartment Type is Rental unit\n",
      "Least Common Apartment Type is Farm stay\n"
     ]
    }
   ],
   "source": [
    "# 2.8.1 Count the frequency of each unique 'Apartment_type' to find the most and least commonly available types\n",
    "most_common_apt_type = apt_type_count.idxmax()\n",
    "least_common_apt_type = apt_type_count.idxmin()\n",
    "apt_type_counts = df2['Apartment_type'].value_counts()\n",
    "print(apt_type_count)\n",
    "print(f\"\\nMost Common Apartment Type is {most_common_apt_type}\")\n",
    "print(f\"Least Common Apartment Type is {least_common_apt_type}\")"
   ]
  },
  {
   "cell_type": "code",
   "execution_count": 97,
   "id": "81f00442",
   "metadata": {},
   "outputs": [
    {
     "name": "stdout",
     "output_type": "stream",
     "text": [
      "                Frequency\n",
      "Apartment_type           \n",
      "Rental unit          2445\n",
      "Condo                1104\n",
      "Home                  448\n",
      "Townhouse             234\n",
      "Loft                  159\n",
      "                Frequency\n",
      "Apartment_type           \n",
      "Nature lodge            1\n",
      "Camper/RV               1\n",
      "Tower                   1\n",
      "Barn                    1\n",
      "Tent                    1\n"
     ]
    }
   ],
   "source": [
    "# 2.8.2 Find the top 5 most commonly available and the least commonly available apartment types\n",
    "apt_type_count = pd.DataFrame(apt_type_count)\n",
    "apt_type_count.columns = ['Frequency']\n",
    "top_5_most_common_apt_type = apt_type_count.head(5)\n",
    "top_5_least_common_apt_type = apt_type_count.tail(5)\n",
    "print(top_5_most_common_apt_type)\n",
    "print(top_5_least_common_apt_type)"
   ]
  },
  {
   "cell_type": "code",
   "execution_count": 99,
   "id": "65fcb07c-0abb-4b5c-b777-e1c5ae79e24f",
   "metadata": {
    "tags": []
   },
   "outputs": [
    {
     "data": {
      "image/png": "[encoded data removed]",
      "text/plain": [
       "<Figure size 1200x500 with 2 Axes>"
      ]
     },
     "metadata": {},
     "output_type": "display_data"
    }
   ],
   "source": [
    "# 2.8.3 Plot and display the most and least commonly available apartment types\n",
    "fig, axes = plt.subplots(nrows=1, ncols=2, figsize=(12, 5))\n",
    "axes[0].bar(top_5_most_common_apt_type.index, top_5_most_common_apt_type['Frequency'], color='blue', edgecolor='black')\n",
    "axes[0].set_title('Top 5 Most Common Apartment Types')\n",
    "axes[0].set_xlabel('Apartment Type')\n",
    "axes[0].set_ylabel('Frequency')\n",
    "axes[1].bar(top_5_least_common_apt_type.index, top_5_least_common_apt_type['Frequency'], color='red', edgecolor='black')\n",
    "axes[1].set_title('Least Common Apartment Type')\n",
    "axes[1].set_xlabel('Apartment Type')\n",
    "axes[1].set_ylabel('Frequency')\n",
    "plt.tight_layout()\n",
    "plt.show()"
   ]
  }
 ],
 "metadata": {
  "kernelspec": {
   "display_name": "Python 3 (ipykernel)",
   "language": "python",
   "name": "python3"
  },
  "language_info": {
   "codemirror_mode": {
    "name": "ipython",
    "version": 3
   },
   "file_extension": ".py",
   "mimetype": "text/x-python",
   "name": "python",
   "nbconvert_exporter": "python",
   "pygments_lexer": "ipython3",
   "version": "3.12.4"
  }
 },
 "nbformat": 4,
 "nbformat_minor": 5
}
