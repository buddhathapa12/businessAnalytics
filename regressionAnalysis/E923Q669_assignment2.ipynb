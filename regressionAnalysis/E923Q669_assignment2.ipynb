{
 "cells": [
  {
   "cell_type": "code",
   "execution_count": 1,
   "metadata": {},
   "outputs": [],
   "source": [
    "import pandas as pd\n",
    "import seaborn as sns\n",
    "import matplotlib.pyplot as plt\n",
    "import statsmodels.api as sm\n",
    "from sklearn.metrics import mean_squared_error, r2_score"
   ]
  },
  {
   "cell_type": "markdown",
   "metadata": {},
   "source": [
    "# 1. National Employment and GDP\n",
    "Initially, We did some EDA on the provided data. Following are the codes and findings. "
   ]
  },
  {
   "cell_type": "code",
   "execution_count": 2,
   "metadata": {},
   "outputs": [
    {
     "data": {
      "text/html": [
       "<div>\n",
       "<style scoped>\n",
       "    .dataframe tbody tr th:only-of-type {\n",
       "        vertical-align: middle;\n",
       "    }\n",
       "\n",
       "    .dataframe tbody tr th {\n",
       "        vertical-align: top;\n",
       "    }\n",
       "\n",
       "    .dataframe thead th {\n",
       "        text-align: right;\n",
       "    }\n",
       "</style>\n",
       "<table border=\"1\" class=\"dataframe\">\n",
       "  <thead>\n",
       "    <tr style=\"text-align: right;\">\n",
       "      <th></th>\n",
       "      <th>Quarter</th>\n",
       "      <th>Employment (millions)</th>\n",
       "      <th>GDP (billions)</th>\n",
       "    </tr>\n",
       "  </thead>\n",
       "  <tbody>\n",
       "    <tr>\n",
       "      <th>0</th>\n",
       "      <td>Q1 2020</td>\n",
       "      <td>155</td>\n",
       "      <td>21500</td>\n",
       "    </tr>\n",
       "    <tr>\n",
       "      <th>1</th>\n",
       "      <td>Q2 2020</td>\n",
       "      <td>152</td>\n",
       "      <td>21200</td>\n",
       "    </tr>\n",
       "    <tr>\n",
       "      <th>2</th>\n",
       "      <td>Q3 2020</td>\n",
       "      <td>150</td>\n",
       "      <td>21700</td>\n",
       "    </tr>\n",
       "    <tr>\n",
       "      <th>3</th>\n",
       "      <td>Q4 2020</td>\n",
       "      <td>153</td>\n",
       "      <td>22000</td>\n",
       "    </tr>\n",
       "    <tr>\n",
       "      <th>4</th>\n",
       "      <td>Q1 2021</td>\n",
       "      <td>154</td>\n",
       "      <td>22200</td>\n",
       "    </tr>\n",
       "  </tbody>\n",
       "</table>\n",
       "</div>"
      ],
      "text/plain": [
       "   Quarter  Employment (millions)  GDP (billions)\n",
       "0  Q1 2020                    155           21500\n",
       "1  Q2 2020                    152           21200\n",
       "2  Q3 2020                    150           21700\n",
       "3  Q4 2020                    153           22000\n",
       "4  Q1 2021                    154           22200"
      ]
     },
     "execution_count": 2,
     "metadata": {},
     "output_type": "execute_result"
    }
   ],
   "source": [
    "employment_gdp_dataframe = pd.read_excel(\"./HW2_Datasets.xlsx\")\n",
    "employment_gdp_dataframe.head()"
   ]
  },
  {
   "cell_type": "code",
   "execution_count": 3,
   "metadata": {},
   "outputs": [
    {
     "name": "stdout",
     "output_type": "stream",
     "text": [
      "<class 'pandas.core.frame.DataFrame'>\n",
      "RangeIndex: 20 entries, 0 to 19\n",
      "Data columns (total 3 columns):\n",
      " #   Column                 Non-Null Count  Dtype \n",
      "---  ------                 --------------  ----- \n",
      " 0   Quarter                20 non-null     object\n",
      " 1   Employment (millions)  20 non-null     int64 \n",
      " 2   GDP (billions)         20 non-null     int64 \n",
      "dtypes: int64(2), object(1)\n",
      "memory usage: 612.0+ bytes\n"
     ]
    }
   ],
   "source": [
    "employment_gdp_dataframe.info()"
   ]
  },
  {
   "cell_type": "code",
   "execution_count": 4,
   "metadata": {},
   "outputs": [
    {
     "data": {
      "text/html": [
       "<div>\n",
       "<style scoped>\n",
       "    .dataframe tbody tr th:only-of-type {\n",
       "        vertical-align: middle;\n",
       "    }\n",
       "\n",
       "    .dataframe tbody tr th {\n",
       "        vertical-align: top;\n",
       "    }\n",
       "\n",
       "    .dataframe thead th {\n",
       "        text-align: right;\n",
       "    }\n",
       "</style>\n",
       "<table border=\"1\" class=\"dataframe\">\n",
       "  <thead>\n",
       "    <tr style=\"text-align: right;\">\n",
       "      <th></th>\n",
       "      <th>Employment (millions)</th>\n",
       "      <th>GDP (billions)</th>\n",
       "    </tr>\n",
       "  </thead>\n",
       "  <tbody>\n",
       "    <tr>\n",
       "      <th>count</th>\n",
       "      <td>20.000000</td>\n",
       "      <td>20.000000</td>\n",
       "    </tr>\n",
       "    <tr>\n",
       "      <th>mean</th>\n",
       "      <td>164.150000</td>\n",
       "      <td>23437.500000</td>\n",
       "    </tr>\n",
       "    <tr>\n",
       "      <th>std</th>\n",
       "      <td>9.669676</td>\n",
       "      <td>1385.818683</td>\n",
       "    </tr>\n",
       "    <tr>\n",
       "      <th>min</th>\n",
       "      <td>150.000000</td>\n",
       "      <td>21200.000000</td>\n",
       "    </tr>\n",
       "    <tr>\n",
       "      <th>25%</th>\n",
       "      <td>155.750000</td>\n",
       "      <td>22350.000000</td>\n",
       "    </tr>\n",
       "    <tr>\n",
       "      <th>50%</th>\n",
       "      <td>163.000000</td>\n",
       "      <td>23400.000000</td>\n",
       "    </tr>\n",
       "    <tr>\n",
       "      <th>75%</th>\n",
       "      <td>171.500000</td>\n",
       "      <td>24550.000000</td>\n",
       "    </tr>\n",
       "    <tr>\n",
       "      <th>max</th>\n",
       "      <td>181.000000</td>\n",
       "      <td>25750.000000</td>\n",
       "    </tr>\n",
       "  </tbody>\n",
       "</table>\n",
       "</div>"
      ],
      "text/plain": [
       "       Employment (millions)  GDP (billions)\n",
       "count              20.000000       20.000000\n",
       "mean              164.150000    23437.500000\n",
       "std                 9.669676     1385.818683\n",
       "min               150.000000    21200.000000\n",
       "25%               155.750000    22350.000000\n",
       "50%               163.000000    23400.000000\n",
       "75%               171.500000    24550.000000\n",
       "max               181.000000    25750.000000"
      ]
     },
     "execution_count": 4,
     "metadata": {},
     "output_type": "execute_result"
    }
   ],
   "source": [
    "employment_gdp_dataframe.describe()"
   ]
  },
  {
   "cell_type": "code",
   "execution_count": 5,
   "metadata": {},
   "outputs": [],
   "source": [
    "# Splitting Quarter field into years, quarter number.\n",
    "employment_gdp_dataframe[\"Year\"] = employment_gdp_dataframe[\"Quarter\"].str[-4:].astype(int)\n",
    "employment_gdp_dataframe['Quarter_num'] = employment_gdp_dataframe['Quarter'].str[1].astype(int)\n",
    "employment_gdp_dataframe[\"Lagged Employment\"] = employment_gdp_dataframe[\"Employment (millions)\"].shift(1)\n",
    "employment_gdp_dataframe = employment_gdp_dataframe.dropna()\n",
    "employment_gdp_dataframe = employment_gdp_dataframe.sort_values(by= [\"Year\", \"Quarter_num\"]).reset_index().drop(columns= \"index\")\n",
    "employment_gdp_dataframe = employment_gdp_dataframe.reset_index().rename(columns={'index': 'Coded Time'})"
   ]
  },
  {
   "cell_type": "code",
   "execution_count": 6,
   "metadata": {},
   "outputs": [
    {
     "data": {
      "text/html": [
       "<div>\n",
       "<style scoped>\n",
       "    .dataframe tbody tr th:only-of-type {\n",
       "        vertical-align: middle;\n",
       "    }\n",
       "\n",
       "    .dataframe tbody tr th {\n",
       "        vertical-align: top;\n",
       "    }\n",
       "\n",
       "    .dataframe thead th {\n",
       "        text-align: right;\n",
       "    }\n",
       "</style>\n",
       "<table border=\"1\" class=\"dataframe\">\n",
       "  <thead>\n",
       "    <tr style=\"text-align: right;\">\n",
       "      <th></th>\n",
       "      <th>Coded Time</th>\n",
       "      <th>Quarter</th>\n",
       "      <th>Employment (millions)</th>\n",
       "      <th>GDP (billions)</th>\n",
       "      <th>Year</th>\n",
       "      <th>Quarter_num</th>\n",
       "      <th>Lagged Employment</th>\n",
       "      <th>Quarter_num_2</th>\n",
       "      <th>Quarter_num_3</th>\n",
       "      <th>Quarter_num_4</th>\n",
       "    </tr>\n",
       "  </thead>\n",
       "  <tbody>\n",
       "    <tr>\n",
       "      <th>0</th>\n",
       "      <td>0</td>\n",
       "      <td>Q2 2020</td>\n",
       "      <td>152</td>\n",
       "      <td>21200</td>\n",
       "      <td>2020</td>\n",
       "      <td>2</td>\n",
       "      <td>155.0</td>\n",
       "      <td>1</td>\n",
       "      <td>0</td>\n",
       "      <td>0</td>\n",
       "    </tr>\n",
       "    <tr>\n",
       "      <th>1</th>\n",
       "      <td>1</td>\n",
       "      <td>Q3 2020</td>\n",
       "      <td>150</td>\n",
       "      <td>21700</td>\n",
       "      <td>2020</td>\n",
       "      <td>3</td>\n",
       "      <td>152.0</td>\n",
       "      <td>0</td>\n",
       "      <td>1</td>\n",
       "      <td>0</td>\n",
       "    </tr>\n",
       "    <tr>\n",
       "      <th>2</th>\n",
       "      <td>2</td>\n",
       "      <td>Q4 2020</td>\n",
       "      <td>153</td>\n",
       "      <td>22000</td>\n",
       "      <td>2020</td>\n",
       "      <td>4</td>\n",
       "      <td>150.0</td>\n",
       "      <td>0</td>\n",
       "      <td>0</td>\n",
       "      <td>1</td>\n",
       "    </tr>\n",
       "    <tr>\n",
       "      <th>3</th>\n",
       "      <td>3</td>\n",
       "      <td>Q1 2021</td>\n",
       "      <td>154</td>\n",
       "      <td>22200</td>\n",
       "      <td>2021</td>\n",
       "      <td>1</td>\n",
       "      <td>153.0</td>\n",
       "      <td>0</td>\n",
       "      <td>0</td>\n",
       "      <td>0</td>\n",
       "    </tr>\n",
       "    <tr>\n",
       "      <th>4</th>\n",
       "      <td>4</td>\n",
       "      <td>Q2 2021</td>\n",
       "      <td>156</td>\n",
       "      <td>22400</td>\n",
       "      <td>2021</td>\n",
       "      <td>2</td>\n",
       "      <td>154.0</td>\n",
       "      <td>1</td>\n",
       "      <td>0</td>\n",
       "      <td>0</td>\n",
       "    </tr>\n",
       "  </tbody>\n",
       "</table>\n",
       "</div>"
      ],
      "text/plain": [
       "   Coded Time  Quarter  Employment (millions)  GDP (billions)  Year  \\\n",
       "0           0  Q2 2020                    152           21200  2020   \n",
       "1           1  Q3 2020                    150           21700  2020   \n",
       "2           2  Q4 2020                    153           22000  2020   \n",
       "3           3  Q1 2021                    154           22200  2021   \n",
       "4           4  Q2 2021                    156           22400  2021   \n",
       "\n",
       "   Quarter_num  Lagged Employment  Quarter_num_2  Quarter_num_3  Quarter_num_4  \n",
       "0            2              155.0              1              0              0  \n",
       "1            3              152.0              0              1              0  \n",
       "2            4              150.0              0              0              1  \n",
       "3            1              153.0              0              0              0  \n",
       "4            2              154.0              1              0              0  "
      ]
     },
     "execution_count": 6,
     "metadata": {},
     "output_type": "execute_result"
    }
   ],
   "source": [
    "#OnehotEncoding\n",
    "from sklearn.preprocessing import OneHotEncoder\n",
    "encoder = OneHotEncoder(sparse_output= False, drop= \"first\")\n",
    "\n",
    "encoded_quarters = encoder.fit_transform(employment_gdp_dataframe[[\"Quarter_num\"]]).astype(int)\n",
    "df_encoded_quarters = pd.DataFrame(data= encoded_quarters, columns= encoder.get_feature_names_out())\n",
    "df_encoded = pd.concat([employment_gdp_dataframe, df_encoded_quarters], axis= 1)\n",
    "df_encoded.head()"
   ]
  },
  {
   "cell_type": "code",
   "execution_count": 7,
   "metadata": {},
   "outputs": [
    {
     "name": "stdout",
     "output_type": "stream",
     "text": [
      "<class 'pandas.core.frame.DataFrame'>\n",
      "RangeIndex: 19 entries, 0 to 18\n",
      "Data columns (total 10 columns):\n",
      " #   Column                 Non-Null Count  Dtype  \n",
      "---  ------                 --------------  -----  \n",
      " 0   Coded Time             19 non-null     int64  \n",
      " 1   Quarter                19 non-null     object \n",
      " 2   Employment (millions)  19 non-null     int64  \n",
      " 3   GDP (billions)         19 non-null     int64  \n",
      " 4   Year                   19 non-null     int64  \n",
      " 5   Quarter_num            19 non-null     int64  \n",
      " 6   Lagged Employment      19 non-null     float64\n",
      " 7   Quarter_num_2          19 non-null     int64  \n",
      " 8   Quarter_num_3          19 non-null     int64  \n",
      " 9   Quarter_num_4          19 non-null     int64  \n",
      "dtypes: float64(1), int64(8), object(1)\n",
      "memory usage: 1.6+ KB\n"
     ]
    }
   ],
   "source": [
    "df_encoded.info()"
   ]
  },
  {
   "cell_type": "code",
   "execution_count": 8,
   "metadata": {},
   "outputs": [],
   "source": [
    "# Multivariate linear regression model\n",
    "X_train = df_encoded.drop(columns= [\"Quarter\", \"GDP (billions)\", \"Employment (millions)\", \"Quarter_num\", \"Coded Time\"])\n",
    "y_train = df_encoded[[\"GDP (billions)\"]]\n",
    "X_train_with_const = sm.add_constant(X_train)\n",
    "\n",
    "multivariate_ols_model = sm.OLS(y_train, X_train_with_const).fit()"
   ]
  },
  {
   "cell_type": "code",
   "execution_count": 9,
   "metadata": {},
   "outputs": [
    {
     "name": "stdout",
     "output_type": "stream",
     "text": [
      "Mean_squared error for multivariate linear regression: 2961.873985624827\n"
     ]
    }
   ],
   "source": [
    "y_predicted_multivariiate = multivariate_ols_model.predict(X_train_with_const)\n",
    "print(f\"Mean_squared error for multivariate linear regression: {mean_squared_error(y_true= y_train, y_pred= y_predicted_multivariiate)}\")"
   ]
  },
  {
   "cell_type": "code",
   "execution_count": 10,
   "metadata": {},
   "outputs": [],
   "source": [
    "#Univariate linear regression model\n",
    "X_train_univariate = df_encoded[[\"Lagged Employment\"]]\n",
    "\n",
    "X_train_univariate_with_const = sm.add_constant(X_train_univariate)\n",
    "\n",
    "univariate_ols_model = sm.OLS(y_train, X_train_univariate_with_const).fit()"
   ]
  },
  {
   "cell_type": "code",
   "execution_count": 11,
   "metadata": {},
   "outputs": [
    {
     "name": "stdout",
     "output_type": "stream",
     "text": [
      "Mean_squared error for univariate linear regression: 88189.44444027875\n"
     ]
    }
   ],
   "source": [
    "y_predicted_univariiate = univariate_ols_model.predict(X_train_univariate_with_const)\n",
    "print(f\"Mean_squared error for univariate linear regression: {mean_squared_error(y_true= y_train, y_pred= y_predicted_univariiate)}\")"
   ]
  },
  {
   "cell_type": "markdown",
   "metadata": {},
   "source": [
    "### Residual Scatterplot: Create a scatterplot of the residuals against the lagged employment.\n",
    "\n",
    "=> We created the residual scatter plots using multivariate linear regression and univariate linear regression. In multivariate linear regression, we used Year, Lagged Employment and one hot encoded quarter numbers. For Univariate linear regression, We only used Lagged Employment as the predictor and \"GDP (Billions)\" as dependent variable. "
   ]
  },
  {
   "cell_type": "code",
   "execution_count": 12,
   "metadata": {},
   "outputs": [
    {
     "data": {
      "image/png": "[encoded data removed]",
      "text/plain": [
       "<Figure size 1500x500 with 2 Axes>"
      ]
     },
     "metadata": {},
     "output_type": "display_data"
    }
   ],
   "source": [
    "fig, axs = plt.subplots(1, 2, figsize= (15, 5))\n",
    "\n",
    "sns.residplot(x = y_predicted_multivariiate, y = multivariate_ols_model.resid, lowess=True, color='blue', ax= axs[0])\n",
    "axs[0].axhline(0, color='red', linestyle='--')\n",
    "axs[0].set_xlabel(\"Predicted GDP (Billion)\")\n",
    "axs[0].set_ylabel(\"Residual error between predicted and original GDP\")\n",
    "axs[0].set_title(\"Residual plot for multivariate regression model\", fontsize = 15)\n",
    "\n",
    "sns.residplot(x = y_predicted_univariiate, y = univariate_ols_model.resid, lowess=True, color='blue', ax= axs[1])\n",
    "axs[1].axhline(0, color='green', linestyle='--')\n",
    "axs[1].set_xlabel(\"Predicted GDP (Billion)\")\n",
    "axs[1].set_ylabel(\"Residual error between predicted and original GDP\")\n",
    "axs[1].set_title(\"Residual plot for univariate regression model\", fontsize = 15)\n",
    "\n",
    "plt.tight_layout()\n",
    "plt.show()"
   ]
  },
  {
   "cell_type": "code",
   "execution_count": 13,
   "metadata": {},
   "outputs": [
    {
     "data": {
      "image/png": "[encoded data removed]",
      "text/plain": [
       "<Figure size 700x400 with 1 Axes>"
      ]
     },
     "metadata": {},
     "output_type": "display_data"
    }
   ],
   "source": [
    "plt.figure(figsize=(7, 4))\n",
    "sns.residplot(y = \"GDP (billions)\", x = \"Lagged Employment\", data= df_encoded)\n",
    "plt.title(\"Residual plot between Lagged Employment and GDP (billions)\")\n",
    "plt.tight_layout()\n",
    "plt.show()"
   ]
  },
  {
   "cell_type": "markdown",
   "metadata": {},
   "source": [
    "### Does the plot suggest that the residuals are homoscedastic?\n",
    "As we can see the residual plots for both univariate and multivariate linear regressions, residual plot does not lie within the specific width around the x-axis. Residuals are randomly scattered around the horizontal axis with no clear pattern. Hence, the residuals are not homoscedastic for both univariate and multivariate linear regressions. "
   ]
  },
  {
   "cell_type": "markdown",
   "metadata": {},
   "source": [
    "### Residual Histogram: Create a histogram of the residuals and compare it to the normal distribution\n",
    "\n",
    "=> We plotted the histogram for the residuals from both univariate linear regression and multivariate linear regression. Below is the code and plot generated. "
   ]
  },
  {
   "cell_type": "code",
   "execution_count": 14,
   "metadata": {},
   "outputs": [
    {
     "data": {
      "image/png": "[encoded data removed]",
      "text/plain": [
       "<Figure size 1500x500 with 2 Axes>"
      ]
     },
     "metadata": {},
     "output_type": "display_data"
    }
   ],
   "source": [
    "fig, axs= plt.subplots(1, 2, figsize= (15, 5))\n",
    "\n",
    "sns.histplot(data= multivariate_ols_model.resid,  kde= True,bins=10, color='purple', ax= axs[0])\n",
    "axs[0].set_xlabel(\"Residuals (Multivariate linear regression)\", fontsize = 10)\n",
    "axs[0].set_title(\"Histogram plot of residuals for multivariate linear regression\", fontsize = 15)\n",
    "\n",
    "sns.histplot(data= univariate_ols_model.resid,  kde= True,bins=10, color='red', ax= axs[1])\n",
    "axs[1].set_xlabel(\"Residuals (Univariate linear regression)\", fontsize = 10)\n",
    "axs[1].set_title(\"Histogram plot of residuals for Univariate linear regression\", fontsize = 15)\n",
    "\n",
    "plt.tight_layout()\n",
    "plt.show()"
   ]
  },
  {
   "cell_type": "markdown",
   "metadata": {},
   "source": [
    "### Are the residuals approximately normally distributed? Why or why not? \n",
    "\n",
    "=> No, the residuals from both univariate linear regression and multivariate linear regression are not normally distributed because we we can see in figures plotted above, there is shape of both histogram plots are not resembled with the normal distribution plot. "
   ]
  },
  {
   "cell_type": "code",
   "execution_count": 15,
   "metadata": {},
   "outputs": [
    {
     "name": "stderr",
     "output_type": "stream",
     "text": [
      "/home/buddha-thapa-magar/anaconda3/lib/python3.12/site-packages/scipy/stats/_axis_nan_policy.py:531: UserWarning: kurtosistest only valid for n>=20 ... continuing anyway, n=19\n",
      "  res = hypotest_fun_out(*samples, **kwds)\n"
     ]
    },
    {
     "data": {
      "text/html": [
       "<table class=\"simpletable\">\n",
       "<caption>OLS Regression Results</caption>\n",
       "<tr>\n",
       "  <th>Dep. Variable:</th>     <td>GDP (billions)</td>  <th>  R-squared:         </th> <td>   0.998</td>\n",
       "</tr>\n",
       "<tr>\n",
       "  <th>Model:</th>                   <td>OLS</td>       <th>  Adj. R-squared:    </th> <td>   0.998</td>\n",
       "</tr>\n",
       "<tr>\n",
       "  <th>Method:</th>             <td>Least Squares</td>  <th>  F-statistic:       </th> <td>   1501.</td>\n",
       "</tr>\n",
       "<tr>\n",
       "  <th>Date:</th>             <td>Sun, 10 Nov 2024</td> <th>  Prob (F-statistic):</th> <td>1.80e-17</td>\n",
       "</tr>\n",
       "<tr>\n",
       "  <th>Time:</th>                 <td>16:37:08</td>     <th>  Log-Likelihood:    </th> <td> -102.90</td>\n",
       "</tr>\n",
       "<tr>\n",
       "  <th>No. Observations:</th>      <td>    19</td>      <th>  AIC:               </th> <td>   217.8</td>\n",
       "</tr>\n",
       "<tr>\n",
       "  <th>Df Residuals:</th>          <td>    13</td>      <th>  BIC:               </th> <td>   223.5</td>\n",
       "</tr>\n",
       "<tr>\n",
       "  <th>Df Model:</th>              <td>     5</td>      <th>                     </th>     <td> </td>   \n",
       "</tr>\n",
       "<tr>\n",
       "  <th>Covariance Type:</th>      <td>nonrobust</td>    <th>                     </th>     <td> </td>   \n",
       "</tr>\n",
       "</table>\n",
       "<table class=\"simpletable\">\n",
       "<tr>\n",
       "          <td></td>             <th>coef</th>     <th>std err</th>      <th>t</th>      <th>P>|t|</th>  <th>[0.025</th>    <th>0.975]</th>  \n",
       "</tr>\n",
       "<tr>\n",
       "  <th>const</th>             <td>-2.148e+06</td> <td> 1.18e+05</td> <td>  -18.185</td> <td> 0.000</td> <td> -2.4e+06</td> <td>-1.89e+06</td>\n",
       "</tr>\n",
       "<tr>\n",
       "  <th>Year</th>              <td> 1075.1900</td> <td>   59.122</td> <td>   18.186</td> <td> 0.000</td> <td>  947.465</td> <td> 1202.915</td>\n",
       "</tr>\n",
       "<tr>\n",
       "  <th>Lagged Employment</th> <td>  -19.3557</td> <td>    9.134</td> <td>   -2.119</td> <td> 0.054</td> <td>  -39.089</td> <td>    0.377</td>\n",
       "</tr>\n",
       "<tr>\n",
       "  <th>Quarter_num_2</th>     <td>  253.3205</td> <td>   51.444</td> <td>    4.924</td> <td> 0.000</td> <td>  142.183</td> <td>  364.458</td>\n",
       "</tr>\n",
       "<tr>\n",
       "  <th>Quarter_num_3</th>     <td>  572.6762</td> <td>   56.585</td> <td>   10.121</td> <td> 0.000</td> <td>  450.432</td> <td>  694.921</td>\n",
       "</tr>\n",
       "<tr>\n",
       "  <th>Quarter_num_4</th>     <td>  832.0319</td> <td>   62.643</td> <td>   13.282</td> <td> 0.000</td> <td>  696.700</td> <td>  967.364</td>\n",
       "</tr>\n",
       "</table>\n",
       "<table class=\"simpletable\">\n",
       "<tr>\n",
       "  <th>Omnibus:</th>       <td> 3.870</td> <th>  Durbin-Watson:     </th> <td>   0.790</td>\n",
       "</tr>\n",
       "<tr>\n",
       "  <th>Prob(Omnibus):</th> <td> 0.144</td> <th>  Jarque-Bera (JB):  </th> <td>   1.443</td>\n",
       "</tr>\n",
       "<tr>\n",
       "  <th>Skew:</th>          <td> 0.194</td> <th>  Prob(JB):          </th> <td>   0.486</td>\n",
       "</tr>\n",
       "<tr>\n",
       "  <th>Kurtosis:</th>      <td> 1.707</td> <th>  Cond. No.          </th> <td>1.59e+07</td>\n",
       "</tr>\n",
       "</table><br/><br/>Notes:<br/>[1] Standard Errors assume that the covariance matrix of the errors is correctly specified.<br/>[2] The condition number is large, 1.59e+07. This might indicate that there are<br/>strong multicollinearity or other numerical problems."
      ],
      "text/latex": [
       "\\begin{center}\n",
       "\\begin{tabular}{lclc}\n",
       "\\toprule\n",
       "\\textbf{Dep. Variable:}    &  GDP (billions)  & \\textbf{  R-squared:         } &     0.998   \\\\\n",
       "\\textbf{Model:}            &       OLS        & \\textbf{  Adj. R-squared:    } &     0.998   \\\\\n",
       "\\textbf{Method:}           &  Least Squares   & \\textbf{  F-statistic:       } &     1501.   \\\\\n",
       "\\textbf{Date:}             & Sun, 10 Nov 2024 & \\textbf{  Prob (F-statistic):} &  1.80e-17   \\\\\n",
       "\\textbf{Time:}             &     16:37:08     & \\textbf{  Log-Likelihood:    } &   -102.90   \\\\\n",
       "\\textbf{No. Observations:} &          19      & \\textbf{  AIC:               } &     217.8   \\\\\n",
       "\\textbf{Df Residuals:}     &          13      & \\textbf{  BIC:               } &     223.5   \\\\\n",
       "\\textbf{Df Model:}         &           5      & \\textbf{                     } &             \\\\\n",
       "\\textbf{Covariance Type:}  &    nonrobust     & \\textbf{                     } &             \\\\\n",
       "\\bottomrule\n",
       "\\end{tabular}\n",
       "\\begin{tabular}{lcccccc}\n",
       "                           & \\textbf{coef} & \\textbf{std err} & \\textbf{t} & \\textbf{P$> |$t$|$} & \\textbf{[0.025} & \\textbf{0.975]}  \\\\\n",
       "\\midrule\n",
       "\\textbf{const}             &   -2.148e+06  &     1.18e+05     &   -18.185  &         0.000        &     -2.4e+06    &    -1.89e+06     \\\\\n",
       "\\textbf{Year}              &    1075.1900  &       59.122     &    18.186  &         0.000        &      947.465    &     1202.915     \\\\\n",
       "\\textbf{Lagged Employment} &     -19.3557  &        9.134     &    -2.119  &         0.054        &      -39.089    &        0.377     \\\\\n",
       "\\textbf{Quarter\\_num\\_2}   &     253.3205  &       51.444     &     4.924  &         0.000        &      142.183    &      364.458     \\\\\n",
       "\\textbf{Quarter\\_num\\_3}   &     572.6762  &       56.585     &    10.121  &         0.000        &      450.432    &      694.921     \\\\\n",
       "\\textbf{Quarter\\_num\\_4}   &     832.0319  &       62.643     &    13.282  &         0.000        &      696.700    &      967.364     \\\\\n",
       "\\bottomrule\n",
       "\\end{tabular}\n",
       "\\begin{tabular}{lclc}\n",
       "\\textbf{Omnibus:}       &  3.870 & \\textbf{  Durbin-Watson:     } &    0.790  \\\\\n",
       "\\textbf{Prob(Omnibus):} &  0.144 & \\textbf{  Jarque-Bera (JB):  } &    1.443  \\\\\n",
       "\\textbf{Skew:}          &  0.194 & \\textbf{  Prob(JB):          } &    0.486  \\\\\n",
       "\\textbf{Kurtosis:}      &  1.707 & \\textbf{  Cond. No.          } & 1.59e+07  \\\\\n",
       "\\bottomrule\n",
       "\\end{tabular}\n",
       "%\\caption{OLS Regression Results}\n",
       "\\end{center}\n",
       "\n",
       "Notes: \\newline\n",
       " [1] Standard Errors assume that the covariance matrix of the errors is correctly specified. \\newline\n",
       " [2] The condition number is large, 1.59e+07. This might indicate that there are \\newline\n",
       " strong multicollinearity or other numerical problems."
      ],
      "text/plain": [
       "<class 'statsmodels.iolib.summary.Summary'>\n",
       "\"\"\"\n",
       "                            OLS Regression Results                            \n",
       "==============================================================================\n",
       "Dep. Variable:         GDP (billions)   R-squared:                       0.998\n",
       "Model:                            OLS   Adj. R-squared:                  0.998\n",
       "Method:                 Least Squares   F-statistic:                     1501.\n",
       "Date:                Sun, 10 Nov 2024   Prob (F-statistic):           1.80e-17\n",
       "Time:                        16:37:08   Log-Likelihood:                -102.90\n",
       "No. Observations:                  19   AIC:                             217.8\n",
       "Df Residuals:                      13   BIC:                             223.5\n",
       "Df Model:                           5                                         \n",
       "Covariance Type:            nonrobust                                         \n",
       "=====================================================================================\n",
       "                        coef    std err          t      P>|t|      [0.025      0.975]\n",
       "-------------------------------------------------------------------------------------\n",
       "const             -2.148e+06   1.18e+05    -18.185      0.000    -2.4e+06   -1.89e+06\n",
       "Year               1075.1900     59.122     18.186      0.000     947.465    1202.915\n",
       "Lagged Employment   -19.3557      9.134     -2.119      0.054     -39.089       0.377\n",
       "Quarter_num_2       253.3205     51.444      4.924      0.000     142.183     364.458\n",
       "Quarter_num_3       572.6762     56.585     10.121      0.000     450.432     694.921\n",
       "Quarter_num_4       832.0319     62.643     13.282      0.000     696.700     967.364\n",
       "==============================================================================\n",
       "Omnibus:                        3.870   Durbin-Watson:                   0.790\n",
       "Prob(Omnibus):                  0.144   Jarque-Bera (JB):                1.443\n",
       "Skew:                           0.194   Prob(JB):                        0.486\n",
       "Kurtosis:                       1.707   Cond. No.                     1.59e+07\n",
       "==============================================================================\n",
       "\n",
       "Notes:\n",
       "[1] Standard Errors assume that the covariance matrix of the errors is correctly specified.\n",
       "[2] The condition number is large, 1.59e+07. This might indicate that there are\n",
       "strong multicollinearity or other numerical problems.\n",
       "\"\"\""
      ]
     },
     "execution_count": 15,
     "metadata": {},
     "output_type": "execute_result"
    }
   ],
   "source": [
    "multivariate_ols_model.summary()"
   ]
  },
  {
   "cell_type": "code",
   "execution_count": 16,
   "metadata": {},
   "outputs": [
    {
     "name": "stderr",
     "output_type": "stream",
     "text": [
      "/home/buddha-thapa-magar/anaconda3/lib/python3.12/site-packages/scipy/stats/_axis_nan_policy.py:531: UserWarning: kurtosistest only valid for n>=20 ... continuing anyway, n=19\n",
      "  res = hypotest_fun_out(*samples, **kwds)\n"
     ]
    },
    {
     "data": {
      "text/html": [
       "<table class=\"simpletable\">\n",
       "<caption>OLS Regression Results</caption>\n",
       "<tr>\n",
       "  <th>Dep. Variable:</th>     <td>GDP (billions)</td>  <th>  R-squared:         </th> <td>   0.949</td>\n",
       "</tr>\n",
       "<tr>\n",
       "  <th>Model:</th>                   <td>OLS</td>       <th>  Adj. R-squared:    </th> <td>   0.945</td>\n",
       "</tr>\n",
       "<tr>\n",
       "  <th>Method:</th>             <td>Least Squares</td>  <th>  F-statistic:       </th> <td>   313.1</td>\n",
       "</tr>\n",
       "<tr>\n",
       "  <th>Date:</th>             <td>Sun, 10 Nov 2024</td> <th>  Prob (F-statistic):</th> <td>2.19e-12</td>\n",
       "</tr>\n",
       "<tr>\n",
       "  <th>Time:</th>                 <td>16:37:08</td>     <th>  Log-Likelihood:    </th> <td> -135.14</td>\n",
       "</tr>\n",
       "<tr>\n",
       "  <th>No. Observations:</th>      <td>    19</td>      <th>  AIC:               </th> <td>   274.3</td>\n",
       "</tr>\n",
       "<tr>\n",
       "  <th>Df Residuals:</th>          <td>    17</td>      <th>  BIC:               </th> <td>   276.2</td>\n",
       "</tr>\n",
       "<tr>\n",
       "  <th>Df Model:</th>              <td>     1</td>      <th>                     </th>     <td> </td>   \n",
       "</tr>\n",
       "<tr>\n",
       "  <th>Covariance Type:</th>      <td>nonrobust</td>    <th>                     </th>     <td> </td>   \n",
       "</tr>\n",
       "</table>\n",
       "<table class=\"simpletable\">\n",
       "<tr>\n",
       "          <td></td>             <th>coef</th>     <th>std err</th>      <th>t</th>      <th>P>|t|</th>  <th>[0.025</th>    <th>0.975]</th>  \n",
       "</tr>\n",
       "<tr>\n",
       "  <th>const</th>             <td>  -55.0648</td> <td> 1335.336</td> <td>   -0.041</td> <td> 0.968</td> <td>-2872.378</td> <td> 2762.249</td>\n",
       "</tr>\n",
       "<tr>\n",
       "  <th>Lagged Employment</th> <td>  144.5184</td> <td>    8.167</td> <td>   17.695</td> <td> 0.000</td> <td>  127.287</td> <td>  161.750</td>\n",
       "</tr>\n",
       "</table>\n",
       "<table class=\"simpletable\">\n",
       "<tr>\n",
       "  <th>Omnibus:</th>       <td>35.615</td> <th>  Durbin-Watson:     </th> <td>   0.803</td>\n",
       "</tr>\n",
       "<tr>\n",
       "  <th>Prob(Omnibus):</th> <td> 0.000</td> <th>  Jarque-Bera (JB):  </th> <td>  87.870</td>\n",
       "</tr>\n",
       "<tr>\n",
       "  <th>Skew:</th>          <td>-2.871</td> <th>  Prob(JB):          </th> <td>8.30e-20</td>\n",
       "</tr>\n",
       "<tr>\n",
       "  <th>Kurtosis:</th>      <td>11.833</td> <th>  Cond. No.          </th> <td>3.03e+03</td>\n",
       "</tr>\n",
       "</table><br/><br/>Notes:<br/>[1] Standard Errors assume that the covariance matrix of the errors is correctly specified.<br/>[2] The condition number is large, 3.03e+03. This might indicate that there are<br/>strong multicollinearity or other numerical problems."
      ],
      "text/latex": [
       "\\begin{center}\n",
       "\\begin{tabular}{lclc}\n",
       "\\toprule\n",
       "\\textbf{Dep. Variable:}    &  GDP (billions)  & \\textbf{  R-squared:         } &     0.949   \\\\\n",
       "\\textbf{Model:}            &       OLS        & \\textbf{  Adj. R-squared:    } &     0.945   \\\\\n",
       "\\textbf{Method:}           &  Least Squares   & \\textbf{  F-statistic:       } &     313.1   \\\\\n",
       "\\textbf{Date:}             & Sun, 10 Nov 2024 & \\textbf{  Prob (F-statistic):} &  2.19e-12   \\\\\n",
       "\\textbf{Time:}             &     16:37:08     & \\textbf{  Log-Likelihood:    } &   -135.14   \\\\\n",
       "\\textbf{No. Observations:} &          19      & \\textbf{  AIC:               } &     274.3   \\\\\n",
       "\\textbf{Df Residuals:}     &          17      & \\textbf{  BIC:               } &     276.2   \\\\\n",
       "\\textbf{Df Model:}         &           1      & \\textbf{                     } &             \\\\\n",
       "\\textbf{Covariance Type:}  &    nonrobust     & \\textbf{                     } &             \\\\\n",
       "\\bottomrule\n",
       "\\end{tabular}\n",
       "\\begin{tabular}{lcccccc}\n",
       "                           & \\textbf{coef} & \\textbf{std err} & \\textbf{t} & \\textbf{P$> |$t$|$} & \\textbf{[0.025} & \\textbf{0.975]}  \\\\\n",
       "\\midrule\n",
       "\\textbf{const}             &     -55.0648  &     1335.336     &    -0.041  &         0.968        &    -2872.378    &     2762.249     \\\\\n",
       "\\textbf{Lagged Employment} &     144.5184  &        8.167     &    17.695  &         0.000        &      127.287    &      161.750     \\\\\n",
       "\\bottomrule\n",
       "\\end{tabular}\n",
       "\\begin{tabular}{lclc}\n",
       "\\textbf{Omnibus:}       & 35.615 & \\textbf{  Durbin-Watson:     } &    0.803  \\\\\n",
       "\\textbf{Prob(Omnibus):} &  0.000 & \\textbf{  Jarque-Bera (JB):  } &   87.870  \\\\\n",
       "\\textbf{Skew:}          & -2.871 & \\textbf{  Prob(JB):          } & 8.30e-20  \\\\\n",
       "\\textbf{Kurtosis:}      & 11.833 & \\textbf{  Cond. No.          } & 3.03e+03  \\\\\n",
       "\\bottomrule\n",
       "\\end{tabular}\n",
       "%\\caption{OLS Regression Results}\n",
       "\\end{center}\n",
       "\n",
       "Notes: \\newline\n",
       " [1] Standard Errors assume that the covariance matrix of the errors is correctly specified. \\newline\n",
       " [2] The condition number is large, 3.03e+03. This might indicate that there are \\newline\n",
       " strong multicollinearity or other numerical problems."
      ],
      "text/plain": [
       "<class 'statsmodels.iolib.summary.Summary'>\n",
       "\"\"\"\n",
       "                            OLS Regression Results                            \n",
       "==============================================================================\n",
       "Dep. Variable:         GDP (billions)   R-squared:                       0.949\n",
       "Model:                            OLS   Adj. R-squared:                  0.945\n",
       "Method:                 Least Squares   F-statistic:                     313.1\n",
       "Date:                Sun, 10 Nov 2024   Prob (F-statistic):           2.19e-12\n",
       "Time:                        16:37:08   Log-Likelihood:                -135.14\n",
       "No. Observations:                  19   AIC:                             274.3\n",
       "Df Residuals:                      17   BIC:                             276.2\n",
       "Df Model:                           1                                         \n",
       "Covariance Type:            nonrobust                                         \n",
       "=====================================================================================\n",
       "                        coef    std err          t      P>|t|      [0.025      0.975]\n",
       "-------------------------------------------------------------------------------------\n",
       "const               -55.0648   1335.336     -0.041      0.968   -2872.378    2762.249\n",
       "Lagged Employment   144.5184      8.167     17.695      0.000     127.287     161.750\n",
       "==============================================================================\n",
       "Omnibus:                       35.615   Durbin-Watson:                   0.803\n",
       "Prob(Omnibus):                  0.000   Jarque-Bera (JB):               87.870\n",
       "Skew:                          -2.871   Prob(JB):                     8.30e-20\n",
       "Kurtosis:                      11.833   Cond. No.                     3.03e+03\n",
       "==============================================================================\n",
       "\n",
       "Notes:\n",
       "[1] Standard Errors assume that the covariance matrix of the errors is correctly specified.\n",
       "[2] The condition number is large, 3.03e+03. This might indicate that there are\n",
       "strong multicollinearity or other numerical problems.\n",
       "\"\"\""
      ]
     },
     "execution_count": 16,
     "metadata": {},
     "output_type": "execute_result"
    }
   ],
   "source": [
    "univariate_ols_model.summary()"
   ]
  },
  {
   "cell_type": "markdown",
   "metadata": {},
   "source": [
    "### Significance Test: At the .05 significance level, does employment in the previous quarter significantly influence GDP? Support your answer using the regression output. \n",
    "\n",
    "- Univariate linear regression: \\\n",
    "=> If we look into the p-value of the \"Lagged Employment\", it has the value of 0 which is less than 0.05. It signifies that \"Lagged Employment\" has significance in determining the \"GDP (Billions)\". \n",
    "\n",
    "- Multivariate linear regression: \\\n",
    "=> If we look into the p-value of the \"Lagged Employment\", it has the value of 0.054 which is greater than 0.05. It means that \"Lagged Employment\" has less significance in determining the \"GDP(Billions)\" when comparing with other predictors. "
   ]
  },
  {
   "cell_type": "markdown",
   "metadata": {},
   "source": [
    "### Variation Explained: What percentage of the variation in GDP is explained by employment in the previous quarter? \n",
    "- Univariate Linear Regression: \\\n",
    "=> While looking into the R-squared value, it has value of 0.949. This means Employment in the previous quarter can explain the 94.9% of variation in GDP. \n",
    "\n",
    "- Multivariate Linear Regression: \\\n",
    "=> It has R-square value of 0.998. This means 99.8 % of the variation in GDP is explained by predictors. Predictors are \"Year\", \"Lagged Employment\", \"One hot encoded quarters\". But, \"Lagged Employment\" has the higher p-value among all predictors."
   ]
  },
  {
   "cell_type": "markdown",
   "metadata": {},
   "source": [
    "### Impact of Employment Increase: Estimate the change in quarterly GDP for a 1 million increase in employment. \n",
    "- Univariate linear regression: \\\n",
    "=> We only have \"Lagged Employment\" as the predictors. Lagged Employment is in Millions and GDP is in billion. It has the coefficient of around 144.5. This means for 1 million increase in employment, there will be 144.5 billion increase in GDP. \n",
    "- Multivariate linear regression: \\\n",
    "=> We have \"Year\", \"Lagged Employment (Millions)\", and One hot encoded quarters as predictors. GDP is in billion. \"Lagged Employment\" has the coefficient of around -19.35. This means they have inverse associations. 1 Million increase in employment leads to 19.35 billion decrease in GDP. "
   ]
  },
  {
   "cell_type": "markdown",
   "metadata": {},
   "source": [
    "# 2. Smartwatch_Pricing\n",
    "\n",
    "Initially, We perform EDA and prepared multivariate linear regression model."
   ]
  },
  {
   "cell_type": "code",
   "execution_count": 17,
   "metadata": {},
   "outputs": [
    {
     "data": {
      "text/html": [
       "<div>\n",
       "<style scoped>\n",
       "    .dataframe tbody tr th:only-of-type {\n",
       "        vertical-align: middle;\n",
       "    }\n",
       "\n",
       "    .dataframe tbody tr th {\n",
       "        vertical-align: top;\n",
       "    }\n",
       "\n",
       "    .dataframe thead th {\n",
       "        text-align: right;\n",
       "    }\n",
       "</style>\n",
       "<table border=\"1\" class=\"dataframe\">\n",
       "  <thead>\n",
       "    <tr style=\"text-align: right;\">\n",
       "      <th></th>\n",
       "      <th>Price (USD)</th>\n",
       "      <th>Battery Life (hours)</th>\n",
       "      <th>Display Quality (1-5)</th>\n",
       "      <th>Water Resistance (meters)</th>\n",
       "    </tr>\n",
       "  </thead>\n",
       "  <tbody>\n",
       "    <tr>\n",
       "      <th>0</th>\n",
       "      <td>250</td>\n",
       "      <td>24</td>\n",
       "      <td>4</td>\n",
       "      <td>50</td>\n",
       "    </tr>\n",
       "    <tr>\n",
       "      <th>1</th>\n",
       "      <td>200</td>\n",
       "      <td>18</td>\n",
       "      <td>3</td>\n",
       "      <td>30</td>\n",
       "    </tr>\n",
       "    <tr>\n",
       "      <th>2</th>\n",
       "      <td>300</td>\n",
       "      <td>30</td>\n",
       "      <td>5</td>\n",
       "      <td>100</td>\n",
       "    </tr>\n",
       "    <tr>\n",
       "      <th>3</th>\n",
       "      <td>150</td>\n",
       "      <td>16</td>\n",
       "      <td>3</td>\n",
       "      <td>20</td>\n",
       "    </tr>\n",
       "    <tr>\n",
       "      <th>4</th>\n",
       "      <td>400</td>\n",
       "      <td>36</td>\n",
       "      <td>5</td>\n",
       "      <td>150</td>\n",
       "    </tr>\n",
       "  </tbody>\n",
       "</table>\n",
       "</div>"
      ],
      "text/plain": [
       "   Price (USD)  Battery Life (hours)  Display Quality (1-5)  \\\n",
       "0          250                    24                      4   \n",
       "1          200                    18                      3   \n",
       "2          300                    30                      5   \n",
       "3          150                    16                      3   \n",
       "4          400                    36                      5   \n",
       "\n",
       "   Water Resistance (meters)  \n",
       "0                         50  \n",
       "1                         30  \n",
       "2                        100  \n",
       "3                         20  \n",
       "4                        150  "
      ]
     },
     "execution_count": 17,
     "metadata": {},
     "output_type": "execute_result"
    }
   ],
   "source": [
    "smartwatch_price_df = pd.read_excel(\"./HW2_Datasets.xlsx\", sheet_name= \"Smartwatch_Pricing\")\n",
    "smartwatch_price_df.head()"
   ]
  },
  {
   "cell_type": "code",
   "execution_count": 18,
   "metadata": {},
   "outputs": [
    {
     "data": {
      "text/html": [
       "<div>\n",
       "<style scoped>\n",
       "    .dataframe tbody tr th:only-of-type {\n",
       "        vertical-align: middle;\n",
       "    }\n",
       "\n",
       "    .dataframe tbody tr th {\n",
       "        vertical-align: top;\n",
       "    }\n",
       "\n",
       "    .dataframe thead th {\n",
       "        text-align: right;\n",
       "    }\n",
       "</style>\n",
       "<table border=\"1\" class=\"dataframe\">\n",
       "  <thead>\n",
       "    <tr style=\"text-align: right;\">\n",
       "      <th></th>\n",
       "      <th>Price (USD)</th>\n",
       "      <th>Battery Life (hours)</th>\n",
       "      <th>Display Quality (1-5)</th>\n",
       "      <th>Water Resistance (meters)</th>\n",
       "    </tr>\n",
       "  </thead>\n",
       "  <tbody>\n",
       "    <tr>\n",
       "      <th>count</th>\n",
       "      <td>20.000000</td>\n",
       "      <td>20.000000</td>\n",
       "      <td>20.000000</td>\n",
       "      <td>20.000000</td>\n",
       "    </tr>\n",
       "    <tr>\n",
       "      <th>mean</th>\n",
       "      <td>298.000000</td>\n",
       "      <td>27.600000</td>\n",
       "      <td>3.850000</td>\n",
       "      <td>78.250000</td>\n",
       "    </tr>\n",
       "    <tr>\n",
       "      <th>std</th>\n",
       "      <td>89.639629</td>\n",
       "      <td>7.315449</td>\n",
       "      <td>0.988087</td>\n",
       "      <td>46.205348</td>\n",
       "    </tr>\n",
       "    <tr>\n",
       "      <th>min</th>\n",
       "      <td>140.000000</td>\n",
       "      <td>15.000000</td>\n",
       "      <td>2.000000</td>\n",
       "      <td>10.000000</td>\n",
       "    </tr>\n",
       "    <tr>\n",
       "      <th>25%</th>\n",
       "      <td>242.500000</td>\n",
       "      <td>21.750000</td>\n",
       "      <td>3.000000</td>\n",
       "      <td>38.750000</td>\n",
       "    </tr>\n",
       "    <tr>\n",
       "      <th>50%</th>\n",
       "      <td>297.500000</td>\n",
       "      <td>28.500000</td>\n",
       "      <td>4.000000</td>\n",
       "      <td>70.000000</td>\n",
       "    </tr>\n",
       "    <tr>\n",
       "      <th>75%</th>\n",
       "      <td>367.500000</td>\n",
       "      <td>33.250000</td>\n",
       "      <td>5.000000</td>\n",
       "      <td>112.500000</td>\n",
       "    </tr>\n",
       "    <tr>\n",
       "      <th>max</th>\n",
       "      <td>430.000000</td>\n",
       "      <td>40.000000</td>\n",
       "      <td>5.000000</td>\n",
       "      <td>160.000000</td>\n",
       "    </tr>\n",
       "  </tbody>\n",
       "</table>\n",
       "</div>"
      ],
      "text/plain": [
       "       Price (USD)  Battery Life (hours)  Display Quality (1-5)  \\\n",
       "count    20.000000             20.000000              20.000000   \n",
       "mean    298.000000             27.600000               3.850000   \n",
       "std      89.639629              7.315449               0.988087   \n",
       "min     140.000000             15.000000               2.000000   \n",
       "25%     242.500000             21.750000               3.000000   \n",
       "50%     297.500000             28.500000               4.000000   \n",
       "75%     367.500000             33.250000               5.000000   \n",
       "max     430.000000             40.000000               5.000000   \n",
       "\n",
       "       Water Resistance (meters)  \n",
       "count                  20.000000  \n",
       "mean                   78.250000  \n",
       "std                    46.205348  \n",
       "min                    10.000000  \n",
       "25%                    38.750000  \n",
       "50%                    70.000000  \n",
       "75%                   112.500000  \n",
       "max                   160.000000  "
      ]
     },
     "execution_count": 18,
     "metadata": {},
     "output_type": "execute_result"
    }
   ],
   "source": [
    "smartwatch_price_df.describe()"
   ]
  },
  {
   "cell_type": "code",
   "execution_count": 19,
   "metadata": {},
   "outputs": [
    {
     "name": "stdout",
     "output_type": "stream",
     "text": [
      "<class 'pandas.core.frame.DataFrame'>\n",
      "RangeIndex: 20 entries, 0 to 19\n",
      "Data columns (total 4 columns):\n",
      " #   Column                     Non-Null Count  Dtype\n",
      "---  ------                     --------------  -----\n",
      " 0   Price (USD)                20 non-null     int64\n",
      " 1   Battery Life (hours)       20 non-null     int64\n",
      " 2   Display Quality (1-5)      20 non-null     int64\n",
      " 3   Water Resistance (meters)  20 non-null     int64\n",
      "dtypes: int64(4)\n",
      "memory usage: 772.0 bytes\n"
     ]
    }
   ],
   "source": [
    "smartwatch_price_df.info()"
   ]
  },
  {
   "cell_type": "code",
   "execution_count": 20,
   "metadata": {},
   "outputs": [],
   "source": [
    "X_train_sw = smartwatch_price_df.drop(columns= [\"Price (USD)\"])\n",
    "y_train_sw = smartwatch_price_df[[\"Price (USD)\"]]\n",
    "\n",
    "X_train_sw_with_const = sm.add_constant(X_train_sw)\n",
    "\n",
    "sw_ols_model = sm.OLS(y_train_sw, X_train_sw_with_const).fit()"
   ]
  },
  {
   "cell_type": "code",
   "execution_count": 21,
   "metadata": {},
   "outputs": [
    {
     "data": {
      "text/html": [
       "<table class=\"simpletable\">\n",
       "<caption>OLS Regression Results</caption>\n",
       "<tr>\n",
       "  <th>Dep. Variable:</th>       <td>Price (USD)</td>   <th>  R-squared:         </th> <td>   0.925</td>\n",
       "</tr>\n",
       "<tr>\n",
       "  <th>Model:</th>                   <td>OLS</td>       <th>  Adj. R-squared:    </th> <td>   0.911</td>\n",
       "</tr>\n",
       "<tr>\n",
       "  <th>Method:</th>             <td>Least Squares</td>  <th>  F-statistic:       </th> <td>   65.52</td>\n",
       "</tr>\n",
       "<tr>\n",
       "  <th>Date:</th>             <td>Sun, 10 Nov 2024</td> <th>  Prob (F-statistic):</th> <td>3.32e-09</td>\n",
       "</tr>\n",
       "<tr>\n",
       "  <th>Time:</th>                 <td>16:37:08</td>     <th>  Log-Likelihood:    </th> <td> -91.915</td>\n",
       "</tr>\n",
       "<tr>\n",
       "  <th>No. Observations:</th>      <td>    20</td>      <th>  AIC:               </th> <td>   191.8</td>\n",
       "</tr>\n",
       "<tr>\n",
       "  <th>Df Residuals:</th>          <td>    16</td>      <th>  BIC:               </th> <td>   195.8</td>\n",
       "</tr>\n",
       "<tr>\n",
       "  <th>Df Model:</th>              <td>     3</td>      <th>                     </th>     <td> </td>   \n",
       "</tr>\n",
       "<tr>\n",
       "  <th>Covariance Type:</th>      <td>nonrobust</td>    <th>                     </th>     <td> </td>   \n",
       "</tr>\n",
       "</table>\n",
       "<table class=\"simpletable\">\n",
       "<tr>\n",
       "              <td></td>                 <th>coef</th>     <th>std err</th>      <th>t</th>      <th>P>|t|</th>  <th>[0.025</th>    <th>0.975]</th>  \n",
       "</tr>\n",
       "<tr>\n",
       "  <th>const</th>                     <td>  -80.8143</td> <td>   56.929</td> <td>   -1.420</td> <td> 0.175</td> <td> -201.499</td> <td>   39.870</td>\n",
       "</tr>\n",
       "<tr>\n",
       "  <th>Battery Life (hours)</th>      <td>   12.9974</td> <td>    3.057</td> <td>    4.252</td> <td> 0.001</td> <td>    6.518</td> <td>   19.477</td>\n",
       "</tr>\n",
       "<tr>\n",
       "  <th>Display Quality (1-5)</th>     <td>   13.2338</td> <td>    8.426</td> <td>    1.571</td> <td> 0.136</td> <td>   -4.629</td> <td>   31.096</td>\n",
       "</tr>\n",
       "<tr>\n",
       "  <th>Water Resistance (meters)</th> <td>   -0.3944</td> <td>    0.512</td> <td>   -0.771</td> <td> 0.452</td> <td>   -1.479</td> <td>    0.690</td>\n",
       "</tr>\n",
       "</table>\n",
       "<table class=\"simpletable\">\n",
       "<tr>\n",
       "  <th>Omnibus:</th>       <td> 1.532</td> <th>  Durbin-Watson:     </th> <td>   2.622</td>\n",
       "</tr>\n",
       "<tr>\n",
       "  <th>Prob(Omnibus):</th> <td> 0.465</td> <th>  Jarque-Bera (JB):  </th> <td>   1.186</td>\n",
       "</tr>\n",
       "<tr>\n",
       "  <th>Skew:</th>          <td> 0.388</td> <th>  Prob(JB):          </th> <td>   0.553</td>\n",
       "</tr>\n",
       "<tr>\n",
       "  <th>Kurtosis:</th>      <td> 2.095</td> <th>  Cond. No.          </th> <td>    901.</td>\n",
       "</tr>\n",
       "</table><br/><br/>Notes:<br/>[1] Standard Errors assume that the covariance matrix of the errors is correctly specified."
      ],
      "text/latex": [
       "\\begin{center}\n",
       "\\begin{tabular}{lclc}\n",
       "\\toprule\n",
       "\\textbf{Dep. Variable:}            &   Price (USD)    & \\textbf{  R-squared:         } &     0.925   \\\\\n",
       "\\textbf{Model:}                    &       OLS        & \\textbf{  Adj. R-squared:    } &     0.911   \\\\\n",
       "\\textbf{Method:}                   &  Least Squares   & \\textbf{  F-statistic:       } &     65.52   \\\\\n",
       "\\textbf{Date:}                     & Sun, 10 Nov 2024 & \\textbf{  Prob (F-statistic):} &  3.32e-09   \\\\\n",
       "\\textbf{Time:}                     &     16:37:08     & \\textbf{  Log-Likelihood:    } &   -91.915   \\\\\n",
       "\\textbf{No. Observations:}         &          20      & \\textbf{  AIC:               } &     191.8   \\\\\n",
       "\\textbf{Df Residuals:}             &          16      & \\textbf{  BIC:               } &     195.8   \\\\\n",
       "\\textbf{Df Model:}                 &           3      & \\textbf{                     } &             \\\\\n",
       "\\textbf{Covariance Type:}          &    nonrobust     & \\textbf{                     } &             \\\\\n",
       "\\bottomrule\n",
       "\\end{tabular}\n",
       "\\begin{tabular}{lcccccc}\n",
       "                                   & \\textbf{coef} & \\textbf{std err} & \\textbf{t} & \\textbf{P$> |$t$|$} & \\textbf{[0.025} & \\textbf{0.975]}  \\\\\n",
       "\\midrule\n",
       "\\textbf{const}                     &     -80.8143  &       56.929     &    -1.420  &         0.175        &     -201.499    &       39.870     \\\\\n",
       "\\textbf{Battery Life (hours)}      &      12.9974  &        3.057     &     4.252  &         0.001        &        6.518    &       19.477     \\\\\n",
       "\\textbf{Display Quality (1-5)}     &      13.2338  &        8.426     &     1.571  &         0.136        &       -4.629    &       31.096     \\\\\n",
       "\\textbf{Water Resistance (meters)} &      -0.3944  &        0.512     &    -0.771  &         0.452        &       -1.479    &        0.690     \\\\\n",
       "\\bottomrule\n",
       "\\end{tabular}\n",
       "\\begin{tabular}{lclc}\n",
       "\\textbf{Omnibus:}       &  1.532 & \\textbf{  Durbin-Watson:     } &    2.622  \\\\\n",
       "\\textbf{Prob(Omnibus):} &  0.465 & \\textbf{  Jarque-Bera (JB):  } &    1.186  \\\\\n",
       "\\textbf{Skew:}          &  0.388 & \\textbf{  Prob(JB):          } &    0.553  \\\\\n",
       "\\textbf{Kurtosis:}      &  2.095 & \\textbf{  Cond. No.          } &     901.  \\\\\n",
       "\\bottomrule\n",
       "\\end{tabular}\n",
       "%\\caption{OLS Regression Results}\n",
       "\\end{center}\n",
       "\n",
       "Notes: \\newline\n",
       " [1] Standard Errors assume that the covariance matrix of the errors is correctly specified."
      ],
      "text/plain": [
       "<class 'statsmodels.iolib.summary.Summary'>\n",
       "\"\"\"\n",
       "                            OLS Regression Results                            \n",
       "==============================================================================\n",
       "Dep. Variable:            Price (USD)   R-squared:                       0.925\n",
       "Model:                            OLS   Adj. R-squared:                  0.911\n",
       "Method:                 Least Squares   F-statistic:                     65.52\n",
       "Date:                Sun, 10 Nov 2024   Prob (F-statistic):           3.32e-09\n",
       "Time:                        16:37:08   Log-Likelihood:                -91.915\n",
       "No. Observations:                  20   AIC:                             191.8\n",
       "Df Residuals:                      16   BIC:                             195.8\n",
       "Df Model:                           3                                         \n",
       "Covariance Type:            nonrobust                                         \n",
       "=============================================================================================\n",
       "                                coef    std err          t      P>|t|      [0.025      0.975]\n",
       "---------------------------------------------------------------------------------------------\n",
       "const                       -80.8143     56.929     -1.420      0.175    -201.499      39.870\n",
       "Battery Life (hours)         12.9974      3.057      4.252      0.001       6.518      19.477\n",
       "Display Quality (1-5)        13.2338      8.426      1.571      0.136      -4.629      31.096\n",
       "Water Resistance (meters)    -0.3944      0.512     -0.771      0.452      -1.479       0.690\n",
       "==============================================================================\n",
       "Omnibus:                        1.532   Durbin-Watson:                   2.622\n",
       "Prob(Omnibus):                  0.465   Jarque-Bera (JB):                1.186\n",
       "Skew:                           0.388   Prob(JB):                        0.553\n",
       "Kurtosis:                       2.095   Cond. No.                         901.\n",
       "==============================================================================\n",
       "\n",
       "Notes:\n",
       "[1] Standard Errors assume that the covariance matrix of the errors is correctly specified.\n",
       "\"\"\""
      ]
     },
     "execution_count": 21,
     "metadata": {},
     "output_type": "execute_result"
    }
   ],
   "source": [
    "sw_ols_model.summary()"
   ]
  },
  {
   "cell_type": "markdown",
   "metadata": {},
   "source": [
    "### Model Significance: Is the overall model significant at the 0.05 level? Explain your reasoning.\n",
    "=> F-statistic signifies the overall model significant. For out multivariate linear regression model, It has F-statistics value of $3.32 * 10^{-9}$ which is much smaller than 0.05. This means overall model has significance at the 0.05 level. "
   ]
  },
  {
   "cell_type": "markdown",
   "metadata": {},
   "source": [
    "### Predicted Price: Use the model to predict the price of the new smartwatch\n",
    "Tech Innovate expects their new product to have 20 hours of battery life, a display quality of 4, and 30 meters of water resistance.\\\n",
    "We predict the price of the new product by using the linear regression model we trained. "
   ]
  },
  {
   "cell_type": "code",
   "execution_count": 22,
   "metadata": {},
   "outputs": [
    {
     "name": "stdout",
     "output_type": "stream",
     "text": [
      "Predicted price for the new smartwatch: $220.24\n"
     ]
    }
   ],
   "source": [
    "new_smartwatch_with_const = pd.DataFrame({\n",
    "    \"const\": [1],\n",
    "    \"Battery Life (hours)\": [20],\n",
    "    \"Display Quality (1-5)\": [4],\n",
    "    \"Water Resistance (meters)\": [30]\n",
    "})\n",
    "\n",
    "new_sw_predicted_price = sw_ols_model.predict(new_smartwatch_with_const)\n",
    "\n",
    "print(f\"Predicted price for the new smartwatch: ${new_sw_predicted_price.iloc[0]:.2f}\")"
   ]
  },
  {
   "cell_type": "markdown",
   "metadata": {},
   "source": [
    "### Significant Drivers: Based on the model, which factors are significant drivers of price? Are there any variables that seem counterintuitive? \n",
    "\n",
    "<table>\n",
    "  <tr>\n",
    "    <th>Variable</th>\n",
    "    <th>coef</th>\n",
    "    <th>std err</th>\n",
    "    <th>t</th>\n",
    "    <th>P>|t|</th>\n",
    "  </tr>\n",
    "  <tr>\n",
    "    <td>const</td>\n",
    "    <td>-80.8143</td>\n",
    "    <td>56.929</td>\n",
    "    <td>-1.420</td>\n",
    "    <td>0.175</td>\n",
    "  </tr>\n",
    "  <tr>\n",
    "    <td>Battery Life (hours)</td>\n",
    "    <td>12.9974</td>\n",
    "    <td>3.057</td>\n",
    "    <td>4.252</td>\n",
    "    <td>0.001</td>\n",
    "  </tr>\n",
    "  <tr>\n",
    "    <td>Display Quality (1-5)</td>\n",
    "    <td>13.2338</td>\n",
    "    <td>8.426</td>\n",
    "    <td>1.571</td>\n",
    "    <td>0.136</td>\n",
    "  </tr>\n",
    "  <tr>\n",
    "    <td>Water Resistance (meters)</td>\n",
    "    <td>-0.3944</td>\n",
    "    <td>0.512</td>\n",
    "    <td>-0.771</td>\n",
    "    <td>0.452</td>\n",
    "  </tr>\n",
    "</table>\n",
    "\n",
    "As we can see in the table above, \"Battery Life (hours)\" has least p-value which means it is the most significant factor while determining variance in price. After that, \"Display Quality\" has the moderate significance and \"Water Resistance (meters)\" has least significance. \\\n",
    "\\\n",
    "While looking into the coefficients of 3 predictors, \n",
    "- \"Battery Life (hours)\" and \"Display Quality (1-5)\" has positive coefficient values. This means whenever battery life or display quality increases, it increases the price of the watch. \n",
    "- But, \"Water Resistance (meters)\" has negative coefficient. It is the counterintuitive variable. whenever, water resistance increases, it tends to decrease the price of watch. "
   ]
  },
  {
   "cell_type": "markdown",
   "metadata": {},
   "source": [
    "### Correlation Analysis: Check for multicollinearity by calculating the correlations between the drivers. Which pairs of variables show a strong correlation? "
   ]
  },
  {
   "cell_type": "code",
   "execution_count": 23,
   "metadata": {},
   "outputs": [
    {
     "data": {
      "text/html": [
       "<div>\n",
       "<style scoped>\n",
       "    .dataframe tbody tr th:only-of-type {\n",
       "        vertical-align: middle;\n",
       "    }\n",
       "\n",
       "    .dataframe tbody tr th {\n",
       "        vertical-align: top;\n",
       "    }\n",
       "\n",
       "    .dataframe thead th {\n",
       "        text-align: right;\n",
       "    }\n",
       "</style>\n",
       "<table border=\"1\" class=\"dataframe\">\n",
       "  <thead>\n",
       "    <tr style=\"text-align: right;\">\n",
       "      <th></th>\n",
       "      <th>Battery Life (hours)</th>\n",
       "      <th>Display Quality (1-5)</th>\n",
       "      <th>Water Resistance (meters)</th>\n",
       "    </tr>\n",
       "  </thead>\n",
       "  <tbody>\n",
       "    <tr>\n",
       "      <th>Battery Life (hours)</th>\n",
       "      <td>1.000000</td>\n",
       "      <td>0.617456</td>\n",
       "      <td>0.960879</td>\n",
       "    </tr>\n",
       "    <tr>\n",
       "      <th>Display Quality (1-5)</th>\n",
       "      <td>0.617456</td>\n",
       "      <td>1.000000</td>\n",
       "      <td>0.668344</td>\n",
       "    </tr>\n",
       "    <tr>\n",
       "      <th>Water Resistance (meters)</th>\n",
       "      <td>0.960879</td>\n",
       "      <td>0.668344</td>\n",
       "      <td>1.000000</td>\n",
       "    </tr>\n",
       "  </tbody>\n",
       "</table>\n",
       "</div>"
      ],
      "text/plain": [
       "                           Battery Life (hours)  Display Quality (1-5)  \\\n",
       "Battery Life (hours)                   1.000000               0.617456   \n",
       "Display Quality (1-5)                  0.617456               1.000000   \n",
       "Water Resistance (meters)              0.960879               0.668344   \n",
       "\n",
       "                           Water Resistance (meters)  \n",
       "Battery Life (hours)                        0.960879  \n",
       "Display Quality (1-5)                       0.668344  \n",
       "Water Resistance (meters)                   1.000000  "
      ]
     },
     "execution_count": 23,
     "metadata": {},
     "output_type": "execute_result"
    }
   ],
   "source": [
    "# Price field dropped as we are trying to check multicollinearity among predictors\n",
    "sw_correlation_matrix = smartwatch_price_df.drop(columns= [\"Price (USD)\"]).corr()\n",
    "sw_correlation_matrix"
   ]
  },
  {
   "cell_type": "code",
   "execution_count": 24,
   "metadata": {},
   "outputs": [
    {
     "data": {
      "image/png": "[encoded data removed]",
      "text/plain": [
       "<Figure size 640x480 with 2 Axes>"
      ]
     },
     "metadata": {},
     "output_type": "display_data"
    }
   ],
   "source": [
    "sns.heatmap(data= sw_correlation_matrix, annot= True, cmap= \"YlGnBu\")\n",
    "plt.xticks(rotation=45)\n",
    "plt.yticks(rotation=45)\n",
    "plt.title('Correlation Matrix of Predictors and heatmap')\n",
    "plt.show()"
   ]
  },
  {
   "cell_type": "markdown",
   "metadata": {},
   "source": [
    "According to the above correlation matrices, it is found that \n",
    "- battery life and water resistance has the maximum correlation coefficient of 0.96. It means there is strong association and collinearity between \"Battery Life (hours)\" and \"Water Resistance (meter)\". "
   ]
  },
  {
   "cell_type": "markdown",
   "metadata": {},
   "source": [
    "### Revised Model: If necessary, remove any highly correlated drivers and rerun the regression. Has the model improved? \n",
    "=> As we can see, there is high correlation between \"Battery Life (hours)\" and \"Water Resistance (meter)\", we will be removing \"Water Resistance (meter)\" from predictors and preparing new linear regression model. "
   ]
  },
  {
   "cell_type": "code",
   "execution_count": 25,
   "metadata": {},
   "outputs": [],
   "source": [
    "new_X_train_sw = smartwatch_price_df.drop(columns= [\"Price (USD)\", \"Water Resistance (meters)\"])\n",
    "\n",
    "new_X_train_sw_with_const = sm.add_constant(new_X_train_sw)\n",
    "\n",
    "new_sw_ols_model = sm.OLS(y_train_sw, new_X_train_sw_with_const).fit()"
   ]
  },
  {
   "cell_type": "code",
   "execution_count": 26,
   "metadata": {},
   "outputs": [
    {
     "data": {
      "text/html": [
       "<table class=\"simpletable\">\n",
       "<caption>OLS Regression Results</caption>\n",
       "<tr>\n",
       "  <th>Dep. Variable:</th>       <td>Price (USD)</td>   <th>  R-squared:         </th> <td>   0.922</td>\n",
       "</tr>\n",
       "<tr>\n",
       "  <th>Model:</th>                   <td>OLS</td>       <th>  Adj. R-squared:    </th> <td>   0.913</td>\n",
       "</tr>\n",
       "<tr>\n",
       "  <th>Method:</th>             <td>Least Squares</td>  <th>  F-statistic:       </th> <td>   100.4</td>\n",
       "</tr>\n",
       "<tr>\n",
       "  <th>Date:</th>             <td>Sun, 10 Nov 2024</td> <th>  Prob (F-statistic):</th> <td>3.85e-10</td>\n",
       "</tr>\n",
       "<tr>\n",
       "  <th>Time:</th>                 <td>16:37:08</td>     <th>  Log-Likelihood:    </th> <td> -92.280</td>\n",
       "</tr>\n",
       "<tr>\n",
       "  <th>No. Observations:</th>      <td>    20</td>      <th>  AIC:               </th> <td>   190.6</td>\n",
       "</tr>\n",
       "<tr>\n",
       "  <th>Df Residuals:</th>          <td>    17</td>      <th>  BIC:               </th> <td>   193.5</td>\n",
       "</tr>\n",
       "<tr>\n",
       "  <th>Df Model:</th>              <td>     2</td>      <th>                     </th>     <td> </td>   \n",
       "</tr>\n",
       "<tr>\n",
       "  <th>Covariance Type:</th>      <td>nonrobust</td>    <th>                     </th>     <td> </td>   \n",
       "</tr>\n",
       "</table>\n",
       "<table class=\"simpletable\">\n",
       "<tr>\n",
       "            <td></td>               <th>coef</th>     <th>std err</th>      <th>t</th>      <th>P>|t|</th>  <th>[0.025</th>    <th>0.975]</th>  \n",
       "</tr>\n",
       "<tr>\n",
       "  <th>const</th>                 <td>  -42.1472</td> <td>   26.583</td> <td>   -1.585</td> <td> 0.131</td> <td>  -98.233</td> <td>   13.939</td>\n",
       "</tr>\n",
       "<tr>\n",
       "  <th>Battery Life (hours)</th>  <td>   10.7902</td> <td>    1.056</td> <td>   10.222</td> <td> 0.000</td> <td>    8.563</td> <td>   13.017</td>\n",
       "</tr>\n",
       "<tr>\n",
       "  <th>Display Quality (1-5)</th> <td>   10.9969</td> <td>    7.815</td> <td>    1.407</td> <td> 0.177</td> <td>   -5.492</td> <td>   27.486</td>\n",
       "</tr>\n",
       "</table>\n",
       "<table class=\"simpletable\">\n",
       "<tr>\n",
       "  <th>Omnibus:</th>       <td> 1.555</td> <th>  Durbin-Watson:     </th> <td>   2.494</td>\n",
       "</tr>\n",
       "<tr>\n",
       "  <th>Prob(Omnibus):</th> <td> 0.460</td> <th>  Jarque-Bera (JB):  </th> <td>   1.287</td>\n",
       "</tr>\n",
       "<tr>\n",
       "  <th>Skew:</th>          <td> 0.464</td> <th>  Prob(JB):          </th> <td>   0.525</td>\n",
       "</tr>\n",
       "<tr>\n",
       "  <th>Kurtosis:</th>      <td> 2.172</td> <th>  Cond. No.          </th> <td>    130.</td>\n",
       "</tr>\n",
       "</table><br/><br/>Notes:<br/>[1] Standard Errors assume that the covariance matrix of the errors is correctly specified."
      ],
      "text/latex": [
       "\\begin{center}\n",
       "\\begin{tabular}{lclc}\n",
       "\\toprule\n",
       "\\textbf{Dep. Variable:}        &   Price (USD)    & \\textbf{  R-squared:         } &     0.922   \\\\\n",
       "\\textbf{Model:}                &       OLS        & \\textbf{  Adj. R-squared:    } &     0.913   \\\\\n",
       "\\textbf{Method:}               &  Least Squares   & \\textbf{  F-statistic:       } &     100.4   \\\\\n",
       "\\textbf{Date:}                 & Sun, 10 Nov 2024 & \\textbf{  Prob (F-statistic):} &  3.85e-10   \\\\\n",
       "\\textbf{Time:}                 &     16:37:08     & \\textbf{  Log-Likelihood:    } &   -92.280   \\\\\n",
       "\\textbf{No. Observations:}     &          20      & \\textbf{  AIC:               } &     190.6   \\\\\n",
       "\\textbf{Df Residuals:}         &          17      & \\textbf{  BIC:               } &     193.5   \\\\\n",
       "\\textbf{Df Model:}             &           2      & \\textbf{                     } &             \\\\\n",
       "\\textbf{Covariance Type:}      &    nonrobust     & \\textbf{                     } &             \\\\\n",
       "\\bottomrule\n",
       "\\end{tabular}\n",
       "\\begin{tabular}{lcccccc}\n",
       "                               & \\textbf{coef} & \\textbf{std err} & \\textbf{t} & \\textbf{P$> |$t$|$} & \\textbf{[0.025} & \\textbf{0.975]}  \\\\\n",
       "\\midrule\n",
       "\\textbf{const}                 &     -42.1472  &       26.583     &    -1.585  &         0.131        &      -98.233    &       13.939     \\\\\n",
       "\\textbf{Battery Life (hours)}  &      10.7902  &        1.056     &    10.222  &         0.000        &        8.563    &       13.017     \\\\\n",
       "\\textbf{Display Quality (1-5)} &      10.9969  &        7.815     &     1.407  &         0.177        &       -5.492    &       27.486     \\\\\n",
       "\\bottomrule\n",
       "\\end{tabular}\n",
       "\\begin{tabular}{lclc}\n",
       "\\textbf{Omnibus:}       &  1.555 & \\textbf{  Durbin-Watson:     } &    2.494  \\\\\n",
       "\\textbf{Prob(Omnibus):} &  0.460 & \\textbf{  Jarque-Bera (JB):  } &    1.287  \\\\\n",
       "\\textbf{Skew:}          &  0.464 & \\textbf{  Prob(JB):          } &    0.525  \\\\\n",
       "\\textbf{Kurtosis:}      &  2.172 & \\textbf{  Cond. No.          } &     130.  \\\\\n",
       "\\bottomrule\n",
       "\\end{tabular}\n",
       "%\\caption{OLS Regression Results}\n",
       "\\end{center}\n",
       "\n",
       "Notes: \\newline\n",
       " [1] Standard Errors assume that the covariance matrix of the errors is correctly specified."
      ],
      "text/plain": [
       "<class 'statsmodels.iolib.summary.Summary'>\n",
       "\"\"\"\n",
       "                            OLS Regression Results                            \n",
       "==============================================================================\n",
       "Dep. Variable:            Price (USD)   R-squared:                       0.922\n",
       "Model:                            OLS   Adj. R-squared:                  0.913\n",
       "Method:                 Least Squares   F-statistic:                     100.4\n",
       "Date:                Sun, 10 Nov 2024   Prob (F-statistic):           3.85e-10\n",
       "Time:                        16:37:08   Log-Likelihood:                -92.280\n",
       "No. Observations:                  20   AIC:                             190.6\n",
       "Df Residuals:                      17   BIC:                             193.5\n",
       "Df Model:                           2                                         \n",
       "Covariance Type:            nonrobust                                         \n",
       "=========================================================================================\n",
       "                            coef    std err          t      P>|t|      [0.025      0.975]\n",
       "-----------------------------------------------------------------------------------------\n",
       "const                   -42.1472     26.583     -1.585      0.131     -98.233      13.939\n",
       "Battery Life (hours)     10.7902      1.056     10.222      0.000       8.563      13.017\n",
       "Display Quality (1-5)    10.9969      7.815      1.407      0.177      -5.492      27.486\n",
       "==============================================================================\n",
       "Omnibus:                        1.555   Durbin-Watson:                   2.494\n",
       "Prob(Omnibus):                  0.460   Jarque-Bera (JB):                1.287\n",
       "Skew:                           0.464   Prob(JB):                        0.525\n",
       "Kurtosis:                       2.172   Cond. No.                         130.\n",
       "==============================================================================\n",
       "\n",
       "Notes:\n",
       "[1] Standard Errors assume that the covariance matrix of the errors is correctly specified.\n",
       "\"\"\""
      ]
     },
     "execution_count": 26,
     "metadata": {},
     "output_type": "execute_result"
    }
   ],
   "source": [
    "new_sw_ols_model.summary()"
   ]
  },
  {
   "cell_type": "markdown",
   "metadata": {},
   "source": [
    "Yes, Removing the highly correlated predictor (In this case Water Resistance) has improved the model.\n",
    "\n",
    "Newly trained linear regression model has the performance similar to original model. \n",
    "- New model has R-squared value of 0.922 which mean Battery life and Display quality can explain the 92.2% variance in price. But in old model, there is 0.925 R-squared value which mean Battery life, Display quality and Water Resistance (meters) 92.5% variance in price. \n",
    "- If we look into the adjusted R-squared value of both old model and new model, new model has higher adjusted R-squared value of 0.913 in comparision with old model which has adjusted R-squared value of 0.911. This mean, removing water resistance variable as predictor actually improves the predictive ability of the model."
   ]
  }
 ],
 "metadata": {
  "kernelspec": {
   "display_name": "base",
   "language": "python",
   "name": "python3"
  },
  "language_info": {
   "codemirror_mode": {
    "name": "ipython",
    "version": 3
   },
   "file_extension": ".py",
   "mimetype": "text/x-python",
   "name": "python",
   "nbconvert_exporter": "python",
   "pygments_lexer": "ipython3",
   "version": "3.12.4"
  }
 },
 "nbformat": 4,
 "nbformat_minor": 2
}
